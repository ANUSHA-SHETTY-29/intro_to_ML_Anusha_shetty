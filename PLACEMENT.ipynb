{
  "nbformat": 4,
  "nbformat_minor": 0,
  "metadata": {
    "colab": {
      "name": "PLACEMENT.ipynb",
      "provenance": [],
      "toc_visible": true
    },
    "kernelspec": {
      "name": "python3",
      "display_name": "Python 3"
    }
  },
  "cells": [
    {
      "cell_type": "markdown",
      "metadata": {
        "id": "7INOXYOYyCV8",
        "colab_type": "text"
      },
      "source": [
        "# DATA PREPROCESSING"
      ]
    },
    {
      "cell_type": "markdown",
      "metadata": {
        "id": "V6NCaVx8BTD7",
        "colab_type": "text"
      },
      "source": [
        "IMPORTING PANDAS TO READ THE FILE,NUMPY FOR ARRAY,MATPLOTLIB.PYPLOT FOR PLOTING , SEABORN FOR STATISTICAL GRAPH (HERE WE ARE USING BARPLOT),SIMPLE IMPUTER TO FILL THE MISSING VALUES"
      ]
    },
    {
      "cell_type": "code",
      "metadata": {
        "id": "tnVHKMLT0B-i",
        "colab_type": "code",
        "colab": {
          "base_uri": "https://localhost:8080/",
          "height": 72
        },
        "outputId": "b135ef70-bb1e-4b69-ed6b-25dbbede9742"
      },
      "source": [
        "import pandas as pd\n",
        "import numpy as np\n",
        "import matplotlib.pyplot as plt\n",
        "import seaborn as sns\n",
        "from sklearn.impute import SimpleImputer"
      ],
      "execution_count": 1,
      "outputs": [
        {
          "output_type": "stream",
          "text": [
            "/usr/local/lib/python3.6/dist-packages/statsmodels/tools/_testing.py:19: FutureWarning: pandas.util.testing is deprecated. Use the functions in the public API at pandas.testing instead.\n",
            "  import pandas.util.testing as tm\n"
          ],
          "name": "stderr"
        }
      ]
    },
    {
      "cell_type": "markdown",
      "metadata": {
        "id": "UIRh1JtlaJ9d",
        "colab_type": "text"
      },
      "source": [
        "READING THE CONTENT FROM THE FILE"
      ]
    },
    {
      "cell_type": "code",
      "metadata": {
        "id": "65AFJSd92d82",
        "colab_type": "code",
        "colab": {}
      },
      "source": [
        "data = pd.read_csv('/content/datasets_596958_1073629_Placement_Data_Full_Class.csv')"
      ],
      "execution_count": 2,
      "outputs": []
    },
    {
      "cell_type": "markdown",
      "metadata": {
        "id": "Jvkh-Oyx0V9d",
        "colab_type": "text"
      },
      "source": [
        "WE USE HEAD AND TAIL TO CHECK WHETHER ALL THE DATA IS READ PROPERLY "
      ]
    },
    {
      "cell_type": "code",
      "metadata": {
        "id": "SCVWAuHR2lUj",
        "colab_type": "code",
        "colab": {
          "base_uri": "https://localhost:8080/",
          "height": 239
        },
        "outputId": "f4553efa-f8ea-4412-9542-71755a7980d3"
      },
      "source": [
        "data.head()"
      ],
      "execution_count": 3,
      "outputs": [
        {
          "output_type": "execute_result",
          "data": {
            "text/html": [
              "<div>\n",
              "<style scoped>\n",
              "    .dataframe tbody tr th:only-of-type {\n",
              "        vertical-align: middle;\n",
              "    }\n",
              "\n",
              "    .dataframe tbody tr th {\n",
              "        vertical-align: top;\n",
              "    }\n",
              "\n",
              "    .dataframe thead th {\n",
              "        text-align: right;\n",
              "    }\n",
              "</style>\n",
              "<table border=\"1\" class=\"dataframe\">\n",
              "  <thead>\n",
              "    <tr style=\"text-align: right;\">\n",
              "      <th></th>\n",
              "      <th>sl_no</th>\n",
              "      <th>gender</th>\n",
              "      <th>ssc_p</th>\n",
              "      <th>ssc_b</th>\n",
              "      <th>hsc_p</th>\n",
              "      <th>hsc_b</th>\n",
              "      <th>hsc_s</th>\n",
              "      <th>degree_p</th>\n",
              "      <th>degree_t</th>\n",
              "      <th>workex</th>\n",
              "      <th>etest_p</th>\n",
              "      <th>specialisation</th>\n",
              "      <th>mba_p</th>\n",
              "      <th>status</th>\n",
              "      <th>salary</th>\n",
              "    </tr>\n",
              "  </thead>\n",
              "  <tbody>\n",
              "    <tr>\n",
              "      <th>0</th>\n",
              "      <td>1</td>\n",
              "      <td>M</td>\n",
              "      <td>67.00</td>\n",
              "      <td>Others</td>\n",
              "      <td>91.00</td>\n",
              "      <td>Others</td>\n",
              "      <td>Commerce</td>\n",
              "      <td>58.00</td>\n",
              "      <td>Sci&amp;Tech</td>\n",
              "      <td>No</td>\n",
              "      <td>55.0</td>\n",
              "      <td>Mkt&amp;HR</td>\n",
              "      <td>58.80</td>\n",
              "      <td>Placed</td>\n",
              "      <td>270000.0</td>\n",
              "    </tr>\n",
              "    <tr>\n",
              "      <th>1</th>\n",
              "      <td>2</td>\n",
              "      <td>M</td>\n",
              "      <td>79.33</td>\n",
              "      <td>Central</td>\n",
              "      <td>78.33</td>\n",
              "      <td>Others</td>\n",
              "      <td>Science</td>\n",
              "      <td>77.48</td>\n",
              "      <td>Sci&amp;Tech</td>\n",
              "      <td>Yes</td>\n",
              "      <td>86.5</td>\n",
              "      <td>Mkt&amp;Fin</td>\n",
              "      <td>66.28</td>\n",
              "      <td>Placed</td>\n",
              "      <td>200000.0</td>\n",
              "    </tr>\n",
              "    <tr>\n",
              "      <th>2</th>\n",
              "      <td>3</td>\n",
              "      <td>M</td>\n",
              "      <td>65.00</td>\n",
              "      <td>Central</td>\n",
              "      <td>68.00</td>\n",
              "      <td>Central</td>\n",
              "      <td>Arts</td>\n",
              "      <td>64.00</td>\n",
              "      <td>Comm&amp;Mgmt</td>\n",
              "      <td>No</td>\n",
              "      <td>75.0</td>\n",
              "      <td>Mkt&amp;Fin</td>\n",
              "      <td>57.80</td>\n",
              "      <td>Placed</td>\n",
              "      <td>250000.0</td>\n",
              "    </tr>\n",
              "    <tr>\n",
              "      <th>3</th>\n",
              "      <td>4</td>\n",
              "      <td>M</td>\n",
              "      <td>56.00</td>\n",
              "      <td>Central</td>\n",
              "      <td>52.00</td>\n",
              "      <td>Central</td>\n",
              "      <td>Science</td>\n",
              "      <td>52.00</td>\n",
              "      <td>Sci&amp;Tech</td>\n",
              "      <td>No</td>\n",
              "      <td>66.0</td>\n",
              "      <td>Mkt&amp;HR</td>\n",
              "      <td>59.43</td>\n",
              "      <td>Not Placed</td>\n",
              "      <td>NaN</td>\n",
              "    </tr>\n",
              "    <tr>\n",
              "      <th>4</th>\n",
              "      <td>5</td>\n",
              "      <td>M</td>\n",
              "      <td>85.80</td>\n",
              "      <td>Central</td>\n",
              "      <td>73.60</td>\n",
              "      <td>Central</td>\n",
              "      <td>Commerce</td>\n",
              "      <td>73.30</td>\n",
              "      <td>Comm&amp;Mgmt</td>\n",
              "      <td>No</td>\n",
              "      <td>96.8</td>\n",
              "      <td>Mkt&amp;Fin</td>\n",
              "      <td>55.50</td>\n",
              "      <td>Placed</td>\n",
              "      <td>425000.0</td>\n",
              "    </tr>\n",
              "  </tbody>\n",
              "</table>\n",
              "</div>"
            ],
            "text/plain": [
              "   sl_no gender  ssc_p    ssc_b  ...  specialisation  mba_p      status    salary\n",
              "0      1      M  67.00   Others  ...          Mkt&HR  58.80      Placed  270000.0\n",
              "1      2      M  79.33  Central  ...         Mkt&Fin  66.28      Placed  200000.0\n",
              "2      3      M  65.00  Central  ...         Mkt&Fin  57.80      Placed  250000.0\n",
              "3      4      M  56.00  Central  ...          Mkt&HR  59.43  Not Placed       NaN\n",
              "4      5      M  85.80  Central  ...         Mkt&Fin  55.50      Placed  425000.0\n",
              "\n",
              "[5 rows x 15 columns]"
            ]
          },
          "metadata": {
            "tags": []
          },
          "execution_count": 3
        }
      ]
    },
    {
      "cell_type": "code",
      "metadata": {
        "id": "B0IOWIaJ2pU7",
        "colab_type": "code",
        "colab": {
          "base_uri": "https://localhost:8080/",
          "height": 239
        },
        "outputId": "d3cb084d-14ce-4722-8ed4-941eb8ef7c7d"
      },
      "source": [
        "data.tail()"
      ],
      "execution_count": 4,
      "outputs": [
        {
          "output_type": "execute_result",
          "data": {
            "text/html": [
              "<div>\n",
              "<style scoped>\n",
              "    .dataframe tbody tr th:only-of-type {\n",
              "        vertical-align: middle;\n",
              "    }\n",
              "\n",
              "    .dataframe tbody tr th {\n",
              "        vertical-align: top;\n",
              "    }\n",
              "\n",
              "    .dataframe thead th {\n",
              "        text-align: right;\n",
              "    }\n",
              "</style>\n",
              "<table border=\"1\" class=\"dataframe\">\n",
              "  <thead>\n",
              "    <tr style=\"text-align: right;\">\n",
              "      <th></th>\n",
              "      <th>sl_no</th>\n",
              "      <th>gender</th>\n",
              "      <th>ssc_p</th>\n",
              "      <th>ssc_b</th>\n",
              "      <th>hsc_p</th>\n",
              "      <th>hsc_b</th>\n",
              "      <th>hsc_s</th>\n",
              "      <th>degree_p</th>\n",
              "      <th>degree_t</th>\n",
              "      <th>workex</th>\n",
              "      <th>etest_p</th>\n",
              "      <th>specialisation</th>\n",
              "      <th>mba_p</th>\n",
              "      <th>status</th>\n",
              "      <th>salary</th>\n",
              "    </tr>\n",
              "  </thead>\n",
              "  <tbody>\n",
              "    <tr>\n",
              "      <th>210</th>\n",
              "      <td>211</td>\n",
              "      <td>M</td>\n",
              "      <td>80.6</td>\n",
              "      <td>Others</td>\n",
              "      <td>82.0</td>\n",
              "      <td>Others</td>\n",
              "      <td>Commerce</td>\n",
              "      <td>77.6</td>\n",
              "      <td>Comm&amp;Mgmt</td>\n",
              "      <td>No</td>\n",
              "      <td>91.0</td>\n",
              "      <td>Mkt&amp;Fin</td>\n",
              "      <td>74.49</td>\n",
              "      <td>Placed</td>\n",
              "      <td>400000.0</td>\n",
              "    </tr>\n",
              "    <tr>\n",
              "      <th>211</th>\n",
              "      <td>212</td>\n",
              "      <td>M</td>\n",
              "      <td>58.0</td>\n",
              "      <td>Others</td>\n",
              "      <td>60.0</td>\n",
              "      <td>Others</td>\n",
              "      <td>Science</td>\n",
              "      <td>72.0</td>\n",
              "      <td>Sci&amp;Tech</td>\n",
              "      <td>No</td>\n",
              "      <td>74.0</td>\n",
              "      <td>Mkt&amp;Fin</td>\n",
              "      <td>53.62</td>\n",
              "      <td>Placed</td>\n",
              "      <td>275000.0</td>\n",
              "    </tr>\n",
              "    <tr>\n",
              "      <th>212</th>\n",
              "      <td>213</td>\n",
              "      <td>M</td>\n",
              "      <td>67.0</td>\n",
              "      <td>Others</td>\n",
              "      <td>67.0</td>\n",
              "      <td>Others</td>\n",
              "      <td>Commerce</td>\n",
              "      <td>73.0</td>\n",
              "      <td>Comm&amp;Mgmt</td>\n",
              "      <td>Yes</td>\n",
              "      <td>59.0</td>\n",
              "      <td>Mkt&amp;Fin</td>\n",
              "      <td>69.72</td>\n",
              "      <td>Placed</td>\n",
              "      <td>295000.0</td>\n",
              "    </tr>\n",
              "    <tr>\n",
              "      <th>213</th>\n",
              "      <td>214</td>\n",
              "      <td>F</td>\n",
              "      <td>74.0</td>\n",
              "      <td>Others</td>\n",
              "      <td>66.0</td>\n",
              "      <td>Others</td>\n",
              "      <td>Commerce</td>\n",
              "      <td>58.0</td>\n",
              "      <td>Comm&amp;Mgmt</td>\n",
              "      <td>No</td>\n",
              "      <td>70.0</td>\n",
              "      <td>Mkt&amp;HR</td>\n",
              "      <td>60.23</td>\n",
              "      <td>Placed</td>\n",
              "      <td>204000.0</td>\n",
              "    </tr>\n",
              "    <tr>\n",
              "      <th>214</th>\n",
              "      <td>215</td>\n",
              "      <td>M</td>\n",
              "      <td>62.0</td>\n",
              "      <td>Central</td>\n",
              "      <td>58.0</td>\n",
              "      <td>Others</td>\n",
              "      <td>Science</td>\n",
              "      <td>53.0</td>\n",
              "      <td>Comm&amp;Mgmt</td>\n",
              "      <td>No</td>\n",
              "      <td>89.0</td>\n",
              "      <td>Mkt&amp;HR</td>\n",
              "      <td>60.22</td>\n",
              "      <td>Not Placed</td>\n",
              "      <td>NaN</td>\n",
              "    </tr>\n",
              "  </tbody>\n",
              "</table>\n",
              "</div>"
            ],
            "text/plain": [
              "     sl_no gender  ssc_p    ssc_b  ...  specialisation  mba_p      status    salary\n",
              "210    211      M   80.6   Others  ...         Mkt&Fin  74.49      Placed  400000.0\n",
              "211    212      M   58.0   Others  ...         Mkt&Fin  53.62      Placed  275000.0\n",
              "212    213      M   67.0   Others  ...         Mkt&Fin  69.72      Placed  295000.0\n",
              "213    214      F   74.0   Others  ...          Mkt&HR  60.23      Placed  204000.0\n",
              "214    215      M   62.0  Central  ...          Mkt&HR  60.22  Not Placed       NaN\n",
              "\n",
              "[5 rows x 15 columns]"
            ]
          },
          "metadata": {
            "tags": []
          },
          "execution_count": 4
        }
      ]
    },
    {
      "cell_type": "markdown",
      "metadata": {
        "id": "PcaZK6ZN0wWC",
        "colab_type": "text"
      },
      "source": [
        "THIS DESCRIBES THE DATASET WHICH IS IMPORTED"
      ]
    },
    {
      "cell_type": "code",
      "metadata": {
        "id": "lEFc2p9a8gP4",
        "colab_type": "code",
        "colab": {
          "base_uri": "https://localhost:8080/",
          "height": 294
        },
        "outputId": "9953448b-2066-41de-ea68-f34a30086597"
      },
      "source": [
        "data.describe()"
      ],
      "execution_count": 5,
      "outputs": [
        {
          "output_type": "execute_result",
          "data": {
            "text/html": [
              "<div>\n",
              "<style scoped>\n",
              "    .dataframe tbody tr th:only-of-type {\n",
              "        vertical-align: middle;\n",
              "    }\n",
              "\n",
              "    .dataframe tbody tr th {\n",
              "        vertical-align: top;\n",
              "    }\n",
              "\n",
              "    .dataframe thead th {\n",
              "        text-align: right;\n",
              "    }\n",
              "</style>\n",
              "<table border=\"1\" class=\"dataframe\">\n",
              "  <thead>\n",
              "    <tr style=\"text-align: right;\">\n",
              "      <th></th>\n",
              "      <th>sl_no</th>\n",
              "      <th>ssc_p</th>\n",
              "      <th>hsc_p</th>\n",
              "      <th>degree_p</th>\n",
              "      <th>etest_p</th>\n",
              "      <th>mba_p</th>\n",
              "      <th>salary</th>\n",
              "    </tr>\n",
              "  </thead>\n",
              "  <tbody>\n",
              "    <tr>\n",
              "      <th>count</th>\n",
              "      <td>215.000000</td>\n",
              "      <td>215.000000</td>\n",
              "      <td>215.000000</td>\n",
              "      <td>215.000000</td>\n",
              "      <td>215.000000</td>\n",
              "      <td>215.000000</td>\n",
              "      <td>148.000000</td>\n",
              "    </tr>\n",
              "    <tr>\n",
              "      <th>mean</th>\n",
              "      <td>108.000000</td>\n",
              "      <td>67.303395</td>\n",
              "      <td>66.333163</td>\n",
              "      <td>66.370186</td>\n",
              "      <td>72.100558</td>\n",
              "      <td>62.278186</td>\n",
              "      <td>288655.405405</td>\n",
              "    </tr>\n",
              "    <tr>\n",
              "      <th>std</th>\n",
              "      <td>62.209324</td>\n",
              "      <td>10.827205</td>\n",
              "      <td>10.897509</td>\n",
              "      <td>7.358743</td>\n",
              "      <td>13.275956</td>\n",
              "      <td>5.833385</td>\n",
              "      <td>93457.452420</td>\n",
              "    </tr>\n",
              "    <tr>\n",
              "      <th>min</th>\n",
              "      <td>1.000000</td>\n",
              "      <td>40.890000</td>\n",
              "      <td>37.000000</td>\n",
              "      <td>50.000000</td>\n",
              "      <td>50.000000</td>\n",
              "      <td>51.210000</td>\n",
              "      <td>200000.000000</td>\n",
              "    </tr>\n",
              "    <tr>\n",
              "      <th>25%</th>\n",
              "      <td>54.500000</td>\n",
              "      <td>60.600000</td>\n",
              "      <td>60.900000</td>\n",
              "      <td>61.000000</td>\n",
              "      <td>60.000000</td>\n",
              "      <td>57.945000</td>\n",
              "      <td>240000.000000</td>\n",
              "    </tr>\n",
              "    <tr>\n",
              "      <th>50%</th>\n",
              "      <td>108.000000</td>\n",
              "      <td>67.000000</td>\n",
              "      <td>65.000000</td>\n",
              "      <td>66.000000</td>\n",
              "      <td>71.000000</td>\n",
              "      <td>62.000000</td>\n",
              "      <td>265000.000000</td>\n",
              "    </tr>\n",
              "    <tr>\n",
              "      <th>75%</th>\n",
              "      <td>161.500000</td>\n",
              "      <td>75.700000</td>\n",
              "      <td>73.000000</td>\n",
              "      <td>72.000000</td>\n",
              "      <td>83.500000</td>\n",
              "      <td>66.255000</td>\n",
              "      <td>300000.000000</td>\n",
              "    </tr>\n",
              "    <tr>\n",
              "      <th>max</th>\n",
              "      <td>215.000000</td>\n",
              "      <td>89.400000</td>\n",
              "      <td>97.700000</td>\n",
              "      <td>91.000000</td>\n",
              "      <td>98.000000</td>\n",
              "      <td>77.890000</td>\n",
              "      <td>940000.000000</td>\n",
              "    </tr>\n",
              "  </tbody>\n",
              "</table>\n",
              "</div>"
            ],
            "text/plain": [
              "            sl_no       ssc_p  ...       mba_p         salary\n",
              "count  215.000000  215.000000  ...  215.000000     148.000000\n",
              "mean   108.000000   67.303395  ...   62.278186  288655.405405\n",
              "std     62.209324   10.827205  ...    5.833385   93457.452420\n",
              "min      1.000000   40.890000  ...   51.210000  200000.000000\n",
              "25%     54.500000   60.600000  ...   57.945000  240000.000000\n",
              "50%    108.000000   67.000000  ...   62.000000  265000.000000\n",
              "75%    161.500000   75.700000  ...   66.255000  300000.000000\n",
              "max    215.000000   89.400000  ...   77.890000  940000.000000\n",
              "\n",
              "[8 rows x 7 columns]"
            ]
          },
          "metadata": {
            "tags": []
          },
          "execution_count": 5
        }
      ]
    },
    {
      "cell_type": "markdown",
      "metadata": {
        "id": "TPaJ_faf0onD",
        "colab_type": "text"
      },
      "source": [
        "THIS INFO GIVES US THE INFORMATION ABOUT THE NULL COUNTS"
      ]
    },
    {
      "cell_type": "code",
      "metadata": {
        "id": "DAuX3XMc8lQa",
        "colab_type": "code",
        "colab": {
          "base_uri": "https://localhost:8080/",
          "height": 399
        },
        "outputId": "c75d013a-06c9-46cc-a94e-79159ecc5767"
      },
      "source": [
        "data.info()"
      ],
      "execution_count": 6,
      "outputs": [
        {
          "output_type": "stream",
          "text": [
            "<class 'pandas.core.frame.DataFrame'>\n",
            "RangeIndex: 215 entries, 0 to 214\n",
            "Data columns (total 15 columns):\n",
            " #   Column          Non-Null Count  Dtype  \n",
            "---  ------          --------------  -----  \n",
            " 0   sl_no           215 non-null    int64  \n",
            " 1   gender          215 non-null    object \n",
            " 2   ssc_p           215 non-null    float64\n",
            " 3   ssc_b           215 non-null    object \n",
            " 4   hsc_p           215 non-null    float64\n",
            " 5   hsc_b           215 non-null    object \n",
            " 6   hsc_s           215 non-null    object \n",
            " 7   degree_p        215 non-null    float64\n",
            " 8   degree_t        215 non-null    object \n",
            " 9   workex          215 non-null    object \n",
            " 10  etest_p         215 non-null    float64\n",
            " 11  specialisation  215 non-null    object \n",
            " 12  mba_p           215 non-null    float64\n",
            " 13  status          215 non-null    object \n",
            " 14  salary          148 non-null    float64\n",
            "dtypes: float64(6), int64(1), object(8)\n",
            "memory usage: 25.3+ KB\n"
          ],
          "name": "stdout"
        }
      ]
    },
    {
      "cell_type": "markdown",
      "metadata": {
        "id": "IVWqjD2N0dFe",
        "colab_type": "text"
      },
      "source": [
        "THIS UNIQUE IS USED TO FIND/KNOW THE UNIQUE VALUES IN THE DATASET"
      ]
    },
    {
      "cell_type": "code",
      "metadata": {
        "id": "HFfADqWOz1Wd",
        "colab_type": "code",
        "colab": {
          "base_uri": "https://localhost:8080/",
          "height": 35
        },
        "outputId": "947e226a-f178-49c2-ecbf-0744fe28407c"
      },
      "source": [
        "data['gender'].unique()"
      ],
      "execution_count": 7,
      "outputs": [
        {
          "output_type": "execute_result",
          "data": {
            "text/plain": [
              "array(['M', 'F'], dtype=object)"
            ]
          },
          "metadata": {
            "tags": []
          },
          "execution_count": 7
        }
      ]
    },
    {
      "cell_type": "code",
      "metadata": {
        "id": "c8UiTn-wz427",
        "colab_type": "code",
        "colab": {
          "base_uri": "https://localhost:8080/",
          "height": 35
        },
        "outputId": "ca6d3dcf-23ce-4521-cf9d-40a922d3229d"
      },
      "source": [
        "data['ssc_b'].unique()"
      ],
      "execution_count": 8,
      "outputs": [
        {
          "output_type": "execute_result",
          "data": {
            "text/plain": [
              "array(['Others', 'Central'], dtype=object)"
            ]
          },
          "metadata": {
            "tags": []
          },
          "execution_count": 8
        }
      ]
    },
    {
      "cell_type": "code",
      "metadata": {
        "id": "ggS1U6jl0A0N",
        "colab_type": "code",
        "colab": {
          "base_uri": "https://localhost:8080/",
          "height": 35
        },
        "outputId": "81778e31-d6cd-44a1-df7f-900b815fb1f4"
      },
      "source": [
        "data['hsc_b'].unique()"
      ],
      "execution_count": 9,
      "outputs": [
        {
          "output_type": "execute_result",
          "data": {
            "text/plain": [
              "array(['Others', 'Central'], dtype=object)"
            ]
          },
          "metadata": {
            "tags": []
          },
          "execution_count": 9
        }
      ]
    },
    {
      "cell_type": "code",
      "metadata": {
        "id": "g7uf_-bR0Hrw",
        "colab_type": "code",
        "colab": {
          "base_uri": "https://localhost:8080/",
          "height": 35
        },
        "outputId": "fef39b45-8f1b-418c-ff3a-199bc1277b24"
      },
      "source": [
        "data['hsc_s'].unique()"
      ],
      "execution_count": 10,
      "outputs": [
        {
          "output_type": "execute_result",
          "data": {
            "text/plain": [
              "array(['Commerce', 'Science', 'Arts'], dtype=object)"
            ]
          },
          "metadata": {
            "tags": []
          },
          "execution_count": 10
        }
      ]
    },
    {
      "cell_type": "code",
      "metadata": {
        "id": "_gNZ8JCS0P4O",
        "colab_type": "code",
        "colab": {
          "base_uri": "https://localhost:8080/",
          "height": 35
        },
        "outputId": "fe0058d1-784c-4a20-dc4f-a46f48b21b77"
      },
      "source": [
        "data['degree_t'].unique()"
      ],
      "execution_count": 11,
      "outputs": [
        {
          "output_type": "execute_result",
          "data": {
            "text/plain": [
              "array(['Sci&Tech', 'Comm&Mgmt', 'Others'], dtype=object)"
            ]
          },
          "metadata": {
            "tags": []
          },
          "execution_count": 11
        }
      ]
    },
    {
      "cell_type": "code",
      "metadata": {
        "id": "J0whVxYz0V_C",
        "colab_type": "code",
        "colab": {
          "base_uri": "https://localhost:8080/",
          "height": 35
        },
        "outputId": "cee652fa-6852-48e7-9d42-47c188aa1553"
      },
      "source": [
        "data['specialisation'].unique()"
      ],
      "execution_count": 12,
      "outputs": [
        {
          "output_type": "execute_result",
          "data": {
            "text/plain": [
              "array(['Mkt&HR', 'Mkt&Fin'], dtype=object)"
            ]
          },
          "metadata": {
            "tags": []
          },
          "execution_count": 12
        }
      ]
    },
    {
      "cell_type": "markdown",
      "metadata": {
        "id": "olKyV4S608E5",
        "colab_type": "text"
      },
      "source": [
        "THIS CORR() GIVES US THE CORRELATION BETWEEN EACH COLUMN WITH ONE ANOTHER"
      ]
    },
    {
      "cell_type": "code",
      "metadata": {
        "id": "zDBPpML12uE4",
        "colab_type": "code",
        "colab": {
          "base_uri": "https://localhost:8080/",
          "height": 263
        },
        "outputId": "218cb845-8258-45c7-d599-5637f4f414d8"
      },
      "source": [
        "data.corr()"
      ],
      "execution_count": 13,
      "outputs": [
        {
          "output_type": "execute_result",
          "data": {
            "text/html": [
              "<div>\n",
              "<style scoped>\n",
              "    .dataframe tbody tr th:only-of-type {\n",
              "        vertical-align: middle;\n",
              "    }\n",
              "\n",
              "    .dataframe tbody tr th {\n",
              "        vertical-align: top;\n",
              "    }\n",
              "\n",
              "    .dataframe thead th {\n",
              "        text-align: right;\n",
              "    }\n",
              "</style>\n",
              "<table border=\"1\" class=\"dataframe\">\n",
              "  <thead>\n",
              "    <tr style=\"text-align: right;\">\n",
              "      <th></th>\n",
              "      <th>sl_no</th>\n",
              "      <th>ssc_p</th>\n",
              "      <th>hsc_p</th>\n",
              "      <th>degree_p</th>\n",
              "      <th>etest_p</th>\n",
              "      <th>mba_p</th>\n",
              "      <th>salary</th>\n",
              "    </tr>\n",
              "  </thead>\n",
              "  <tbody>\n",
              "    <tr>\n",
              "      <th>sl_no</th>\n",
              "      <td>1.000000</td>\n",
              "      <td>-0.078155</td>\n",
              "      <td>-0.085711</td>\n",
              "      <td>-0.088281</td>\n",
              "      <td>0.063636</td>\n",
              "      <td>0.022327</td>\n",
              "      <td>0.063764</td>\n",
              "    </tr>\n",
              "    <tr>\n",
              "      <th>ssc_p</th>\n",
              "      <td>-0.078155</td>\n",
              "      <td>1.000000</td>\n",
              "      <td>0.511472</td>\n",
              "      <td>0.538404</td>\n",
              "      <td>0.261993</td>\n",
              "      <td>0.388478</td>\n",
              "      <td>0.035330</td>\n",
              "    </tr>\n",
              "    <tr>\n",
              "      <th>hsc_p</th>\n",
              "      <td>-0.085711</td>\n",
              "      <td>0.511472</td>\n",
              "      <td>1.000000</td>\n",
              "      <td>0.434206</td>\n",
              "      <td>0.245113</td>\n",
              "      <td>0.354823</td>\n",
              "      <td>0.076819</td>\n",
              "    </tr>\n",
              "    <tr>\n",
              "      <th>degree_p</th>\n",
              "      <td>-0.088281</td>\n",
              "      <td>0.538404</td>\n",
              "      <td>0.434206</td>\n",
              "      <td>1.000000</td>\n",
              "      <td>0.224470</td>\n",
              "      <td>0.402364</td>\n",
              "      <td>-0.019272</td>\n",
              "    </tr>\n",
              "    <tr>\n",
              "      <th>etest_p</th>\n",
              "      <td>0.063636</td>\n",
              "      <td>0.261993</td>\n",
              "      <td>0.245113</td>\n",
              "      <td>0.224470</td>\n",
              "      <td>1.000000</td>\n",
              "      <td>0.218055</td>\n",
              "      <td>0.178307</td>\n",
              "    </tr>\n",
              "    <tr>\n",
              "      <th>mba_p</th>\n",
              "      <td>0.022327</td>\n",
              "      <td>0.388478</td>\n",
              "      <td>0.354823</td>\n",
              "      <td>0.402364</td>\n",
              "      <td>0.218055</td>\n",
              "      <td>1.000000</td>\n",
              "      <td>0.175013</td>\n",
              "    </tr>\n",
              "    <tr>\n",
              "      <th>salary</th>\n",
              "      <td>0.063764</td>\n",
              "      <td>0.035330</td>\n",
              "      <td>0.076819</td>\n",
              "      <td>-0.019272</td>\n",
              "      <td>0.178307</td>\n",
              "      <td>0.175013</td>\n",
              "      <td>1.000000</td>\n",
              "    </tr>\n",
              "  </tbody>\n",
              "</table>\n",
              "</div>"
            ],
            "text/plain": [
              "             sl_no     ssc_p     hsc_p  degree_p   etest_p     mba_p    salary\n",
              "sl_no     1.000000 -0.078155 -0.085711 -0.088281  0.063636  0.022327  0.063764\n",
              "ssc_p    -0.078155  1.000000  0.511472  0.538404  0.261993  0.388478  0.035330\n",
              "hsc_p    -0.085711  0.511472  1.000000  0.434206  0.245113  0.354823  0.076819\n",
              "degree_p -0.088281  0.538404  0.434206  1.000000  0.224470  0.402364 -0.019272\n",
              "etest_p   0.063636  0.261993  0.245113  0.224470  1.000000  0.218055  0.178307\n",
              "mba_p     0.022327  0.388478  0.354823  0.402364  0.218055  1.000000  0.175013\n",
              "salary    0.063764  0.035330  0.076819 -0.019272  0.178307  0.175013  1.000000"
            ]
          },
          "metadata": {
            "tags": []
          },
          "execution_count": 13
        }
      ]
    },
    {
      "cell_type": "markdown",
      "metadata": {
        "id": "wPqlINWL1Aqz",
        "colab_type": "text"
      },
      "source": [
        "WE ARE PLOTTING THE CORRELATION WITH PLT IMPORTED FROM MATPLOTLIB"
      ]
    },
    {
      "cell_type": "code",
      "metadata": {
        "id": "IEsLjkgA3QwO",
        "colab_type": "code",
        "colab": {
          "base_uri": "https://localhost:8080/",
          "height": 387
        },
        "outputId": "295a7079-6db5-49f9-eea6-e19cfdfa9808"
      },
      "source": [
        "plt.plot(data.corr())"
      ],
      "execution_count": 14,
      "outputs": [
        {
          "output_type": "execute_result",
          "data": {
            "text/plain": [
              "[<matplotlib.lines.Line2D at 0x7f538f112a90>,\n",
              " <matplotlib.lines.Line2D at 0x7f538f112ba8>,\n",
              " <matplotlib.lines.Line2D at 0x7f538f112cf8>,\n",
              " <matplotlib.lines.Line2D at 0x7f538f112e48>,\n",
              " <matplotlib.lines.Line2D at 0x7f538f112f98>,\n",
              " <matplotlib.lines.Line2D at 0x7f538f125128>,\n",
              " <matplotlib.lines.Line2D at 0x7f538f125278>]"
            ]
          },
          "metadata": {
            "tags": []
          },
          "execution_count": 14
        },
        {
          "output_type": "display_data",
          "data": {
            "image/png": "[encoded data removed]",
            "text/plain": [
              "<Figure size 432x288 with 1 Axes>"
            ]
          },
          "metadata": {
            "tags": [],
            "needs_background": "light"
          }
        }
      ]
    },
    {
      "cell_type": "markdown",
      "metadata": {
        "id": "VBbGERkWBdtI",
        "colab_type": "text"
      },
      "source": [
        "BARPLOT IS PLOTED SO THAT WE CAN VISUALIZE THE COLUMN VALUES IN X AND Y AXIS"
      ]
    },
    {
      "cell_type": "code",
      "metadata": {
        "id": "bRXowB483b0m",
        "colab_type": "code",
        "colab": {
          "base_uri": "https://localhost:8080/",
          "height": 297
        },
        "outputId": "846faf7e-f444-491a-ac0b-d7fe8783a4a8"
      },
      "source": [
        "sns.barplot(x='ssc_p',y='hsc_b',data=data)"
      ],
      "execution_count": 15,
      "outputs": [
        {
          "output_type": "execute_result",
          "data": {
            "text/plain": [
              "<matplotlib.axes._subplots.AxesSubplot at 0x7f538f1b8080>"
            ]
          },
          "metadata": {
            "tags": []
          },
          "execution_count": 15
        },
        {
          "output_type": "display_data",
          "data": {
            "image/png": "[encoded data removed]",
            "text/plain": [
              "<Figure size 432x288 with 1 Axes>"
            ]
          },
          "metadata": {
            "tags": [],
            "needs_background": "light"
          }
        }
      ]
    },
    {
      "cell_type": "code",
      "metadata": {
        "id": "5GeTkURF7qOQ",
        "colab_type": "code",
        "colab": {
          "base_uri": "https://localhost:8080/",
          "height": 297
        },
        "outputId": "60607573-7141-443b-8936-afa38ee30c51"
      },
      "source": [
        "sns.barplot(x='degree_t',y='etest_p',data=data)"
      ],
      "execution_count": 16,
      "outputs": [
        {
          "output_type": "execute_result",
          "data": {
            "text/plain": [
              "<matplotlib.axes._subplots.AxesSubplot at 0x7f538ec35f28>"
            ]
          },
          "metadata": {
            "tags": []
          },
          "execution_count": 16
        },
        {
          "output_type": "display_data",
          "data": {
            "image/png": "[encoded data removed]",
            "text/plain": [
              "<Figure size 432x288 with 1 Axes>"
            ]
          },
          "metadata": {
            "tags": [],
            "needs_background": "light"
          }
        }
      ]
    },
    {
      "cell_type": "code",
      "metadata": {
        "id": "Oo1vdLBi7_i2",
        "colab_type": "code",
        "colab": {
          "base_uri": "https://localhost:8080/",
          "height": 297
        },
        "outputId": "734ed892-fb07-4599-eef2-53e80ac92e62"
      },
      "source": [
        "sns.barplot(x='ssc_p',y='mba_p',data=data)"
      ],
      "execution_count": 17,
      "outputs": [
        {
          "output_type": "execute_result",
          "data": {
            "text/plain": [
              "<matplotlib.axes._subplots.AxesSubplot at 0x7f538eb477f0>"
            ]
          },
          "metadata": {
            "tags": []
          },
          "execution_count": 17
        },
        {
          "output_type": "display_data",
          "data": {
            "image/png": "[encoded data removed]",
            "text/plain": [
              "<Figure size 432x288 with 1 Axes>"
            ]
          },
          "metadata": {
            "tags": [],
            "needs_background": "light"
          }
        }
      ]
    },
    {
      "cell_type": "code",
      "metadata": {
        "id": "7Jw24uzTIbfk",
        "colab_type": "code",
        "colab": {}
      },
      "source": [
        "from sklearn.preprocessing import LabelEncoder"
      ],
      "execution_count": 18,
      "outputs": []
    },
    {
      "cell_type": "code",
      "metadata": {
        "id": "fiBWgY7AIl1e",
        "colab_type": "code",
        "colab": {}
      },
      "source": [
        "le = LabelEncoder()"
      ],
      "execution_count": 19,
      "outputs": []
    },
    {
      "cell_type": "code",
      "metadata": {
        "id": "AYue51ruIrFu",
        "colab_type": "code",
        "colab": {}
      },
      "source": [
        "data['gender']=le.fit_transform(data['gender'])"
      ],
      "execution_count": 20,
      "outputs": []
    },
    {
      "cell_type": "code",
      "metadata": {
        "id": "9lCCSF49I4ov",
        "colab_type": "code",
        "colab": {}
      },
      "source": [
        "data['ssc_b']=le.fit_transform(data['ssc_b'])"
      ],
      "execution_count": 21,
      "outputs": []
    },
    {
      "cell_type": "code",
      "metadata": {
        "id": "_LEmXfz0JDo6",
        "colab_type": "code",
        "colab": {}
      },
      "source": [
        "data['hsc_b']=le.fit_transform(data['hsc_b'])"
      ],
      "execution_count": 22,
      "outputs": []
    },
    {
      "cell_type": "code",
      "metadata": {
        "id": "SqlRmwgzJRn0",
        "colab_type": "code",
        "colab": {}
      },
      "source": [
        "data['hsc_s']=le.fit_transform(data['hsc_s'])"
      ],
      "execution_count": 23,
      "outputs": []
    },
    {
      "cell_type": "code",
      "metadata": {
        "id": "fslA-M-cJkod",
        "colab_type": "code",
        "colab": {}
      },
      "source": [
        "data['degree_t']=le.fit_transform(data['degree_t'])"
      ],
      "execution_count": 24,
      "outputs": []
    },
    {
      "cell_type": "code",
      "metadata": {
        "id": "-JPfvzb2J0zi",
        "colab_type": "code",
        "colab": {}
      },
      "source": [
        "data['workex']=le.fit_transform(data['workex'])"
      ],
      "execution_count": 25,
      "outputs": []
    },
    {
      "cell_type": "code",
      "metadata": {
        "id": "jT6QorK-KH6a",
        "colab_type": "code",
        "colab": {}
      },
      "source": [
        "data['specialisation']=le.fit_transform(data['specialisation'])"
      ],
      "execution_count": 26,
      "outputs": []
    },
    {
      "cell_type": "code",
      "metadata": {
        "id": "oH8waktMKUTC",
        "colab_type": "code",
        "colab": {}
      },
      "source": [
        "data['status']=le.fit_transform(data['status'])"
      ],
      "execution_count": 27,
      "outputs": []
    },
    {
      "cell_type": "markdown",
      "metadata": {
        "id": "kz3x5lXoC3Tf",
        "colab_type": "text"
      },
      "source": [
        "SPLITING INPUT AND TARGET VALUES"
      ]
    },
    {
      "cell_type": "code",
      "metadata": {
        "id": "FJI2xzUw9i9J",
        "colab_type": "code",
        "colab": {}
      },
      "source": [
        "x = data.drop(['status','salary','sl_no'],axis=1)\n",
        "y = data.iloc[: ,13:14]"
      ],
      "execution_count": 28,
      "outputs": []
    },
    {
      "cell_type": "code",
      "metadata": {
        "id": "SCA2YJASjADQ",
        "colab_type": "code",
        "colab": {
          "base_uri": "https://localhost:8080/",
          "height": 415
        },
        "outputId": "82ab231a-512c-4e58-c1dc-64ef63674108"
      },
      "source": [
        "y"
      ],
      "execution_count": 29,
      "outputs": [
        {
          "output_type": "execute_result",
          "data": {
            "text/html": [
              "<div>\n",
              "<style scoped>\n",
              "    .dataframe tbody tr th:only-of-type {\n",
              "        vertical-align: middle;\n",
              "    }\n",
              "\n",
              "    .dataframe tbody tr th {\n",
              "        vertical-align: top;\n",
              "    }\n",
              "\n",
              "    .dataframe thead th {\n",
              "        text-align: right;\n",
              "    }\n",
              "</style>\n",
              "<table border=\"1\" class=\"dataframe\">\n",
              "  <thead>\n",
              "    <tr style=\"text-align: right;\">\n",
              "      <th></th>\n",
              "      <th>status</th>\n",
              "    </tr>\n",
              "  </thead>\n",
              "  <tbody>\n",
              "    <tr>\n",
              "      <th>0</th>\n",
              "      <td>1</td>\n",
              "    </tr>\n",
              "    <tr>\n",
              "      <th>1</th>\n",
              "      <td>1</td>\n",
              "    </tr>\n",
              "    <tr>\n",
              "      <th>2</th>\n",
              "      <td>1</td>\n",
              "    </tr>\n",
              "    <tr>\n",
              "      <th>3</th>\n",
              "      <td>0</td>\n",
              "    </tr>\n",
              "    <tr>\n",
              "      <th>4</th>\n",
              "      <td>1</td>\n",
              "    </tr>\n",
              "    <tr>\n",
              "      <th>...</th>\n",
              "      <td>...</td>\n",
              "    </tr>\n",
              "    <tr>\n",
              "      <th>210</th>\n",
              "      <td>1</td>\n",
              "    </tr>\n",
              "    <tr>\n",
              "      <th>211</th>\n",
              "      <td>1</td>\n",
              "    </tr>\n",
              "    <tr>\n",
              "      <th>212</th>\n",
              "      <td>1</td>\n",
              "    </tr>\n",
              "    <tr>\n",
              "      <th>213</th>\n",
              "      <td>1</td>\n",
              "    </tr>\n",
              "    <tr>\n",
              "      <th>214</th>\n",
              "      <td>0</td>\n",
              "    </tr>\n",
              "  </tbody>\n",
              "</table>\n",
              "<p>215 rows × 1 columns</p>\n",
              "</div>"
            ],
            "text/plain": [
              "     status\n",
              "0         1\n",
              "1         1\n",
              "2         1\n",
              "3         0\n",
              "4         1\n",
              "..      ...\n",
              "210       1\n",
              "211       1\n",
              "212       1\n",
              "213       1\n",
              "214       0\n",
              "\n",
              "[215 rows x 1 columns]"
            ]
          },
          "metadata": {
            "tags": []
          },
          "execution_count": 29
        }
      ]
    },
    {
      "cell_type": "markdown",
      "metadata": {
        "id": "Vutr8vHHC0xl",
        "colab_type": "text"
      },
      "source": [
        "TEST AND TRAIN SPLIT"
      ]
    },
    {
      "cell_type": "code",
      "metadata": {
        "id": "RZ6vYs22_x45",
        "colab_type": "code",
        "colab": {}
      },
      "source": [
        "from sklearn.model_selection import train_test_split"
      ],
      "execution_count": 30,
      "outputs": []
    },
    {
      "cell_type": "code",
      "metadata": {
        "id": "ZFLC9-H4_-Bo",
        "colab_type": "code",
        "colab": {}
      },
      "source": [
        "x_train,x_test,y_train,y_test =train_test_split(x,y,test_size=0.25)"
      ],
      "execution_count": 31,
      "outputs": []
    },
    {
      "cell_type": "code",
      "metadata": {
        "id": "zlHxfkHEBrF-",
        "colab_type": "code",
        "colab": {
          "base_uri": "https://localhost:8080/",
          "height": 415
        },
        "outputId": "6ded8923-d3d4-4b70-920d-347700dc61bd"
      },
      "source": [
        "x_train"
      ],
      "execution_count": 32,
      "outputs": [
        {
          "output_type": "execute_result",
          "data": {
            "text/html": [
              "<div>\n",
              "<style scoped>\n",
              "    .dataframe tbody tr th:only-of-type {\n",
              "        vertical-align: middle;\n",
              "    }\n",
              "\n",
              "    .dataframe tbody tr th {\n",
              "        vertical-align: top;\n",
              "    }\n",
              "\n",
              "    .dataframe thead th {\n",
              "        text-align: right;\n",
              "    }\n",
              "</style>\n",
              "<table border=\"1\" class=\"dataframe\">\n",
              "  <thead>\n",
              "    <tr style=\"text-align: right;\">\n",
              "      <th></th>\n",
              "      <th>gender</th>\n",
              "      <th>ssc_p</th>\n",
              "      <th>ssc_b</th>\n",
              "      <th>hsc_p</th>\n",
              "      <th>hsc_b</th>\n",
              "      <th>hsc_s</th>\n",
              "      <th>degree_p</th>\n",
              "      <th>degree_t</th>\n",
              "      <th>workex</th>\n",
              "      <th>etest_p</th>\n",
              "      <th>specialisation</th>\n",
              "      <th>mba_p</th>\n",
              "    </tr>\n",
              "  </thead>\n",
              "  <tbody>\n",
              "    <tr>\n",
              "      <th>113</th>\n",
              "      <td>0</td>\n",
              "      <td>73.96</td>\n",
              "      <td>1</td>\n",
              "      <td>79.00</td>\n",
              "      <td>1</td>\n",
              "      <td>1</td>\n",
              "      <td>67.00</td>\n",
              "      <td>0</td>\n",
              "      <td>0</td>\n",
              "      <td>72.15</td>\n",
              "      <td>0</td>\n",
              "      <td>63.08</td>\n",
              "    </tr>\n",
              "    <tr>\n",
              "      <th>120</th>\n",
              "      <td>1</td>\n",
              "      <td>58.00</td>\n",
              "      <td>1</td>\n",
              "      <td>40.00</td>\n",
              "      <td>1</td>\n",
              "      <td>2</td>\n",
              "      <td>59.00</td>\n",
              "      <td>0</td>\n",
              "      <td>0</td>\n",
              "      <td>73.00</td>\n",
              "      <td>1</td>\n",
              "      <td>58.81</td>\n",
              "    </tr>\n",
              "    <tr>\n",
              "      <th>80</th>\n",
              "      <td>0</td>\n",
              "      <td>69.00</td>\n",
              "      <td>1</td>\n",
              "      <td>62.00</td>\n",
              "      <td>1</td>\n",
              "      <td>1</td>\n",
              "      <td>69.00</td>\n",
              "      <td>0</td>\n",
              "      <td>1</td>\n",
              "      <td>67.00</td>\n",
              "      <td>1</td>\n",
              "      <td>62.35</td>\n",
              "    </tr>\n",
              "    <tr>\n",
              "      <th>72</th>\n",
              "      <td>1</td>\n",
              "      <td>84.86</td>\n",
              "      <td>1</td>\n",
              "      <td>67.00</td>\n",
              "      <td>1</td>\n",
              "      <td>2</td>\n",
              "      <td>78.00</td>\n",
              "      <td>0</td>\n",
              "      <td>0</td>\n",
              "      <td>95.50</td>\n",
              "      <td>0</td>\n",
              "      <td>68.53</td>\n",
              "    </tr>\n",
              "    <tr>\n",
              "      <th>184</th>\n",
              "      <td>0</td>\n",
              "      <td>56.28</td>\n",
              "      <td>1</td>\n",
              "      <td>62.83</td>\n",
              "      <td>1</td>\n",
              "      <td>1</td>\n",
              "      <td>59.79</td>\n",
              "      <td>0</td>\n",
              "      <td>0</td>\n",
              "      <td>60.00</td>\n",
              "      <td>1</td>\n",
              "      <td>57.29</td>\n",
              "    </tr>\n",
              "    <tr>\n",
              "      <th>...</th>\n",
              "      <td>...</td>\n",
              "      <td>...</td>\n",
              "      <td>...</td>\n",
              "      <td>...</td>\n",
              "      <td>...</td>\n",
              "      <td>...</td>\n",
              "      <td>...</td>\n",
              "      <td>...</td>\n",
              "      <td>...</td>\n",
              "      <td>...</td>\n",
              "      <td>...</td>\n",
              "      <td>...</td>\n",
              "    </tr>\n",
              "    <tr>\n",
              "      <th>62</th>\n",
              "      <td>0</td>\n",
              "      <td>86.50</td>\n",
              "      <td>1</td>\n",
              "      <td>64.20</td>\n",
              "      <td>1</td>\n",
              "      <td>2</td>\n",
              "      <td>67.40</td>\n",
              "      <td>2</td>\n",
              "      <td>0</td>\n",
              "      <td>59.00</td>\n",
              "      <td>0</td>\n",
              "      <td>59.69</td>\n",
              "    </tr>\n",
              "    <tr>\n",
              "      <th>69</th>\n",
              "      <td>1</td>\n",
              "      <td>73.00</td>\n",
              "      <td>0</td>\n",
              "      <td>73.00</td>\n",
              "      <td>0</td>\n",
              "      <td>2</td>\n",
              "      <td>66.00</td>\n",
              "      <td>2</td>\n",
              "      <td>1</td>\n",
              "      <td>70.00</td>\n",
              "      <td>0</td>\n",
              "      <td>68.07</td>\n",
              "    </tr>\n",
              "    <tr>\n",
              "      <th>116</th>\n",
              "      <td>1</td>\n",
              "      <td>68.20</td>\n",
              "      <td>0</td>\n",
              "      <td>72.80</td>\n",
              "      <td>0</td>\n",
              "      <td>1</td>\n",
              "      <td>66.60</td>\n",
              "      <td>0</td>\n",
              "      <td>1</td>\n",
              "      <td>96.00</td>\n",
              "      <td>0</td>\n",
              "      <td>70.85</td>\n",
              "    </tr>\n",
              "    <tr>\n",
              "      <th>61</th>\n",
              "      <td>1</td>\n",
              "      <td>84.20</td>\n",
              "      <td>0</td>\n",
              "      <td>73.40</td>\n",
              "      <td>0</td>\n",
              "      <td>1</td>\n",
              "      <td>66.89</td>\n",
              "      <td>0</td>\n",
              "      <td>0</td>\n",
              "      <td>61.60</td>\n",
              "      <td>0</td>\n",
              "      <td>62.48</td>\n",
              "    </tr>\n",
              "    <tr>\n",
              "      <th>75</th>\n",
              "      <td>0</td>\n",
              "      <td>59.00</td>\n",
              "      <td>0</td>\n",
              "      <td>62.00</td>\n",
              "      <td>1</td>\n",
              "      <td>1</td>\n",
              "      <td>77.50</td>\n",
              "      <td>0</td>\n",
              "      <td>0</td>\n",
              "      <td>74.00</td>\n",
              "      <td>1</td>\n",
              "      <td>67.00</td>\n",
              "    </tr>\n",
              "  </tbody>\n",
              "</table>\n",
              "<p>161 rows × 12 columns</p>\n",
              "</div>"
            ],
            "text/plain": [
              "     gender  ssc_p  ssc_b  hsc_p  ...  workex  etest_p  specialisation  mba_p\n",
              "113       0  73.96      1  79.00  ...       0    72.15               0  63.08\n",
              "120       1  58.00      1  40.00  ...       0    73.00               1  58.81\n",
              "80        0  69.00      1  62.00  ...       1    67.00               1  62.35\n",
              "72        1  84.86      1  67.00  ...       0    95.50               0  68.53\n",
              "184       0  56.28      1  62.83  ...       0    60.00               1  57.29\n",
              "..      ...    ...    ...    ...  ...     ...      ...             ...    ...\n",
              "62        0  86.50      1  64.20  ...       0    59.00               0  59.69\n",
              "69        1  73.00      0  73.00  ...       1    70.00               0  68.07\n",
              "116       1  68.20      0  72.80  ...       1    96.00               0  70.85\n",
              "61        1  84.20      0  73.40  ...       0    61.60               0  62.48\n",
              "75        0  59.00      0  62.00  ...       0    74.00               1  67.00\n",
              "\n",
              "[161 rows x 12 columns]"
            ]
          },
          "metadata": {
            "tags": []
          },
          "execution_count": 32
        }
      ]
    },
    {
      "cell_type": "code",
      "metadata": {
        "id": "GOAN6r8dBuz7",
        "colab_type": "code",
        "colab": {
          "base_uri": "https://localhost:8080/",
          "height": 1000
        },
        "outputId": "e69141c0-9951-4b2c-9015-1d59a924f966"
      },
      "source": [
        "x_test"
      ],
      "execution_count": 33,
      "outputs": [
        {
          "output_type": "execute_result",
          "data": {
            "text/html": [
              "<div>\n",
              "<style scoped>\n",
              "    .dataframe tbody tr th:only-of-type {\n",
              "        vertical-align: middle;\n",
              "    }\n",
              "\n",
              "    .dataframe tbody tr th {\n",
              "        vertical-align: top;\n",
              "    }\n",
              "\n",
              "    .dataframe thead th {\n",
              "        text-align: right;\n",
              "    }\n",
              "</style>\n",
              "<table border=\"1\" class=\"dataframe\">\n",
              "  <thead>\n",
              "    <tr style=\"text-align: right;\">\n",
              "      <th></th>\n",
              "      <th>gender</th>\n",
              "      <th>ssc_p</th>\n",
              "      <th>ssc_b</th>\n",
              "      <th>hsc_p</th>\n",
              "      <th>hsc_b</th>\n",
              "      <th>hsc_s</th>\n",
              "      <th>degree_p</th>\n",
              "      <th>degree_t</th>\n",
              "      <th>workex</th>\n",
              "      <th>etest_p</th>\n",
              "      <th>specialisation</th>\n",
              "      <th>mba_p</th>\n",
              "    </tr>\n",
              "  </thead>\n",
              "  <tbody>\n",
              "    <tr>\n",
              "      <th>63</th>\n",
              "      <td>1</td>\n",
              "      <td>61.00</td>\n",
              "      <td>1</td>\n",
              "      <td>70.00</td>\n",
              "      <td>1</td>\n",
              "      <td>1</td>\n",
              "      <td>64.00</td>\n",
              "      <td>0</td>\n",
              "      <td>0</td>\n",
              "      <td>68.50</td>\n",
              "      <td>1</td>\n",
              "      <td>59.50</td>\n",
              "    </tr>\n",
              "    <tr>\n",
              "      <th>159</th>\n",
              "      <td>1</td>\n",
              "      <td>52.00</td>\n",
              "      <td>0</td>\n",
              "      <td>49.00</td>\n",
              "      <td>1</td>\n",
              "      <td>1</td>\n",
              "      <td>58.00</td>\n",
              "      <td>0</td>\n",
              "      <td>0</td>\n",
              "      <td>62.00</td>\n",
              "      <td>1</td>\n",
              "      <td>60.59</td>\n",
              "    </tr>\n",
              "    <tr>\n",
              "      <th>74</th>\n",
              "      <td>1</td>\n",
              "      <td>56.60</td>\n",
              "      <td>0</td>\n",
              "      <td>64.80</td>\n",
              "      <td>0</td>\n",
              "      <td>1</td>\n",
              "      <td>70.20</td>\n",
              "      <td>0</td>\n",
              "      <td>0</td>\n",
              "      <td>84.27</td>\n",
              "      <td>0</td>\n",
              "      <td>67.20</td>\n",
              "    </tr>\n",
              "    <tr>\n",
              "      <th>22</th>\n",
              "      <td>0</td>\n",
              "      <td>69.80</td>\n",
              "      <td>1</td>\n",
              "      <td>60.80</td>\n",
              "      <td>1</td>\n",
              "      <td>2</td>\n",
              "      <td>72.23</td>\n",
              "      <td>2</td>\n",
              "      <td>0</td>\n",
              "      <td>55.53</td>\n",
              "      <td>1</td>\n",
              "      <td>68.81</td>\n",
              "    </tr>\n",
              "    <tr>\n",
              "      <th>89</th>\n",
              "      <td>0</td>\n",
              "      <td>84.00</td>\n",
              "      <td>1</td>\n",
              "      <td>75.00</td>\n",
              "      <td>1</td>\n",
              "      <td>2</td>\n",
              "      <td>69.00</td>\n",
              "      <td>2</td>\n",
              "      <td>1</td>\n",
              "      <td>62.00</td>\n",
              "      <td>1</td>\n",
              "      <td>62.36</td>\n",
              "    </tr>\n",
              "    <tr>\n",
              "      <th>121</th>\n",
              "      <td>0</td>\n",
              "      <td>64.00</td>\n",
              "      <td>0</td>\n",
              "      <td>67.00</td>\n",
              "      <td>1</td>\n",
              "      <td>2</td>\n",
              "      <td>69.60</td>\n",
              "      <td>2</td>\n",
              "      <td>1</td>\n",
              "      <td>55.67</td>\n",
              "      <td>1</td>\n",
              "      <td>71.49</td>\n",
              "    </tr>\n",
              "    <tr>\n",
              "      <th>123</th>\n",
              "      <td>1</td>\n",
              "      <td>74.00</td>\n",
              "      <td>1</td>\n",
              "      <td>59.00</td>\n",
              "      <td>1</td>\n",
              "      <td>1</td>\n",
              "      <td>73.00</td>\n",
              "      <td>0</td>\n",
              "      <td>1</td>\n",
              "      <td>60.00</td>\n",
              "      <td>1</td>\n",
              "      <td>56.70</td>\n",
              "    </tr>\n",
              "    <tr>\n",
              "      <th>67</th>\n",
              "      <td>1</td>\n",
              "      <td>80.92</td>\n",
              "      <td>1</td>\n",
              "      <td>78.50</td>\n",
              "      <td>1</td>\n",
              "      <td>1</td>\n",
              "      <td>67.00</td>\n",
              "      <td>0</td>\n",
              "      <td>0</td>\n",
              "      <td>68.71</td>\n",
              "      <td>0</td>\n",
              "      <td>60.99</td>\n",
              "    </tr>\n",
              "    <tr>\n",
              "      <th>205</th>\n",
              "      <td>1</td>\n",
              "      <td>61.00</td>\n",
              "      <td>1</td>\n",
              "      <td>62.00</td>\n",
              "      <td>1</td>\n",
              "      <td>1</td>\n",
              "      <td>65.00</td>\n",
              "      <td>0</td>\n",
              "      <td>0</td>\n",
              "      <td>62.00</td>\n",
              "      <td>0</td>\n",
              "      <td>56.81</td>\n",
              "    </tr>\n",
              "    <tr>\n",
              "      <th>127</th>\n",
              "      <td>0</td>\n",
              "      <td>72.00</td>\n",
              "      <td>1</td>\n",
              "      <td>60.00</td>\n",
              "      <td>1</td>\n",
              "      <td>2</td>\n",
              "      <td>69.00</td>\n",
              "      <td>0</td>\n",
              "      <td>0</td>\n",
              "      <td>55.50</td>\n",
              "      <td>1</td>\n",
              "      <td>58.40</td>\n",
              "    </tr>\n",
              "    <tr>\n",
              "      <th>179</th>\n",
              "      <td>0</td>\n",
              "      <td>77.80</td>\n",
              "      <td>0</td>\n",
              "      <td>64.00</td>\n",
              "      <td>0</td>\n",
              "      <td>2</td>\n",
              "      <td>64.20</td>\n",
              "      <td>2</td>\n",
              "      <td>0</td>\n",
              "      <td>75.50</td>\n",
              "      <td>1</td>\n",
              "      <td>72.14</td>\n",
              "    </tr>\n",
              "    <tr>\n",
              "      <th>29</th>\n",
              "      <td>1</td>\n",
              "      <td>62.00</td>\n",
              "      <td>0</td>\n",
              "      <td>67.00</td>\n",
              "      <td>0</td>\n",
              "      <td>1</td>\n",
              "      <td>58.00</td>\n",
              "      <td>0</td>\n",
              "      <td>0</td>\n",
              "      <td>77.00</td>\n",
              "      <td>0</td>\n",
              "      <td>51.29</td>\n",
              "    </tr>\n",
              "    <tr>\n",
              "      <th>37</th>\n",
              "      <td>0</td>\n",
              "      <td>79.00</td>\n",
              "      <td>0</td>\n",
              "      <td>76.00</td>\n",
              "      <td>0</td>\n",
              "      <td>2</td>\n",
              "      <td>65.60</td>\n",
              "      <td>2</td>\n",
              "      <td>0</td>\n",
              "      <td>58.00</td>\n",
              "      <td>1</td>\n",
              "      <td>55.47</td>\n",
              "    </tr>\n",
              "    <tr>\n",
              "      <th>68</th>\n",
              "      <td>0</td>\n",
              "      <td>69.70</td>\n",
              "      <td>0</td>\n",
              "      <td>47.00</td>\n",
              "      <td>0</td>\n",
              "      <td>1</td>\n",
              "      <td>72.70</td>\n",
              "      <td>2</td>\n",
              "      <td>0</td>\n",
              "      <td>79.00</td>\n",
              "      <td>1</td>\n",
              "      <td>59.24</td>\n",
              "    </tr>\n",
              "    <tr>\n",
              "      <th>71</th>\n",
              "      <td>1</td>\n",
              "      <td>75.00</td>\n",
              "      <td>1</td>\n",
              "      <td>70.29</td>\n",
              "      <td>1</td>\n",
              "      <td>1</td>\n",
              "      <td>71.00</td>\n",
              "      <td>0</td>\n",
              "      <td>0</td>\n",
              "      <td>95.00</td>\n",
              "      <td>0</td>\n",
              "      <td>66.94</td>\n",
              "    </tr>\n",
              "    <tr>\n",
              "      <th>214</th>\n",
              "      <td>1</td>\n",
              "      <td>62.00</td>\n",
              "      <td>0</td>\n",
              "      <td>58.00</td>\n",
              "      <td>1</td>\n",
              "      <td>2</td>\n",
              "      <td>53.00</td>\n",
              "      <td>0</td>\n",
              "      <td>0</td>\n",
              "      <td>89.00</td>\n",
              "      <td>1</td>\n",
              "      <td>60.22</td>\n",
              "    </tr>\n",
              "    <tr>\n",
              "      <th>201</th>\n",
              "      <td>1</td>\n",
              "      <td>54.20</td>\n",
              "      <td>0</td>\n",
              "      <td>63.00</td>\n",
              "      <td>1</td>\n",
              "      <td>2</td>\n",
              "      <td>58.00</td>\n",
              "      <td>0</td>\n",
              "      <td>0</td>\n",
              "      <td>79.00</td>\n",
              "      <td>1</td>\n",
              "      <td>58.44</td>\n",
              "    </tr>\n",
              "    <tr>\n",
              "      <th>79</th>\n",
              "      <td>0</td>\n",
              "      <td>69.00</td>\n",
              "      <td>0</td>\n",
              "      <td>62.00</td>\n",
              "      <td>0</td>\n",
              "      <td>2</td>\n",
              "      <td>66.00</td>\n",
              "      <td>2</td>\n",
              "      <td>0</td>\n",
              "      <td>75.00</td>\n",
              "      <td>1</td>\n",
              "      <td>67.99</td>\n",
              "    </tr>\n",
              "    <tr>\n",
              "      <th>48</th>\n",
              "      <td>1</td>\n",
              "      <td>63.00</td>\n",
              "      <td>1</td>\n",
              "      <td>62.00</td>\n",
              "      <td>1</td>\n",
              "      <td>1</td>\n",
              "      <td>68.00</td>\n",
              "      <td>0</td>\n",
              "      <td>0</td>\n",
              "      <td>64.00</td>\n",
              "      <td>0</td>\n",
              "      <td>62.46</td>\n",
              "    </tr>\n",
              "    <tr>\n",
              "      <th>148</th>\n",
              "      <td>0</td>\n",
              "      <td>77.00</td>\n",
              "      <td>0</td>\n",
              "      <td>86.00</td>\n",
              "      <td>0</td>\n",
              "      <td>0</td>\n",
              "      <td>56.00</td>\n",
              "      <td>1</td>\n",
              "      <td>0</td>\n",
              "      <td>57.00</td>\n",
              "      <td>0</td>\n",
              "      <td>64.08</td>\n",
              "    </tr>\n",
              "    <tr>\n",
              "      <th>97</th>\n",
              "      <td>0</td>\n",
              "      <td>70.50</td>\n",
              "      <td>0</td>\n",
              "      <td>62.50</td>\n",
              "      <td>1</td>\n",
              "      <td>1</td>\n",
              "      <td>61.00</td>\n",
              "      <td>0</td>\n",
              "      <td>0</td>\n",
              "      <td>93.91</td>\n",
              "      <td>0</td>\n",
              "      <td>69.03</td>\n",
              "    </tr>\n",
              "    <tr>\n",
              "      <th>198</th>\n",
              "      <td>0</td>\n",
              "      <td>67.00</td>\n",
              "      <td>0</td>\n",
              "      <td>70.00</td>\n",
              "      <td>0</td>\n",
              "      <td>1</td>\n",
              "      <td>65.00</td>\n",
              "      <td>1</td>\n",
              "      <td>0</td>\n",
              "      <td>88.00</td>\n",
              "      <td>1</td>\n",
              "      <td>71.96</td>\n",
              "    </tr>\n",
              "    <tr>\n",
              "      <th>185</th>\n",
              "      <td>0</td>\n",
              "      <td>88.00</td>\n",
              "      <td>0</td>\n",
              "      <td>72.00</td>\n",
              "      <td>0</td>\n",
              "      <td>2</td>\n",
              "      <td>78.00</td>\n",
              "      <td>1</td>\n",
              "      <td>0</td>\n",
              "      <td>82.00</td>\n",
              "      <td>1</td>\n",
              "      <td>71.43</td>\n",
              "    </tr>\n",
              "    <tr>\n",
              "      <th>192</th>\n",
              "      <td>1</td>\n",
              "      <td>65.20</td>\n",
              "      <td>0</td>\n",
              "      <td>61.40</td>\n",
              "      <td>0</td>\n",
              "      <td>1</td>\n",
              "      <td>64.80</td>\n",
              "      <td>0</td>\n",
              "      <td>1</td>\n",
              "      <td>93.40</td>\n",
              "      <td>0</td>\n",
              "      <td>57.34</td>\n",
              "    </tr>\n",
              "    <tr>\n",
              "      <th>50</th>\n",
              "      <td>0</td>\n",
              "      <td>75.20</td>\n",
              "      <td>0</td>\n",
              "      <td>73.20</td>\n",
              "      <td>0</td>\n",
              "      <td>2</td>\n",
              "      <td>68.40</td>\n",
              "      <td>0</td>\n",
              "      <td>0</td>\n",
              "      <td>65.00</td>\n",
              "      <td>1</td>\n",
              "      <td>62.98</td>\n",
              "    </tr>\n",
              "    <tr>\n",
              "      <th>138</th>\n",
              "      <td>0</td>\n",
              "      <td>82.00</td>\n",
              "      <td>1</td>\n",
              "      <td>64.00</td>\n",
              "      <td>1</td>\n",
              "      <td>2</td>\n",
              "      <td>73.00</td>\n",
              "      <td>2</td>\n",
              "      <td>1</td>\n",
              "      <td>96.00</td>\n",
              "      <td>0</td>\n",
              "      <td>71.77</td>\n",
              "    </tr>\n",
              "    <tr>\n",
              "      <th>14</th>\n",
              "      <td>1</td>\n",
              "      <td>62.00</td>\n",
              "      <td>0</td>\n",
              "      <td>47.00</td>\n",
              "      <td>0</td>\n",
              "      <td>1</td>\n",
              "      <td>50.00</td>\n",
              "      <td>0</td>\n",
              "      <td>0</td>\n",
              "      <td>76.00</td>\n",
              "      <td>1</td>\n",
              "      <td>54.96</td>\n",
              "    </tr>\n",
              "    <tr>\n",
              "      <th>146</th>\n",
              "      <td>1</td>\n",
              "      <td>62.00</td>\n",
              "      <td>0</td>\n",
              "      <td>63.00</td>\n",
              "      <td>1</td>\n",
              "      <td>2</td>\n",
              "      <td>66.00</td>\n",
              "      <td>0</td>\n",
              "      <td>0</td>\n",
              "      <td>85.00</td>\n",
              "      <td>1</td>\n",
              "      <td>55.14</td>\n",
              "    </tr>\n",
              "    <tr>\n",
              "      <th>145</th>\n",
              "      <td>1</td>\n",
              "      <td>89.40</td>\n",
              "      <td>1</td>\n",
              "      <td>65.66</td>\n",
              "      <td>1</td>\n",
              "      <td>2</td>\n",
              "      <td>71.25</td>\n",
              "      <td>2</td>\n",
              "      <td>0</td>\n",
              "      <td>72.00</td>\n",
              "      <td>1</td>\n",
              "      <td>63.23</td>\n",
              "    </tr>\n",
              "    <tr>\n",
              "      <th>1</th>\n",
              "      <td>1</td>\n",
              "      <td>79.33</td>\n",
              "      <td>0</td>\n",
              "      <td>78.33</td>\n",
              "      <td>1</td>\n",
              "      <td>2</td>\n",
              "      <td>77.48</td>\n",
              "      <td>2</td>\n",
              "      <td>1</td>\n",
              "      <td>86.50</td>\n",
              "      <td>0</td>\n",
              "      <td>66.28</td>\n",
              "    </tr>\n",
              "    <tr>\n",
              "      <th>174</th>\n",
              "      <td>1</td>\n",
              "      <td>73.24</td>\n",
              "      <td>1</td>\n",
              "      <td>50.83</td>\n",
              "      <td>1</td>\n",
              "      <td>2</td>\n",
              "      <td>64.27</td>\n",
              "      <td>2</td>\n",
              "      <td>1</td>\n",
              "      <td>64.00</td>\n",
              "      <td>0</td>\n",
              "      <td>66.23</td>\n",
              "    </tr>\n",
              "    <tr>\n",
              "      <th>11</th>\n",
              "      <td>1</td>\n",
              "      <td>69.60</td>\n",
              "      <td>0</td>\n",
              "      <td>68.40</td>\n",
              "      <td>0</td>\n",
              "      <td>1</td>\n",
              "      <td>78.30</td>\n",
              "      <td>0</td>\n",
              "      <td>1</td>\n",
              "      <td>60.00</td>\n",
              "      <td>0</td>\n",
              "      <td>63.70</td>\n",
              "    </tr>\n",
              "    <tr>\n",
              "      <th>119</th>\n",
              "      <td>1</td>\n",
              "      <td>60.80</td>\n",
              "      <td>0</td>\n",
              "      <td>68.40</td>\n",
              "      <td>0</td>\n",
              "      <td>1</td>\n",
              "      <td>64.60</td>\n",
              "      <td>0</td>\n",
              "      <td>1</td>\n",
              "      <td>82.66</td>\n",
              "      <td>0</td>\n",
              "      <td>64.34</td>\n",
              "    </tr>\n",
              "    <tr>\n",
              "      <th>151</th>\n",
              "      <td>1</td>\n",
              "      <td>65.00</td>\n",
              "      <td>0</td>\n",
              "      <td>65.00</td>\n",
              "      <td>0</td>\n",
              "      <td>1</td>\n",
              "      <td>75.00</td>\n",
              "      <td>0</td>\n",
              "      <td>0</td>\n",
              "      <td>83.00</td>\n",
              "      <td>0</td>\n",
              "      <td>58.87</td>\n",
              "    </tr>\n",
              "    <tr>\n",
              "      <th>7</th>\n",
              "      <td>1</td>\n",
              "      <td>82.00</td>\n",
              "      <td>0</td>\n",
              "      <td>64.00</td>\n",
              "      <td>0</td>\n",
              "      <td>2</td>\n",
              "      <td>66.00</td>\n",
              "      <td>2</td>\n",
              "      <td>1</td>\n",
              "      <td>67.00</td>\n",
              "      <td>0</td>\n",
              "      <td>62.14</td>\n",
              "    </tr>\n",
              "    <tr>\n",
              "      <th>107</th>\n",
              "      <td>1</td>\n",
              "      <td>82.00</td>\n",
              "      <td>1</td>\n",
              "      <td>90.00</td>\n",
              "      <td>1</td>\n",
              "      <td>1</td>\n",
              "      <td>83.00</td>\n",
              "      <td>0</td>\n",
              "      <td>0</td>\n",
              "      <td>80.00</td>\n",
              "      <td>1</td>\n",
              "      <td>73.52</td>\n",
              "    </tr>\n",
              "    <tr>\n",
              "      <th>20</th>\n",
              "      <td>1</td>\n",
              "      <td>62.00</td>\n",
              "      <td>1</td>\n",
              "      <td>65.00</td>\n",
              "      <td>1</td>\n",
              "      <td>1</td>\n",
              "      <td>66.00</td>\n",
              "      <td>0</td>\n",
              "      <td>0</td>\n",
              "      <td>50.00</td>\n",
              "      <td>1</td>\n",
              "      <td>56.70</td>\n",
              "    </tr>\n",
              "    <tr>\n",
              "      <th>208</th>\n",
              "      <td>0</td>\n",
              "      <td>43.00</td>\n",
              "      <td>0</td>\n",
              "      <td>60.00</td>\n",
              "      <td>1</td>\n",
              "      <td>2</td>\n",
              "      <td>65.00</td>\n",
              "      <td>0</td>\n",
              "      <td>0</td>\n",
              "      <td>92.66</td>\n",
              "      <td>1</td>\n",
              "      <td>62.92</td>\n",
              "    </tr>\n",
              "    <tr>\n",
              "      <th>96</th>\n",
              "      <td>0</td>\n",
              "      <td>76.00</td>\n",
              "      <td>0</td>\n",
              "      <td>70.00</td>\n",
              "      <td>0</td>\n",
              "      <td>2</td>\n",
              "      <td>76.00</td>\n",
              "      <td>0</td>\n",
              "      <td>1</td>\n",
              "      <td>66.00</td>\n",
              "      <td>0</td>\n",
              "      <td>64.44</td>\n",
              "    </tr>\n",
              "    <tr>\n",
              "      <th>131</th>\n",
              "      <td>0</td>\n",
              "      <td>74.90</td>\n",
              "      <td>1</td>\n",
              "      <td>57.00</td>\n",
              "      <td>1</td>\n",
              "      <td>2</td>\n",
              "      <td>62.00</td>\n",
              "      <td>1</td>\n",
              "      <td>1</td>\n",
              "      <td>80.00</td>\n",
              "      <td>0</td>\n",
              "      <td>60.78</td>\n",
              "    </tr>\n",
              "    <tr>\n",
              "      <th>178</th>\n",
              "      <td>1</td>\n",
              "      <td>68.00</td>\n",
              "      <td>1</td>\n",
              "      <td>56.00</td>\n",
              "      <td>1</td>\n",
              "      <td>2</td>\n",
              "      <td>68.00</td>\n",
              "      <td>2</td>\n",
              "      <td>0</td>\n",
              "      <td>73.00</td>\n",
              "      <td>1</td>\n",
              "      <td>68.07</td>\n",
              "    </tr>\n",
              "    <tr>\n",
              "      <th>10</th>\n",
              "      <td>1</td>\n",
              "      <td>58.00</td>\n",
              "      <td>0</td>\n",
              "      <td>61.00</td>\n",
              "      <td>0</td>\n",
              "      <td>1</td>\n",
              "      <td>60.00</td>\n",
              "      <td>0</td>\n",
              "      <td>1</td>\n",
              "      <td>62.00</td>\n",
              "      <td>1</td>\n",
              "      <td>60.85</td>\n",
              "    </tr>\n",
              "    <tr>\n",
              "      <th>46</th>\n",
              "      <td>0</td>\n",
              "      <td>70.89</td>\n",
              "      <td>1</td>\n",
              "      <td>71.98</td>\n",
              "      <td>1</td>\n",
              "      <td>2</td>\n",
              "      <td>65.60</td>\n",
              "      <td>0</td>\n",
              "      <td>0</td>\n",
              "      <td>68.00</td>\n",
              "      <td>1</td>\n",
              "      <td>71.63</td>\n",
              "    </tr>\n",
              "    <tr>\n",
              "      <th>133</th>\n",
              "      <td>1</td>\n",
              "      <td>73.00</td>\n",
              "      <td>0</td>\n",
              "      <td>64.00</td>\n",
              "      <td>1</td>\n",
              "      <td>1</td>\n",
              "      <td>77.00</td>\n",
              "      <td>0</td>\n",
              "      <td>1</td>\n",
              "      <td>65.00</td>\n",
              "      <td>1</td>\n",
              "      <td>60.98</td>\n",
              "    </tr>\n",
              "    <tr>\n",
              "      <th>167</th>\n",
              "      <td>1</td>\n",
              "      <td>67.90</td>\n",
              "      <td>1</td>\n",
              "      <td>62.00</td>\n",
              "      <td>1</td>\n",
              "      <td>2</td>\n",
              "      <td>67.00</td>\n",
              "      <td>2</td>\n",
              "      <td>1</td>\n",
              "      <td>58.10</td>\n",
              "      <td>0</td>\n",
              "      <td>75.71</td>\n",
              "    </tr>\n",
              "    <tr>\n",
              "      <th>171</th>\n",
              "      <td>1</td>\n",
              "      <td>80.00</td>\n",
              "      <td>1</td>\n",
              "      <td>80.00</td>\n",
              "      <td>1</td>\n",
              "      <td>1</td>\n",
              "      <td>72.00</td>\n",
              "      <td>0</td>\n",
              "      <td>1</td>\n",
              "      <td>63.79</td>\n",
              "      <td>0</td>\n",
              "      <td>66.04</td>\n",
              "    </tr>\n",
              "    <tr>\n",
              "      <th>142</th>\n",
              "      <td>1</td>\n",
              "      <td>85.00</td>\n",
              "      <td>0</td>\n",
              "      <td>60.00</td>\n",
              "      <td>1</td>\n",
              "      <td>2</td>\n",
              "      <td>73.43</td>\n",
              "      <td>2</td>\n",
              "      <td>1</td>\n",
              "      <td>60.00</td>\n",
              "      <td>0</td>\n",
              "      <td>61.29</td>\n",
              "    </tr>\n",
              "    <tr>\n",
              "      <th>6</th>\n",
              "      <td>0</td>\n",
              "      <td>46.00</td>\n",
              "      <td>1</td>\n",
              "      <td>49.20</td>\n",
              "      <td>1</td>\n",
              "      <td>1</td>\n",
              "      <td>79.00</td>\n",
              "      <td>0</td>\n",
              "      <td>0</td>\n",
              "      <td>74.28</td>\n",
              "      <td>0</td>\n",
              "      <td>53.29</td>\n",
              "    </tr>\n",
              "    <tr>\n",
              "      <th>26</th>\n",
              "      <td>1</td>\n",
              "      <td>71.00</td>\n",
              "      <td>1</td>\n",
              "      <td>79.00</td>\n",
              "      <td>1</td>\n",
              "      <td>1</td>\n",
              "      <td>66.00</td>\n",
              "      <td>0</td>\n",
              "      <td>1</td>\n",
              "      <td>94.00</td>\n",
              "      <td>0</td>\n",
              "      <td>57.55</td>\n",
              "    </tr>\n",
              "    <tr>\n",
              "      <th>126</th>\n",
              "      <td>0</td>\n",
              "      <td>79.00</td>\n",
              "      <td>1</td>\n",
              "      <td>61.00</td>\n",
              "      <td>1</td>\n",
              "      <td>2</td>\n",
              "      <td>75.50</td>\n",
              "      <td>2</td>\n",
              "      <td>1</td>\n",
              "      <td>70.00</td>\n",
              "      <td>0</td>\n",
              "      <td>68.20</td>\n",
              "    </tr>\n",
              "    <tr>\n",
              "      <th>105</th>\n",
              "      <td>1</td>\n",
              "      <td>59.00</td>\n",
              "      <td>0</td>\n",
              "      <td>64.00</td>\n",
              "      <td>1</td>\n",
              "      <td>2</td>\n",
              "      <td>58.00</td>\n",
              "      <td>2</td>\n",
              "      <td>0</td>\n",
              "      <td>85.00</td>\n",
              "      <td>1</td>\n",
              "      <td>55.30</td>\n",
              "    </tr>\n",
              "    <tr>\n",
              "      <th>103</th>\n",
              "      <td>1</td>\n",
              "      <td>73.00</td>\n",
              "      <td>0</td>\n",
              "      <td>78.00</td>\n",
              "      <td>0</td>\n",
              "      <td>2</td>\n",
              "      <td>73.00</td>\n",
              "      <td>2</td>\n",
              "      <td>1</td>\n",
              "      <td>85.00</td>\n",
              "      <td>1</td>\n",
              "      <td>65.83</td>\n",
              "    </tr>\n",
              "    <tr>\n",
              "      <th>128</th>\n",
              "      <td>1</td>\n",
              "      <td>80.40</td>\n",
              "      <td>0</td>\n",
              "      <td>73.40</td>\n",
              "      <td>0</td>\n",
              "      <td>2</td>\n",
              "      <td>77.72</td>\n",
              "      <td>2</td>\n",
              "      <td>1</td>\n",
              "      <td>81.20</td>\n",
              "      <td>1</td>\n",
              "      <td>76.26</td>\n",
              "    </tr>\n",
              "    <tr>\n",
              "      <th>24</th>\n",
              "      <td>1</td>\n",
              "      <td>76.50</td>\n",
              "      <td>1</td>\n",
              "      <td>97.70</td>\n",
              "      <td>1</td>\n",
              "      <td>2</td>\n",
              "      <td>78.86</td>\n",
              "      <td>2</td>\n",
              "      <td>0</td>\n",
              "      <td>97.40</td>\n",
              "      <td>0</td>\n",
              "      <td>74.01</td>\n",
              "    </tr>\n",
              "  </tbody>\n",
              "</table>\n",
              "</div>"
            ],
            "text/plain": [
              "     gender  ssc_p  ssc_b  hsc_p  ...  workex  etest_p  specialisation  mba_p\n",
              "63        1  61.00      1  70.00  ...       0    68.50               1  59.50\n",
              "159       1  52.00      0  49.00  ...       0    62.00               1  60.59\n",
              "74        1  56.60      0  64.80  ...       0    84.27               0  67.20\n",
              "22        0  69.80      1  60.80  ...       0    55.53               1  68.81\n",
              "89        0  84.00      1  75.00  ...       1    62.00               1  62.36\n",
              "121       0  64.00      0  67.00  ...       1    55.67               1  71.49\n",
              "123       1  74.00      1  59.00  ...       1    60.00               1  56.70\n",
              "67        1  80.92      1  78.50  ...       0    68.71               0  60.99\n",
              "205       1  61.00      1  62.00  ...       0    62.00               0  56.81\n",
              "127       0  72.00      1  60.00  ...       0    55.50               1  58.40\n",
              "179       0  77.80      0  64.00  ...       0    75.50               1  72.14\n",
              "29        1  62.00      0  67.00  ...       0    77.00               0  51.29\n",
              "37        0  79.00      0  76.00  ...       0    58.00               1  55.47\n",
              "68        0  69.70      0  47.00  ...       0    79.00               1  59.24\n",
              "71        1  75.00      1  70.29  ...       0    95.00               0  66.94\n",
              "214       1  62.00      0  58.00  ...       0    89.00               1  60.22\n",
              "201       1  54.20      0  63.00  ...       0    79.00               1  58.44\n",
              "79        0  69.00      0  62.00  ...       0    75.00               1  67.99\n",
              "48        1  63.00      1  62.00  ...       0    64.00               0  62.46\n",
              "148       0  77.00      0  86.00  ...       0    57.00               0  64.08\n",
              "97        0  70.50      0  62.50  ...       0    93.91               0  69.03\n",
              "198       0  67.00      0  70.00  ...       0    88.00               1  71.96\n",
              "185       0  88.00      0  72.00  ...       0    82.00               1  71.43\n",
              "192       1  65.20      0  61.40  ...       1    93.40               0  57.34\n",
              "50        0  75.20      0  73.20  ...       0    65.00               1  62.98\n",
              "138       0  82.00      1  64.00  ...       1    96.00               0  71.77\n",
              "14        1  62.00      0  47.00  ...       0    76.00               1  54.96\n",
              "146       1  62.00      0  63.00  ...       0    85.00               1  55.14\n",
              "145       1  89.40      1  65.66  ...       0    72.00               1  63.23\n",
              "1         1  79.33      0  78.33  ...       1    86.50               0  66.28\n",
              "174       1  73.24      1  50.83  ...       1    64.00               0  66.23\n",
              "11        1  69.60      0  68.40  ...       1    60.00               0  63.70\n",
              "119       1  60.80      0  68.40  ...       1    82.66               0  64.34\n",
              "151       1  65.00      0  65.00  ...       0    83.00               0  58.87\n",
              "7         1  82.00      0  64.00  ...       1    67.00               0  62.14\n",
              "107       1  82.00      1  90.00  ...       0    80.00               1  73.52\n",
              "20        1  62.00      1  65.00  ...       0    50.00               1  56.70\n",
              "208       0  43.00      0  60.00  ...       0    92.66               1  62.92\n",
              "96        0  76.00      0  70.00  ...       1    66.00               0  64.44\n",
              "131       0  74.90      1  57.00  ...       1    80.00               0  60.78\n",
              "178       1  68.00      1  56.00  ...       0    73.00               1  68.07\n",
              "10        1  58.00      0  61.00  ...       1    62.00               1  60.85\n",
              "46        0  70.89      1  71.98  ...       0    68.00               1  71.63\n",
              "133       1  73.00      0  64.00  ...       1    65.00               1  60.98\n",
              "167       1  67.90      1  62.00  ...       1    58.10               0  75.71\n",
              "171       1  80.00      1  80.00  ...       1    63.79               0  66.04\n",
              "142       1  85.00      0  60.00  ...       1    60.00               0  61.29\n",
              "6         0  46.00      1  49.20  ...       0    74.28               0  53.29\n",
              "26        1  71.00      1  79.00  ...       1    94.00               0  57.55\n",
              "126       0  79.00      1  61.00  ...       1    70.00               0  68.20\n",
              "105       1  59.00      0  64.00  ...       0    85.00               1  55.30\n",
              "103       1  73.00      0  78.00  ...       1    85.00               1  65.83\n",
              "128       1  80.40      0  73.40  ...       1    81.20               1  76.26\n",
              "24        1  76.50      1  97.70  ...       0    97.40               0  74.01\n",
              "\n",
              "[54 rows x 12 columns]"
            ]
          },
          "metadata": {
            "tags": []
          },
          "execution_count": 33
        }
      ]
    },
    {
      "cell_type": "markdown",
      "metadata": {
        "id": "wahZJMUsasrW",
        "colab_type": "text"
      },
      "source": [
        "STANDARDISING THE VALUES "
      ]
    },
    {
      "cell_type": "code",
      "metadata": {
        "id": "3MTY-n1w2ICx",
        "colab_type": "code",
        "colab": {}
      },
      "source": [
        "from sklearn.preprocessing import StandardScaler"
      ],
      "execution_count": 34,
      "outputs": []
    },
    {
      "cell_type": "code",
      "metadata": {
        "id": "GrwQOIrb2gdO",
        "colab_type": "code",
        "colab": {
          "base_uri": "https://localhost:8080/",
          "height": 35
        },
        "outputId": "2fc4b497-99e9-4744-d050-83526abcad3c"
      },
      "source": [
        "sc = StandardScaler()\n",
        "sc.fit(x_train)"
      ],
      "execution_count": 35,
      "outputs": [
        {
          "output_type": "execute_result",
          "data": {
            "text/plain": [
              "StandardScaler(copy=True, with_mean=True, with_std=True)"
            ]
          },
          "metadata": {
            "tags": []
          },
          "execution_count": 35
        }
      ]
    },
    {
      "cell_type": "code",
      "metadata": {
        "id": "PCwhkf1R2kL_",
        "colab_type": "code",
        "colab": {}
      },
      "source": [
        "x_train =sc.transform(x_train)\n",
        "x_test = sc.transform(x_test)"
      ],
      "execution_count": 36,
      "outputs": []
    },
    {
      "cell_type": "code",
      "metadata": {
        "id": "SW9QAx53LUp6",
        "colab_type": "code",
        "colab": {
          "base_uri": "https://localhost:8080/",
          "height": 473
        },
        "outputId": "a068a525-f081-4c13-d505-60378d73ceee"
      },
      "source": [
        "plt.plot(x_test,y_test,'g*')"
      ],
      "execution_count": 37,
      "outputs": [
        {
          "output_type": "execute_result",
          "data": {
            "text/plain": [
              "[<matplotlib.lines.Line2D at 0x7f538e74fd30>,\n",
              " <matplotlib.lines.Line2D at 0x7f538e74fe80>,\n",
              " <matplotlib.lines.Line2D at 0x7f538e74ff98>,\n",
              " <matplotlib.lines.Line2D at 0x7f538e759128>,\n",
              " <matplotlib.lines.Line2D at 0x7f538e759278>,\n",
              " <matplotlib.lines.Line2D at 0x7f538e7593c8>,\n",
              " <matplotlib.lines.Line2D at 0x7f538e759518>,\n",
              " <matplotlib.lines.Line2D at 0x7f538e759668>,\n",
              " <matplotlib.lines.Line2D at 0x7f538e7597b8>,\n",
              " <matplotlib.lines.Line2D at 0x7f538e759908>,\n",
              " <matplotlib.lines.Line2D at 0x7f538e759a58>,\n",
              " <matplotlib.lines.Line2D at 0x7f538e759ba8>]"
            ]
          },
          "metadata": {
            "tags": []
          },
          "execution_count": 37
        },
        {
          "output_type": "display_data",
          "data": {
            "image/png": "[encoded data removed]",
            "text/plain": [
              "<Figure size 432x288 with 1 Axes>"
            ]
          },
          "metadata": {
            "tags": [],
            "needs_background": "light"
          }
        }
      ]
    },
    {
      "cell_type": "markdown",
      "metadata": {
        "id": "QnNG30qaa5_E",
        "colab_type": "text"
      },
      "source": [
        "FILLING MISSING VALUES"
      ]
    },
    {
      "cell_type": "code",
      "metadata": {
        "id": "a6gL-J18-W_S",
        "colab_type": "code",
        "colab": {}
      },
      "source": [
        "from sklearn.impute import SimpleImputer\n",
        "imp = SimpleImputer()"
      ],
      "execution_count": 38,
      "outputs": []
    },
    {
      "cell_type": "code",
      "metadata": {
        "id": "mD_zZfdd-gi5",
        "colab_type": "code",
        "colab": {
          "base_uri": "https://localhost:8080/",
          "height": 243
        },
        "outputId": "88b573c9-ed98-4754-ad24-519244f99802"
      },
      "source": [
        "x_train=imp.fit_transform(x_train)\n",
        "x_train"
      ],
      "execution_count": 39,
      "outputs": [
        {
          "output_type": "execute_result",
          "data": {
            "text/plain": [
              "array([[-1.36930639,  0.69523712,  1.05755428, ...,  0.04507941,\n",
              "        -0.83350875,  0.21959901],\n",
              "       [ 0.73029674, -0.77122063,  1.05755428, ...,  0.10860651,\n",
              "         1.19974745, -0.53539065],\n",
              "       [-1.36930639,  0.23949586,  1.05755428, ..., -0.33982008,\n",
              "         1.19974745,  0.09052584],\n",
              "       ...,\n",
              "       [ 0.73029674,  0.16598921, -0.94557794, ...,  1.8275751 ,\n",
              "        -0.83350875,  1.59343265],\n",
              "       [ 0.73029674,  1.63612229, -0.94557794, ..., -0.74340401,\n",
              "        -0.83350875,  0.11351147],\n",
              "       [-1.36930639, -0.67933731, -0.94557794, ...,  0.18334427,\n",
              "         1.19974745,  0.91270427]])"
            ]
          },
          "metadata": {
            "tags": []
          },
          "execution_count": 39
        }
      ]
    },
    {
      "cell_type": "code",
      "metadata": {
        "id": "UivIvwyt_IeY",
        "colab_type": "code",
        "colab": {
          "base_uri": "https://localhost:8080/",
          "height": 1000
        },
        "outputId": "a8a42ab7-8c3d-48ad-af24-facf6dcb892d"
      },
      "source": [
        "x_test=imp.fit_transform(x_test)\n",
        "x_test"
      ],
      "execution_count": 40,
      "outputs": [
        {
          "output_type": "execute_result",
          "data": {
            "text/plain": [
              "array([[ 0.73029674, -0.49557067,  1.05755428,  0.32447191,  0.81227693,\n",
              "        -0.55157087, -0.24466041, -0.61636292, -0.7005289 , -0.22771344,\n",
              "         1.19974745, -0.41338998],\n",
              "       [ 0.73029674, -1.32252053, -0.94557794, -1.55801748,  0.81227693,\n",
              "        -0.55157087, -1.06005444, -0.61636292, -0.7005289 , -0.71350891,\n",
              "         1.19974745, -0.22066428],\n",
              "       [ 0.73029674, -0.89985727, -0.94557794, -0.14166832, -1.23110723,\n",
              "        -0.55157087,  0.59791342, -0.61636292, -0.7005289 ,  0.95090112,\n",
              "        -0.83350875,  0.94806679],\n",
              "       [-1.36930639,  0.31300252,  1.05755428, -0.50023773,  0.81227693,\n",
              "         1.1561774 ,  0.87378839,  1.71856485, -0.7005289 , -1.19706225,\n",
              "         1.19974745,  1.23273502],\n",
              "       [-1.36930639,  1.61774562,  1.05755428,  0.77268366,  0.81227693,\n",
              "         1.1561774 ,  0.43483461,  1.71856485,  1.42749285, -0.71350891,\n",
              "         1.19974745,  0.09229396],\n",
              "       [-1.36930639, -0.21992072, -0.94557794,  0.05554485,  0.81227693,\n",
              "         1.1561774 ,  0.51637401,  1.71856485,  1.42749285, -1.18659896,\n",
              "         1.19974745,  1.7065927 ],\n",
              "       [ 0.73029674,  0.69891245,  1.05755428, -0.66159396,  0.81227693,\n",
              "        -0.55157087,  0.97843063, -0.61636292,  1.42749285, -0.86298444,\n",
              "         1.19974745, -0.90846516],\n",
              "       [ 0.73029674,  1.33474501,  1.05755428,  1.08643189,  0.81227693,\n",
              "        -0.55157087,  0.1630366 , -0.61636292, -0.7005289 , -0.21201851,\n",
              "        -0.83350875, -0.14993925],\n",
              "       [ 0.73029674, -0.49557067,  1.05755428, -0.39266691,  0.81227693,\n",
              "        -0.55157087, -0.10876141, -0.61636292, -0.7005289 , -0.71350891,\n",
              "        -0.83350875, -0.88901578],\n",
              "       [-1.36930639,  0.51514582,  1.05755428, -0.57195161,  0.81227693,\n",
              "         1.1561774 ,  0.43483461, -0.61636292, -0.7005289 , -1.19930438,\n",
              "         1.19974745, -0.6078838 ],\n",
              "       [-1.36930639,  1.04806906, -0.94557794, -0.2133822 , -1.23110723,\n",
              "         1.1561774 , -0.21748061,  1.71856485, -0.7005289 ,  0.29545092,\n",
              "         1.19974745,  1.82152086],\n",
              "       [ 0.73029674, -0.40368736, -0.94557794,  0.05554485, -1.23110723,\n",
              "        -0.55157087, -1.06005444, -0.61636292, -0.7005289 ,  0.40755757,\n",
              "        -0.83350875, -1.86502115],\n",
              "       [-1.36930639,  1.15832904, -0.94557794,  0.86232601, -1.23110723,\n",
              "         1.1561774 , -0.02722201,  1.71856485, -0.7005289 , -1.01245997,\n",
              "         1.19974745, -1.12594462],\n",
              "       [-1.36930639,  0.30381419, -0.94557794, -1.73730218, -1.23110723,\n",
              "        -0.55157087,  0.93766093,  1.71856485, -0.7005289 ,  0.5570331 ,\n",
              "         1.19974745, -0.45936124],\n",
              "       [ 0.73029674,  0.79079577,  1.05755428,  0.35046819,  0.81227693,\n",
              "        -0.55157087,  0.70663262, -0.61636292, -0.7005289 ,  1.75283733,\n",
              "        -0.83350875,  0.90209552],\n",
              "       [ 0.73029674, -0.40368736, -0.94557794, -0.75123631,  0.81227693,\n",
              "         1.1561774 , -1.73954946, -0.61636292, -0.7005289 ,  1.30441074,\n",
              "         1.19974745, -0.28608493],\n",
              "       [ 0.73029674, -1.12037723, -0.94557794, -0.30302456,  0.81227693,\n",
              "         1.1561774 , -1.06005444, -0.61636292, -0.7005289 ,  0.5570331 ,\n",
              "         1.19974745, -0.6008113 ],\n",
              "       [-1.36930639,  0.23949586, -0.94557794, -0.39266691, -1.23110723,\n",
              "         1.1561774 ,  0.0271376 ,  1.71856485, -0.7005289 ,  0.25808204,\n",
              "         1.19974745,  1.08774871],\n",
              "       [ 0.73029674, -0.31180404,  1.05755428, -0.39266691,  0.81227693,\n",
              "        -0.55157087,  0.29893561, -0.61636292, -0.7005289 , -0.56403338,\n",
              "        -0.83350875,  0.10997522],\n",
              "       [-1.36930639,  0.9745624 , -0.94557794,  1.75874953, -1.23110723,\n",
              "        -2.25931913, -1.33185245,  0.55110096, -0.7005289 , -1.08719773,\n",
              "        -0.83350875,  0.39641158],\n",
              "       [-1.36930639,  0.37732084, -0.94557794, -0.34784573,  0.81227693,\n",
              "        -0.55157087, -0.65235743, -0.61636292, -0.7005289 ,  1.67137317,\n",
              "        -0.83350875,  1.27163378],\n",
              "       [-1.36930639,  0.05572923, -0.94557794,  0.32447191, -1.23110723,\n",
              "        -0.55157087, -0.10876141,  0.55110096, -0.7005289 ,  1.22967298,\n",
              "         1.19974745,  1.7896946 ],\n",
              "       [-1.36930639,  1.98527889, -0.94557794,  0.50375661, -1.23110723,\n",
              "         1.1561774 ,  1.65792565,  0.55110096, -0.7005289 ,  0.78124639,\n",
              "         1.19974745,  1.69598394],\n",
              "       [ 0.73029674, -0.10966074, -0.94557794, -0.44645232, -1.23110723,\n",
              "        -0.55157087, -0.13594121, -0.61636292,  1.42749285,  1.63325691,\n",
              "        -0.83350875, -0.79530512],\n",
              "       [-1.36930639,  0.80917243, -0.94557794,  0.61132743, -1.23110723,\n",
              "         1.1561774 ,  0.35329521, -0.61636292, -0.7005289 , -0.48929561,\n",
              "         1.19974745,  0.20191775],\n",
              "       [-1.36930639,  1.43397899,  1.05755428, -0.2133822 ,  0.81227693,\n",
              "         1.1561774 ,  0.97843063,  1.71856485,  1.42749285,  1.8275751 ,\n",
              "        -0.83350875,  1.75610021],\n",
              "       [ 0.73029674, -0.40368736, -0.94557794, -1.73730218, -1.23110723,\n",
              "        -0.55157087, -2.14724648, -0.61636292, -0.7005289 ,  0.3328198 ,\n",
              "         1.19974745, -1.21611903],\n",
              "       [ 0.73029674, -0.40368736, -0.94557794, -0.30302456,  0.81227693,\n",
              "         1.1561774 ,  0.0271376 , -0.61636292, -0.7005289 ,  1.00545968,\n",
              "         1.19974745, -1.18429277],\n",
              "       [ 0.73029674,  2.11391554,  1.05755428, -0.0645759 ,  0.81227693,\n",
              "         1.1561774 ,  0.74060737,  1.71856485, -0.7005289 ,  0.03386874,\n",
              "         1.19974745,  0.2461209 ],\n",
              "       [ 0.73029674,  1.18865053, -0.94557794,  1.07119269,  0.81227693,\n",
              "         1.1561774 ,  1.58725817,  1.71856485,  1.42749285,  1.11756633,\n",
              "        -0.83350875,  0.78539922],\n",
              "       [ 0.73029674,  0.62908113,  1.05755428, -1.39397197,  0.81227693,\n",
              "         1.1561774 , -0.20796768,  1.71856485,  1.42749285, -0.56403338,\n",
              "        -0.83350875,  0.7765586 ],\n",
              "       [ 0.73029674,  0.29462585, -0.94557794,  0.18104414, -1.23110723,\n",
              "        -0.55157087,  1.69869535, -0.61636292,  1.42749285, -0.86298444,\n",
              "        -0.83350875,  0.3292228 ],\n",
              "       [ 0.73029674, -0.51394734, -0.94557794,  0.18104414, -1.23110723,\n",
              "        -0.55157087, -0.16312101, -0.61636292,  1.42749285,  0.83057331,\n",
              "        -0.83350875,  0.44238285],\n",
              "       [ 0.73029674, -0.12803741, -0.94557794, -0.12373985, -1.23110723,\n",
              "        -0.55157087,  1.25022864, -0.61636292, -0.7005289 ,  0.85598415,\n",
              "        -0.83350875, -0.52478189],\n",
              "       [ 0.73029674,  1.43397899, -0.94557794, -0.2133822 , -1.23110723,\n",
              "         1.1561774 ,  0.0271376 ,  1.71856485,  1.42749285, -0.33982008,\n",
              "        -0.83350875,  0.0533952 ],\n",
              "       [ 0.73029674,  1.43397899,  1.05755428,  2.11731893,  0.81227693,\n",
              "        -0.55157087,  2.33742067, -0.61636292, -0.7005289 ,  0.63177086,\n",
              "         1.19974745,  2.06552221],\n",
              "       [ 0.73029674, -0.40368736,  1.05755428, -0.12373985,  0.81227693,\n",
              "        -0.55157087,  0.0271376 , -0.61636292, -0.7005289 , -1.61036209,\n",
              "         1.19974745, -0.90846516],\n",
              "       [-1.36930639, -2.14947039, -0.94557794, -0.57195161,  0.81227693,\n",
              "         1.1561774 , -0.10876141, -0.61636292, -0.7005289 ,  1.57795096,\n",
              "         1.19974745,  0.191309  ],\n",
              "       [-1.36930639,  0.88267909, -0.94557794,  0.32447191, -1.23110723,\n",
              "         1.1561774 ,  1.38612764, -0.61636292,  1.42749285, -0.41455785,\n",
              "        -0.83350875,  0.4600641 ],\n",
              "       [-1.36930639,  0.78160744,  1.05755428, -0.84087866,  0.81227693,\n",
              "         1.1561774 , -0.51645842,  0.55110096,  1.42749285,  0.63177086,\n",
              "        -0.83350875, -0.18706989],\n",
              "       [ 0.73029674,  0.14761255,  1.05755428, -0.93052102,  0.81227693,\n",
              "         1.1561774 ,  0.29893561,  1.71856485, -0.7005289 ,  0.10860651,\n",
              "         1.19974745,  1.10189372],\n",
              "       [ 0.73029674, -0.77122063, -0.94557794, -0.48230926, -1.23110723,\n",
              "        -0.55157087, -0.78825643, -0.61636292,  1.42749285, -0.71350891,\n",
              "         1.19974745, -0.17469301],\n",
              "       [-1.36930639,  0.41315533,  1.05755428,  0.50196376,  0.81227693,\n",
              "         1.1561774 , -0.02722201, -0.61636292, -0.7005289 , -0.26508232,\n",
              "         1.19974745,  1.73134646],\n",
              "       [ 0.73029674,  0.60702913, -0.94557794, -0.2133822 ,  0.81227693,\n",
              "        -0.55157087,  1.52202665, -0.61636292,  1.42749285, -0.48929561,\n",
              "         1.19974745, -0.15170738],\n",
              "       [ 0.73029674,  0.13842421,  1.05755428, -0.39266691,  0.81227693,\n",
              "         1.1561774 ,  0.1630366 ,  1.71856485,  1.42749285, -1.00498619,\n",
              "        -0.83350875,  2.45274173],\n",
              "       [ 0.73029674,  1.25021235,  1.05755428,  1.22089542,  0.81227693,\n",
              "        -0.55157087,  0.84253162, -0.61636292,  1.42749285, -0.57972831,\n",
              "        -0.83350875,  0.74296421],\n",
              "       [ 0.73029674,  1.70962894, -0.94557794, -0.57195161,  0.81227693,\n",
              "         1.1561774 ,  1.0368672 ,  1.71856485,  1.42749285, -0.86298444,\n",
              "        -0.83350875, -0.09689548],\n",
              "       [-1.36930639, -1.87382043,  1.05755428, -1.54008901,  0.81227693,\n",
              "        -0.55157087,  1.79382465, -0.61636292, -0.7005289 ,  0.20427085,\n",
              "        -0.83350875, -1.51139602],\n",
              "       [ 0.73029674,  0.4232625 ,  1.05755428,  1.13125307,  0.81227693,\n",
              "        -0.55157087,  0.0271376 , -0.61636292,  1.42749285,  1.67809957,\n",
              "        -0.83350875, -0.75817448],\n",
              "       [-1.36930639,  1.15832904,  1.05755428, -0.48230926,  0.81227693,\n",
              "         1.1561774 ,  1.31817814,  1.71856485,  1.42749285, -0.11560679,\n",
              "        -0.83350875,  1.12487935],\n",
              "       [ 0.73029674, -0.67933731, -0.94557794, -0.2133822 ,  0.81227693,\n",
              "         1.1561774 , -1.06005444,  1.71856485, -0.7005289 ,  1.00545968,\n",
              "         1.19974745, -1.15600276],\n",
              "       [ 0.73029674,  0.60702913, -0.94557794,  1.04161072, -1.23110723,\n",
              "         1.1561774 ,  0.97843063,  1.71856485,  1.42749285,  1.00545968,\n",
              "         1.19974745,  0.70583357],\n",
              "       [ 0.73029674,  1.28696568, -0.94557794,  0.6292559 , -1.23110723,\n",
              "         1.1561774 ,  1.61987393,  1.71856485,  1.42749285,  0.72145618,\n",
              "         1.19974745,  2.54998864],\n",
              "       [ 0.73029674,  0.92862074,  1.05755428,  2.80756504,  0.81227693,\n",
              "         1.1561774 ,  1.77479879,  1.71856485, -0.7005289 ,  1.93220797,\n",
              "        -0.83350875,  2.15216036]])"
            ]
          },
          "metadata": {
            "tags": []
          },
          "execution_count": 40
        }
      ]
    },
    {
      "cell_type": "code",
      "metadata": {
        "id": "9ehN74PdjpK_",
        "colab_type": "code",
        "colab": {}
      },
      "source": [
        "y_test=imp.fit_transform(y_test)"
      ],
      "execution_count": 41,
      "outputs": []
    },
    {
      "cell_type": "code",
      "metadata": {
        "id": "bGx2BnBojyFU",
        "colab_type": "code",
        "colab": {}
      },
      "source": [
        "y_train=imp.fit_transform(y_train)"
      ],
      "execution_count": 42,
      "outputs": []
    },
    {
      "cell_type": "markdown",
      "metadata": {
        "id": "n4sD6yNIDNOX",
        "colab_type": "text"
      },
      "source": [
        "TO COUNT THE UNIQUE VALUES"
      ]
    },
    {
      "cell_type": "code",
      "metadata": {
        "id": "P3V365msboRn",
        "colab_type": "code",
        "colab": {
          "base_uri": "https://localhost:8080/",
          "height": 69
        },
        "outputId": "38820c81-c65a-4250-88fc-375e1fc4fc40"
      },
      "source": [
        "data.gender.value_counts()"
      ],
      "execution_count": 43,
      "outputs": [
        {
          "output_type": "execute_result",
          "data": {
            "text/plain": [
              "1    139\n",
              "0     76\n",
              "Name: gender, dtype: int64"
            ]
          },
          "metadata": {
            "tags": []
          },
          "execution_count": 43
        }
      ]
    },
    {
      "cell_type": "code",
      "metadata": {
        "id": "KPxu8KV5cdPe",
        "colab_type": "code",
        "colab": {
          "base_uri": "https://localhost:8080/",
          "height": 69
        },
        "outputId": "4c055b05-975b-4ecc-96b0-1d3d9caf4940"
      },
      "source": [
        "data.ssc_b.value_counts()"
      ],
      "execution_count": 44,
      "outputs": [
        {
          "output_type": "execute_result",
          "data": {
            "text/plain": [
              "0    116\n",
              "1     99\n",
              "Name: ssc_b, dtype: int64"
            ]
          },
          "metadata": {
            "tags": []
          },
          "execution_count": 44
        }
      ]
    },
    {
      "cell_type": "code",
      "metadata": {
        "id": "_pkpjCwAck8U",
        "colab_type": "code",
        "colab": {
          "base_uri": "https://localhost:8080/",
          "height": 69
        },
        "outputId": "f45a722a-c6f1-43a7-dd1e-959389859c47"
      },
      "source": [
        "data.hsc_b.value_counts()"
      ],
      "execution_count": 45,
      "outputs": [
        {
          "output_type": "execute_result",
          "data": {
            "text/plain": [
              "1    131\n",
              "0     84\n",
              "Name: hsc_b, dtype: int64"
            ]
          },
          "metadata": {
            "tags": []
          },
          "execution_count": 45
        }
      ]
    },
    {
      "cell_type": "code",
      "metadata": {
        "id": "xvloOmVtcwDH",
        "colab_type": "code",
        "colab": {
          "base_uri": "https://localhost:8080/",
          "height": 87
        },
        "outputId": "598f346f-be39-46ca-a186-8483f3b83bf0"
      },
      "source": [
        "data.hsc_s.value_counts()"
      ],
      "execution_count": 46,
      "outputs": [
        {
          "output_type": "execute_result",
          "data": {
            "text/plain": [
              "1    113\n",
              "2     91\n",
              "0     11\n",
              "Name: hsc_s, dtype: int64"
            ]
          },
          "metadata": {
            "tags": []
          },
          "execution_count": 46
        }
      ]
    },
    {
      "cell_type": "code",
      "metadata": {
        "id": "497ZdKLJc-Fp",
        "colab_type": "code",
        "colab": {
          "base_uri": "https://localhost:8080/",
          "height": 87
        },
        "outputId": "b0e3a453-7828-4a81-ecf9-891afc5c04cc"
      },
      "source": [
        "data.degree_t.value_counts()"
      ],
      "execution_count": 47,
      "outputs": [
        {
          "output_type": "execute_result",
          "data": {
            "text/plain": [
              "0    145\n",
              "2     59\n",
              "1     11\n",
              "Name: degree_t, dtype: int64"
            ]
          },
          "metadata": {
            "tags": []
          },
          "execution_count": 47
        }
      ]
    },
    {
      "cell_type": "code",
      "metadata": {
        "id": "Fj9H1I7gdG5a",
        "colab_type": "code",
        "colab": {
          "base_uri": "https://localhost:8080/",
          "height": 69
        },
        "outputId": "f27e849f-8b6e-4856-8074-551572f234b2"
      },
      "source": [
        "data.specialisation.value_counts()"
      ],
      "execution_count": 48,
      "outputs": [
        {
          "output_type": "execute_result",
          "data": {
            "text/plain": [
              "0    120\n",
              "1     95\n",
              "Name: specialisation, dtype: int64"
            ]
          },
          "metadata": {
            "tags": []
          },
          "execution_count": 48
        }
      ]
    },
    {
      "cell_type": "markdown",
      "metadata": {
        "id": "xHv5lPvcyUod",
        "colab_type": "text"
      },
      "source": [
        "# REGRESSION"
      ]
    },
    {
      "cell_type": "markdown",
      "metadata": {
        "id": "RpZkzMwwTHWr",
        "colab_type": "text"
      },
      "source": [
        "# LINEAR REGRESSION"
      ]
    },
    {
      "cell_type": "code",
      "metadata": {
        "id": "q0wwLjNEypVC",
        "colab_type": "code",
        "colab": {}
      },
      "source": [
        "from sklearn.linear_model import LinearRegression"
      ],
      "execution_count": 49,
      "outputs": []
    },
    {
      "cell_type": "code",
      "metadata": {
        "id": "m56dW3d6ycTv",
        "colab_type": "code",
        "colab": {}
      },
      "source": [
        "l_r = LinearRegression()"
      ],
      "execution_count": 50,
      "outputs": []
    },
    {
      "cell_type": "code",
      "metadata": {
        "id": "rJJGBlpozGNB",
        "colab_type": "code",
        "colab": {
          "base_uri": "https://localhost:8080/",
          "height": 0
        },
        "outputId": "8130302c-5078-4eed-e970-4ce8f0d2456d"
      },
      "source": [
        "l_r.fit(x_train,y_train)"
      ],
      "execution_count": 51,
      "outputs": [
        {
          "output_type": "execute_result",
          "data": {
            "text/plain": [
              "LinearRegression(copy_X=True, fit_intercept=True, n_jobs=None, normalize=False)"
            ]
          },
          "metadata": {
            "tags": []
          },
          "execution_count": 51
        }
      ]
    },
    {
      "cell_type": "code",
      "metadata": {
        "id": "4iOz2c03Fb3k",
        "colab_type": "code",
        "colab": {
          "base_uri": "https://localhost:8080/",
          "height": 0
        },
        "outputId": "2b7c7bae-e47c-47d3-bdc5-64e78efbc636"
      },
      "source": [
        "l_pred = l_r.predict(x_test)\n",
        "l_pred"
      ],
      "execution_count": 52,
      "outputs": [
        {
          "output_type": "execute_result",
          "data": {
            "text/plain": [
              "array([[ 0.6241023 ],\n",
              "       [ 0.09006242],\n",
              "       [ 0.38300539],\n",
              "       [ 0.45558833],\n",
              "       [ 1.15783893],\n",
              "       [ 0.40657135],\n",
              "       [ 1.1476874 ],\n",
              "       [ 1.17849347],\n",
              "       [ 0.66862973],\n",
              "       [ 0.82110572],\n",
              "       [ 0.4409026 ],\n",
              "       [ 0.74923749],\n",
              "       [ 1.019075  ],\n",
              "       [ 0.50965264],\n",
              "       [ 0.84758307],\n",
              "       [ 0.30531257],\n",
              "       [ 0.30486831],\n",
              "       [ 0.35320386],\n",
              "       [ 0.61447251],\n",
              "       [ 0.83793198],\n",
              "       [ 0.40194537],\n",
              "       [ 0.32162406],\n",
              "       [ 0.98758188],\n",
              "       [ 0.84240237],\n",
              "       [ 0.879845  ],\n",
              "       [ 0.8298303 ],\n",
              "       [ 0.32870827],\n",
              "       [ 0.64819934],\n",
              "       [ 1.08010888],\n",
              "       [ 1.12605589],\n",
              "       [ 0.62613232],\n",
              "       [ 1.0734827 ],\n",
              "       [ 0.66040329],\n",
              "       [ 0.82829242],\n",
              "       [ 1.04913556],\n",
              "       [ 1.17278304],\n",
              "       [ 0.71352366],\n",
              "       [-0.05433747],\n",
              "       [ 1.12033678],\n",
              "       [ 0.80676212],\n",
              "       [ 0.3645941 ],\n",
              "       [ 0.54065003],\n",
              "       [ 0.5394499 ],\n",
              "       [ 1.07856762],\n",
              "       [ 0.43724825],\n",
              "       [ 1.27914592],\n",
              "       [ 1.17102622],\n",
              "       [ 0.41430508],\n",
              "       [ 1.15860643],\n",
              "       [ 0.88642609],\n",
              "       [ 0.36432009],\n",
              "       [ 0.93315368],\n",
              "       [ 0.86796496],\n",
              "       [ 0.95892639]])"
            ]
          },
          "metadata": {
            "tags": []
          },
          "execution_count": 52
        }
      ]
    },
    {
      "cell_type": "code",
      "metadata": {
        "id": "3a4twEg6Fr2f",
        "colab_type": "code",
        "colab": {}
      },
      "source": [
        "from sklearn.metrics import accuracy_score\n",
        "from sklearn.metrics import confusion_matrix\n",
        "from sklearn.metrics import r2_score"
      ],
      "execution_count": 53,
      "outputs": []
    },
    {
      "cell_type": "code",
      "metadata": {
        "id": "aSKet-tzGBP7",
        "colab_type": "code",
        "colab": {
          "base_uri": "https://localhost:8080/",
          "height": 0
        },
        "outputId": "49c70adb-9d4d-49b2-ec72-88723fa0ec14"
      },
      "source": [
        "l_cmat=confusion_matrix(y_test,l_pred.round(),normalize=None)\n",
        "l_cmat"
      ],
      "execution_count": 54,
      "outputs": [
        {
          "output_type": "execute_result",
          "data": {
            "text/plain": [
              "array([[12,  4],\n",
              "       [ 4, 34]])"
            ]
          },
          "metadata": {
            "tags": []
          },
          "execution_count": 54
        }
      ]
    },
    {
      "cell_type": "code",
      "metadata": {
        "id": "TW_4-MiWH6Dr",
        "colab_type": "code",
        "colab": {
          "base_uri": "https://localhost:8080/",
          "height": 0
        },
        "outputId": "178b0678-12b4-44dd-b804-d97318b6b16a"
      },
      "source": [
        "l_a=accuracy_score(y_test,l_pred.round(),normalize=None)\n",
        "l_a"
      ],
      "execution_count": 55,
      "outputs": [
        {
          "output_type": "execute_result",
          "data": {
            "text/plain": [
              "46"
            ]
          },
          "metadata": {
            "tags": []
          },
          "execution_count": 55
        }
      ]
    },
    {
      "cell_type": "code",
      "metadata": {
        "id": "1-G2uzZRIY2o",
        "colab_type": "code",
        "colab": {
          "base_uri": "https://localhost:8080/",
          "height": 0
        },
        "outputId": "4fc90cd7-960a-4dcc-8ffb-6b2ddc52e859"
      },
      "source": [
        "l_r2=r2_score(y_test,l_pred.round())\n",
        "l_r2"
      ],
      "execution_count": 56,
      "outputs": [
        {
          "output_type": "execute_result",
          "data": {
            "text/plain": [
              "0.28947368421052655"
            ]
          },
          "metadata": {
            "tags": []
          },
          "execution_count": 56
        }
      ]
    },
    {
      "cell_type": "markdown",
      "metadata": {
        "id": "F1QR87uvTmCc",
        "colab_type": "text"
      },
      "source": [
        "# MULTIPLE REGRESSION"
      ]
    },
    {
      "cell_type": "code",
      "metadata": {
        "id": "hUbjnEqBIwNy",
        "colab_type": "code",
        "colab": {}
      },
      "source": [
        "from sklearn.linear_model import  LinearRegression"
      ],
      "execution_count": 57,
      "outputs": []
    },
    {
      "cell_type": "code",
      "metadata": {
        "id": "wY_ubDa2W3rp",
        "colab_type": "code",
        "colab": {}
      },
      "source": [
        "m_r = LinearRegression()"
      ],
      "execution_count": 58,
      "outputs": []
    },
    {
      "cell_type": "code",
      "metadata": {
        "id": "4aAISlsRW9L-",
        "colab_type": "code",
        "colab": {
          "base_uri": "https://localhost:8080/",
          "height": 0
        },
        "outputId": "fa5f011f-f404-4479-e6ba-5f13c6a080d1"
      },
      "source": [
        "m_r.fit(x_train,y_train)"
      ],
      "execution_count": 59,
      "outputs": [
        {
          "output_type": "execute_result",
          "data": {
            "text/plain": [
              "LinearRegression(copy_X=True, fit_intercept=True, n_jobs=None, normalize=False)"
            ]
          },
          "metadata": {
            "tags": []
          },
          "execution_count": 59
        }
      ]
    },
    {
      "cell_type": "code",
      "metadata": {
        "id": "2OhWVNazXDtn",
        "colab_type": "code",
        "colab": {
          "base_uri": "https://localhost:8080/",
          "height": 0
        },
        "outputId": "e4b06ce8-0dcf-40d1-cfdf-0a9283326e02"
      },
      "source": [
        "m_pred = m_r.predict(x_test)\n",
        "m_pred"
      ],
      "execution_count": 60,
      "outputs": [
        {
          "output_type": "execute_result",
          "data": {
            "text/plain": [
              "array([[ 0.6241023 ],\n",
              "       [ 0.09006242],\n",
              "       [ 0.38300539],\n",
              "       [ 0.45558833],\n",
              "       [ 1.15783893],\n",
              "       [ 0.40657135],\n",
              "       [ 1.1476874 ],\n",
              "       [ 1.17849347],\n",
              "       [ 0.66862973],\n",
              "       [ 0.82110572],\n",
              "       [ 0.4409026 ],\n",
              "       [ 0.74923749],\n",
              "       [ 1.019075  ],\n",
              "       [ 0.50965264],\n",
              "       [ 0.84758307],\n",
              "       [ 0.30531257],\n",
              "       [ 0.30486831],\n",
              "       [ 0.35320386],\n",
              "       [ 0.61447251],\n",
              "       [ 0.83793198],\n",
              "       [ 0.40194537],\n",
              "       [ 0.32162406],\n",
              "       [ 0.98758188],\n",
              "       [ 0.84240237],\n",
              "       [ 0.879845  ],\n",
              "       [ 0.8298303 ],\n",
              "       [ 0.32870827],\n",
              "       [ 0.64819934],\n",
              "       [ 1.08010888],\n",
              "       [ 1.12605589],\n",
              "       [ 0.62613232],\n",
              "       [ 1.0734827 ],\n",
              "       [ 0.66040329],\n",
              "       [ 0.82829242],\n",
              "       [ 1.04913556],\n",
              "       [ 1.17278304],\n",
              "       [ 0.71352366],\n",
              "       [-0.05433747],\n",
              "       [ 1.12033678],\n",
              "       [ 0.80676212],\n",
              "       [ 0.3645941 ],\n",
              "       [ 0.54065003],\n",
              "       [ 0.5394499 ],\n",
              "       [ 1.07856762],\n",
              "       [ 0.43724825],\n",
              "       [ 1.27914592],\n",
              "       [ 1.17102622],\n",
              "       [ 0.41430508],\n",
              "       [ 1.15860643],\n",
              "       [ 0.88642609],\n",
              "       [ 0.36432009],\n",
              "       [ 0.93315368],\n",
              "       [ 0.86796496],\n",
              "       [ 0.95892639]])"
            ]
          },
          "metadata": {
            "tags": []
          },
          "execution_count": 60
        }
      ]
    },
    {
      "cell_type": "code",
      "metadata": {
        "id": "qizHbR6NZnb0",
        "colab_type": "code",
        "colab": {
          "base_uri": "https://localhost:8080/",
          "height": 0
        },
        "outputId": "3a888cc0-eb76-43e9-ad7b-7e4805fcd3d4"
      },
      "source": [
        "m_r2 = r2_score(y_test,m_pred)\n",
        "m_r2"
      ],
      "execution_count": 61,
      "outputs": [
        {
          "output_type": "execute_result",
          "data": {
            "text/plain": [
              "0.4853085350939369"
            ]
          },
          "metadata": {
            "tags": []
          },
          "execution_count": 61
        }
      ]
    },
    {
      "cell_type": "code",
      "metadata": {
        "id": "KH78AY7QXMEH",
        "colab_type": "code",
        "colab": {
          "base_uri": "https://localhost:8080/",
          "height": 0
        },
        "outputId": "b925b44d-b2e4-4e51-efae-5590d975abea"
      },
      "source": [
        "m_r.coef_"
      ],
      "execution_count": 62,
      "outputs": [
        {
          "output_type": "execute_result",
          "data": {
            "text/plain": [
              "array([[ 0.02598763,  0.2357939 ,  0.01998252,  0.10819184, -0.01468817,\n",
              "         0.00141082,  0.09557836, -0.05176959,  0.07254641, -0.01730651,\n",
              "        -0.01818954, -0.13400358]])"
            ]
          },
          "metadata": {
            "tags": []
          },
          "execution_count": 62
        }
      ]
    },
    {
      "cell_type": "code",
      "metadata": {
        "id": "LGXLIaAEYc8p",
        "colab_type": "code",
        "colab": {
          "base_uri": "https://localhost:8080/",
          "height": 0
        },
        "outputId": "3b19d9fe-d8a0-4e7e-a820-fb0fab0dbf9a"
      },
      "source": [
        "m_r.intercept_"
      ],
      "execution_count": 63,
      "outputs": [
        {
          "output_type": "execute_result",
          "data": {
            "text/plain": [
              "array([0.68322981])"
            ]
          },
          "metadata": {
            "tags": []
          },
          "execution_count": 63
        }
      ]
    },
    {
      "cell_type": "code",
      "metadata": {
        "id": "wPbNsZoTYhN-",
        "colab_type": "code",
        "colab": {}
      },
      "source": [
        "from sklearn.metrics import mean_squared_error\n",
        "mmse = np.sqrt(mean_squared_error(m_pred,y_test))"
      ],
      "execution_count": 64,
      "outputs": []
    },
    {
      "cell_type": "code",
      "metadata": {
        "id": "S0WyN912ZCkt",
        "colab_type": "code",
        "colab": {
          "base_uri": "https://localhost:8080/",
          "height": 0
        },
        "outputId": "8f9acb1f-0cb0-419d-913e-4df14d2730fa"
      },
      "source": [
        "mmse"
      ],
      "execution_count": 65,
      "outputs": [
        {
          "output_type": "execute_result",
          "data": {
            "text/plain": [
              "0.32759066152252403"
            ]
          },
          "metadata": {
            "tags": []
          },
          "execution_count": 65
        }
      ]
    },
    {
      "cell_type": "markdown",
      "metadata": {
        "id": "qtxzdc-MT_4P",
        "colab_type": "text"
      },
      "source": [
        "# POLYNOMIAL REGRESSION"
      ]
    },
    {
      "cell_type": "code",
      "metadata": {
        "id": "3gfTWnVzJlFd",
        "colab_type": "code",
        "colab": {}
      },
      "source": [
        "from sklearn.preprocessing import PolynomialFeatures"
      ],
      "execution_count": 66,
      "outputs": []
    },
    {
      "cell_type": "code",
      "metadata": {
        "id": "8sHarchrJvNR",
        "colab_type": "code",
        "colab": {}
      },
      "source": [
        "p_r = PolynomialFeatures(degree=5)\n",
        "p_r = p_r.fit_transform(x_test)"
      ],
      "execution_count": 67,
      "outputs": []
    },
    {
      "cell_type": "code",
      "metadata": {
        "id": "7-19T596KAWt",
        "colab_type": "code",
        "colab": {}
      },
      "source": [
        "p_l_r = LinearRegression()"
      ],
      "execution_count": 68,
      "outputs": []
    },
    {
      "cell_type": "code",
      "metadata": {
        "id": "SKwJ5sSzKlwi",
        "colab_type": "code",
        "colab": {
          "base_uri": "https://localhost:8080/",
          "height": 0
        },
        "outputId": "c4c31bec-4f5f-46ca-e75e-c0f2e5815644"
      },
      "source": [
        "p_l_r.fit(p_r,y_test)"
      ],
      "execution_count": 69,
      "outputs": [
        {
          "output_type": "execute_result",
          "data": {
            "text/plain": [
              "LinearRegression(copy_X=True, fit_intercept=True, n_jobs=None, normalize=False)"
            ]
          },
          "metadata": {
            "tags": []
          },
          "execution_count": 69
        }
      ]
    },
    {
      "cell_type": "code",
      "metadata": {
        "id": "EdsXGugSKnAH",
        "colab_type": "code",
        "colab": {
          "base_uri": "https://localhost:8080/",
          "height": 0
        },
        "outputId": "204c73cc-d329-466f-b822-a85b1ae1bd7c"
      },
      "source": [
        "p_pred = p_l_r.predict(p_r)\n",
        "p_pred"
      ],
      "execution_count": 70,
      "outputs": [
        {
          "output_type": "execute_result",
          "data": {
            "text/plain": [
              "array([[-8.88178420e-16],\n",
              "       [-7.77156117e-16],\n",
              "       [ 1.00000000e+00],\n",
              "       [ 1.00000000e+00],\n",
              "       [ 1.00000000e+00],\n",
              "       [ 1.00000000e+00],\n",
              "       [ 1.00000000e+00],\n",
              "       [ 1.00000000e+00],\n",
              "       [ 1.00000000e+00],\n",
              "       [ 1.00000000e+00],\n",
              "       [ 8.88178420e-16],\n",
              "       [-1.11022302e-15],\n",
              "       [ 1.00000000e+00],\n",
              "       [-1.11022302e-15],\n",
              "       [ 1.00000000e+00],\n",
              "       [ 1.55431223e-15],\n",
              "       [-5.55111512e-16],\n",
              "       [ 4.44089210e-16],\n",
              "       [ 1.00000000e+00],\n",
              "       [ 1.00000000e+00],\n",
              "       [ 1.66533454e-15],\n",
              "       [ 9.99200722e-16],\n",
              "       [ 1.00000000e+00],\n",
              "       [ 1.00000000e+00],\n",
              "       [ 1.00000000e+00],\n",
              "       [ 1.00000000e+00],\n",
              "       [-2.66453526e-15],\n",
              "       [ 1.00000000e+00],\n",
              "       [ 1.00000000e+00],\n",
              "       [ 1.00000000e+00],\n",
              "       [ 1.00000000e+00],\n",
              "       [ 1.00000000e+00],\n",
              "       [ 1.00000000e+00],\n",
              "       [ 1.00000000e+00],\n",
              "       [ 1.00000000e+00],\n",
              "       [ 1.00000000e+00],\n",
              "       [ 1.00000000e+00],\n",
              "       [ 1.44328993e-15],\n",
              "       [ 1.00000000e+00],\n",
              "       [ 1.00000000e+00],\n",
              "       [ 1.00000000e+00],\n",
              "       [ 1.00000000e+00],\n",
              "       [ 1.11022302e-16],\n",
              "       [ 1.00000000e+00],\n",
              "       [ 6.66133815e-16],\n",
              "       [ 1.00000000e+00],\n",
              "       [ 1.00000000e+00],\n",
              "       [ 3.33066907e-16],\n",
              "       [ 1.00000000e+00],\n",
              "       [ 1.00000000e+00],\n",
              "       [ 1.99840144e-15],\n",
              "       [ 1.00000000e+00],\n",
              "       [ 1.00000000e+00],\n",
              "       [ 1.00000000e+00]])"
            ]
          },
          "metadata": {
            "tags": []
          },
          "execution_count": 70
        }
      ]
    },
    {
      "cell_type": "markdown",
      "metadata": {
        "id": "RlaSxh_Rea00",
        "colab_type": "text"
      },
      "source": [
        "# DECISION TREE REGRESSION"
      ]
    },
    {
      "cell_type": "code",
      "metadata": {
        "id": "4nz3pXbWehfx",
        "colab_type": "code",
        "colab": {}
      },
      "source": [
        "from sklearn.tree import DecisionTreeRegressor"
      ],
      "execution_count": 71,
      "outputs": []
    },
    {
      "cell_type": "code",
      "metadata": {
        "id": "2q-0bONNgBmE",
        "colab_type": "code",
        "colab": {}
      },
      "source": [
        "d_r = DecisionTreeRegressor()"
      ],
      "execution_count": 72,
      "outputs": []
    },
    {
      "cell_type": "code",
      "metadata": {
        "id": "HxnHu_6FgHg3",
        "colab_type": "code",
        "colab": {
          "base_uri": "https://localhost:8080/",
          "height": 0
        },
        "outputId": "22844a17-00d7-4a29-d698-a58fd9491fd8"
      },
      "source": [
        "d_r.fit(x_train,y_train)"
      ],
      "execution_count": 73,
      "outputs": [
        {
          "output_type": "execute_result",
          "data": {
            "text/plain": [
              "DecisionTreeRegressor(ccp_alpha=0.0, criterion='mse', max_depth=None,\n",
              "                      max_features=None, max_leaf_nodes=None,\n",
              "                      min_impurity_decrease=0.0, min_impurity_split=None,\n",
              "                      min_samples_leaf=1, min_samples_split=2,\n",
              "                      min_weight_fraction_leaf=0.0, presort='deprecated',\n",
              "                      random_state=None, splitter='best')"
            ]
          },
          "metadata": {
            "tags": []
          },
          "execution_count": 73
        }
      ]
    },
    {
      "cell_type": "code",
      "metadata": {
        "id": "knIIUJiRgSmo",
        "colab_type": "code",
        "colab": {
          "base_uri": "https://localhost:8080/",
          "height": 0
        },
        "outputId": "937db820-e370-4b3e-aa67-2e4b3a87abb1"
      },
      "source": [
        "d_pred = d_r.predict(x_test)\n",
        "d_pred"
      ],
      "execution_count": 74,
      "outputs": [
        {
          "output_type": "execute_result",
          "data": {
            "text/plain": [
              "array([1., 0., 0., 1., 1., 0., 1., 1., 1., 1., 0., 1., 1., 1., 1., 0., 1.,\n",
              "       1., 0., 1., 1., 1., 1., 1., 1., 0., 0., 1., 1., 1., 1., 1., 1., 1.,\n",
              "       0., 1., 1., 1., 1., 1., 0., 0., 1., 0., 0., 1., 1., 0., 1., 1., 1.,\n",
              "       1., 1., 1.])"
            ]
          },
          "metadata": {
            "tags": []
          },
          "execution_count": 74
        }
      ]
    },
    {
      "cell_type": "code",
      "metadata": {
        "id": "5duLnDO8gdXy",
        "colab_type": "code",
        "colab": {
          "base_uri": "https://localhost:8080/",
          "height": 0
        },
        "outputId": "636c77d5-8d71-4cc8-b075-f5e56902a8ca"
      },
      "source": [
        "d_r2 = r2_score(y_test,d_pred)\n",
        "d_r2"
      ],
      "execution_count": 75,
      "outputs": [
        {
          "output_type": "execute_result",
          "data": {
            "text/plain": [
              "-0.5986842105263153"
            ]
          },
          "metadata": {
            "tags": []
          },
          "execution_count": 75
        }
      ]
    },
    {
      "cell_type": "code",
      "metadata": {
        "id": "QgM98niygocK",
        "colab_type": "code",
        "colab": {
          "base_uri": "https://localhost:8080/",
          "height": 0
        },
        "outputId": "01108cfa-35e9-4021-e0c1-45a0f9c3524d"
      },
      "source": [
        "d_r_a = accuracy_score(y_test,d_pred)\n",
        "d_r_a"
      ],
      "execution_count": 76,
      "outputs": [
        {
          "output_type": "execute_result",
          "data": {
            "text/plain": [
              "0.6666666666666666"
            ]
          },
          "metadata": {
            "tags": []
          },
          "execution_count": 76
        }
      ]
    },
    {
      "cell_type": "code",
      "metadata": {
        "id": "Fw_VSxhsg34c",
        "colab_type": "code",
        "colab": {
          "base_uri": "https://localhost:8080/",
          "height": 0
        },
        "outputId": "dfe8ad18-c9bd-4697-a2b9-2fd208b2bd06"
      },
      "source": [
        "d_r_cmat = confusion_matrix(y_test,d_pred)\n",
        "d_r_cmat"
      ],
      "execution_count": 77,
      "outputs": [
        {
          "output_type": "execute_result",
          "data": {
            "text/plain": [
              "array([[ 6, 10],\n",
              "       [ 8, 30]])"
            ]
          },
          "metadata": {
            "tags": []
          },
          "execution_count": 77
        }
      ]
    },
    {
      "cell_type": "markdown",
      "metadata": {
        "id": "QN1DeHJ89ILs",
        "colab_type": "text"
      },
      "source": [
        "# CLASSIFICATION"
      ]
    },
    {
      "cell_type": "markdown",
      "metadata": {
        "id": "cBV-9IROB3jX",
        "colab_type": "text"
      },
      "source": [
        "# LOGISTIC CLASSIFICATION"
      ]
    },
    {
      "cell_type": "markdown",
      "metadata": {
        "id": "2rLCXhMT9hs6",
        "colab_type": "text"
      },
      "source": [
        "LOGISTIC CLASSIFICATION"
      ]
    },
    {
      "cell_type": "code",
      "metadata": {
        "id": "mHQI8VAR9d-g",
        "colab_type": "code",
        "colab": {}
      },
      "source": [
        "from sklearn.linear_model import LogisticRegression"
      ],
      "execution_count": 78,
      "outputs": []
    },
    {
      "cell_type": "code",
      "metadata": {
        "id": "Psm2rej2-Y8Z",
        "colab_type": "code",
        "colab": {}
      },
      "source": [
        "l_cla = LogisticRegression()"
      ],
      "execution_count": 79,
      "outputs": []
    },
    {
      "cell_type": "code",
      "metadata": {
        "id": "yE_j7wqg-pGK",
        "colab_type": "code",
        "colab": {
          "base_uri": "https://localhost:8080/",
          "height": 0
        },
        "outputId": "aa68c6ec-dc3a-4873-f80e-0c0d54b21951"
      },
      "source": [
        "l_cla.fit(x_train,y_train)"
      ],
      "execution_count": 80,
      "outputs": [
        {
          "output_type": "stream",
          "text": [
            "/usr/local/lib/python3.6/dist-packages/sklearn/utils/validation.py:760: DataConversionWarning: A column-vector y was passed when a 1d array was expected. Please change the shape of y to (n_samples, ), for example using ravel().\n",
            "  y = column_or_1d(y, warn=True)\n"
          ],
          "name": "stderr"
        },
        {
          "output_type": "execute_result",
          "data": {
            "text/plain": [
              "LogisticRegression(C=1.0, class_weight=None, dual=False, fit_intercept=True,\n",
              "                   intercept_scaling=1, l1_ratio=None, max_iter=100,\n",
              "                   multi_class='auto', n_jobs=None, penalty='l2',\n",
              "                   random_state=None, solver='lbfgs', tol=0.0001, verbose=0,\n",
              "                   warm_start=False)"
            ]
          },
          "metadata": {
            "tags": []
          },
          "execution_count": 80
        }
      ]
    },
    {
      "cell_type": "code",
      "metadata": {
        "id": "eGsrKcTb-yOn",
        "colab_type": "code",
        "colab": {
          "base_uri": "https://localhost:8080/",
          "height": 0
        },
        "outputId": "9f588153-e79e-41f6-d029-3a74ef042359"
      },
      "source": [
        "l_cla_pred = l_cla.predict(x_test)\n",
        "l_cla_pred"
      ],
      "execution_count": 81,
      "outputs": [
        {
          "output_type": "execute_result",
          "data": {
            "text/plain": [
              "array([1., 0., 0., 0., 1., 0., 1., 1., 1., 1., 0., 1., 1., 0., 1., 0., 0.,\n",
              "       0., 1., 1., 0., 0., 1., 1., 1., 1., 0., 1., 1., 1., 1., 1., 1., 1.,\n",
              "       1., 1., 1., 0., 1., 1., 0., 1., 1., 1., 0., 1., 1., 0., 1., 1., 0.,\n",
              "       1., 1., 1.])"
            ]
          },
          "metadata": {
            "tags": []
          },
          "execution_count": 81
        }
      ]
    },
    {
      "cell_type": "code",
      "metadata": {
        "id": "TzinCSgp_HP0",
        "colab_type": "code",
        "colab": {
          "base_uri": "https://localhost:8080/",
          "height": 0
        },
        "outputId": "93c4ced5-1c6a-4ab6-f918-eb04b9c75810"
      },
      "source": [
        "l_cla_a = accuracy_score(y_test,l_cla_pred)\n",
        "l_cla_a"
      ],
      "execution_count": 82,
      "outputs": [
        {
          "output_type": "execute_result",
          "data": {
            "text/plain": [
              "0.8703703703703703"
            ]
          },
          "metadata": {
            "tags": []
          },
          "execution_count": 82
        }
      ]
    },
    {
      "cell_type": "code",
      "metadata": {
        "id": "J65PMxug_on_",
        "colab_type": "code",
        "colab": {
          "base_uri": "https://localhost:8080/",
          "height": 0
        },
        "outputId": "6852a8ee-9ddb-4f57-e256-218c20928bbd"
      },
      "source": [
        "l_cla_r2 = r2_score(y_test,l_cla_pred)\n",
        "l_cla_r2"
      ],
      "execution_count": 83,
      "outputs": [
        {
          "output_type": "execute_result",
          "data": {
            "text/plain": [
              "0.37828947368421073"
            ]
          },
          "metadata": {
            "tags": []
          },
          "execution_count": 83
        }
      ]
    },
    {
      "cell_type": "code",
      "metadata": {
        "id": "4R1V6fKkAFvE",
        "colab_type": "code",
        "colab": {
          "base_uri": "https://localhost:8080/",
          "height": 0
        },
        "outputId": "6c76bd38-d188-4842-d761-597b8bb76447"
      },
      "source": [
        "l_cla_cmat = confusion_matrix(y_test,l_cla_pred)\n",
        "l_cla_cmat"
      ],
      "execution_count": 84,
      "outputs": [
        {
          "output_type": "execute_result",
          "data": {
            "text/plain": [
              "array([[13,  3],\n",
              "       [ 4, 34]])"
            ]
          },
          "metadata": {
            "tags": []
          },
          "execution_count": 84
        }
      ]
    },
    {
      "cell_type": "markdown",
      "metadata": {
        "id": "huuXjphMCltI",
        "colab_type": "text"
      },
      "source": [
        "# K-NEAREST NEIGHBORS CLASSIFICATION"
      ]
    },
    {
      "cell_type": "code",
      "metadata": {
        "id": "EWPMXU3zC8ZW",
        "colab_type": "code",
        "colab": {}
      },
      "source": [
        "from sklearn.neighbors import KNeighborsClassifier"
      ],
      "execution_count": 85,
      "outputs": []
    },
    {
      "cell_type": "code",
      "metadata": {
        "id": "DRKtQ84HDYHC",
        "colab_type": "code",
        "colab": {}
      },
      "source": [
        "k_cla = KNeighborsClassifier()"
      ],
      "execution_count": 86,
      "outputs": []
    },
    {
      "cell_type": "code",
      "metadata": {
        "id": "9Zk5iN5CDhFi",
        "colab_type": "code",
        "colab": {
          "base_uri": "https://localhost:8080/",
          "height": 0
        },
        "outputId": "d1d89305-6c4e-4ec8-88e3-ea47905396b6"
      },
      "source": [
        "k_cla.fit(x_train,y_train)"
      ],
      "execution_count": 87,
      "outputs": [
        {
          "output_type": "stream",
          "text": [
            "/usr/local/lib/python3.6/dist-packages/ipykernel_launcher.py:1: DataConversionWarning: A column-vector y was passed when a 1d array was expected. Please change the shape of y to (n_samples, ), for example using ravel().\n",
            "  \"\"\"Entry point for launching an IPython kernel.\n"
          ],
          "name": "stderr"
        },
        {
          "output_type": "execute_result",
          "data": {
            "text/plain": [
              "KNeighborsClassifier(algorithm='auto', leaf_size=30, metric='minkowski',\n",
              "                     metric_params=None, n_jobs=None, n_neighbors=5, p=2,\n",
              "                     weights='uniform')"
            ]
          },
          "metadata": {
            "tags": []
          },
          "execution_count": 87
        }
      ]
    },
    {
      "cell_type": "code",
      "metadata": {
        "id": "r0STnJj7DxKL",
        "colab_type": "code",
        "colab": {
          "base_uri": "https://localhost:8080/",
          "height": 0
        },
        "outputId": "4929db02-8f78-45c6-f053-e29cc8dbda06"
      },
      "source": [
        "k_cla_pred = k_cla.predict(x_test)\n",
        "k_cla_pred"
      ],
      "execution_count": 88,
      "outputs": [
        {
          "output_type": "execute_result",
          "data": {
            "text/plain": [
              "array([1., 0., 1., 1., 1., 0., 1., 1., 1., 1., 1., 1., 1., 0., 1., 0., 0.,\n",
              "       0., 1., 1., 0., 1., 1., 1., 1., 1., 0., 1., 1., 1., 1., 1., 1., 1.,\n",
              "       1., 1., 1., 0., 1., 1., 0., 0., 1., 1., 1., 1., 1., 1., 1., 1., 0.,\n",
              "       1., 1., 1.])"
            ]
          },
          "metadata": {
            "tags": []
          },
          "execution_count": 88
        }
      ]
    },
    {
      "cell_type": "code",
      "metadata": {
        "id": "Hdl5AserEOEr",
        "colab_type": "code",
        "colab": {
          "base_uri": "https://localhost:8080/",
          "height": 0
        },
        "outputId": "301a3220-7a4d-4721-9efc-81d36cedd629"
      },
      "source": [
        "k_cla_a = accuracy_score(y_test,k_cla_pred)\n",
        "k_cla_a"
      ],
      "execution_count": 89,
      "outputs": [
        {
          "output_type": "execute_result",
          "data": {
            "text/plain": [
              "0.8148148148148148"
            ]
          },
          "metadata": {
            "tags": []
          },
          "execution_count": 89
        }
      ]
    },
    {
      "cell_type": "code",
      "metadata": {
        "id": "Nr2xoNGCEeoT",
        "colab_type": "code",
        "colab": {
          "base_uri": "https://localhost:8080/",
          "height": 0
        },
        "outputId": "f1e73dcf-0bbc-4a7e-dd05-8d20ad847aa1"
      },
      "source": [
        "k_cla_r2 = r2_score(y_test,k_cla_pred)\n",
        "k_cla_r2"
      ],
      "execution_count": 90,
      "outputs": [
        {
          "output_type": "execute_result",
          "data": {
            "text/plain": [
              "0.11184210526315819"
            ]
          },
          "metadata": {
            "tags": []
          },
          "execution_count": 90
        }
      ]
    },
    {
      "cell_type": "code",
      "metadata": {
        "id": "D7bTmELwE4Pd",
        "colab_type": "code",
        "colab": {
          "base_uri": "https://localhost:8080/",
          "height": 0
        },
        "outputId": "18286820-576d-41b7-c756-1c76cddaf45d"
      },
      "source": [
        "k_cla_cmat = confusion_matrix(y_test,k_cla_pred)\n",
        "k_cla_cmat"
      ],
      "execution_count": 91,
      "outputs": [
        {
          "output_type": "execute_result",
          "data": {
            "text/plain": [
              "array([[ 9,  7],\n",
              "       [ 3, 35]])"
            ]
          },
          "metadata": {
            "tags": []
          },
          "execution_count": 91
        }
      ]
    },
    {
      "cell_type": "markdown",
      "metadata": {
        "id": "EIxWjC3uFOSF",
        "colab_type": "text"
      },
      "source": [
        "# DECISION TREE CLASSIFICATION"
      ]
    },
    {
      "cell_type": "code",
      "metadata": {
        "id": "kwxKWtQUFjG2",
        "colab_type": "code",
        "colab": {}
      },
      "source": [
        "from sklearn.tree import DecisionTreeClassifier"
      ],
      "execution_count": 92,
      "outputs": []
    },
    {
      "cell_type": "code",
      "metadata": {
        "id": "22sU_6pWFwj5",
        "colab_type": "code",
        "colab": {}
      },
      "source": [
        "d_cla = DecisionTreeClassifier()"
      ],
      "execution_count": 93,
      "outputs": []
    },
    {
      "cell_type": "code",
      "metadata": {
        "id": "dDpbjG-9GSxJ",
        "colab_type": "code",
        "colab": {
          "base_uri": "https://localhost:8080/",
          "height": 0
        },
        "outputId": "83953ad6-1892-41b7-8694-953ab775fdd4"
      },
      "source": [
        "d_cla.fit(x_train,y_train)"
      ],
      "execution_count": 94,
      "outputs": [
        {
          "output_type": "execute_result",
          "data": {
            "text/plain": [
              "DecisionTreeClassifier(ccp_alpha=0.0, class_weight=None, criterion='gini',\n",
              "                       max_depth=None, max_features=None, max_leaf_nodes=None,\n",
              "                       min_impurity_decrease=0.0, min_impurity_split=None,\n",
              "                       min_samples_leaf=1, min_samples_split=2,\n",
              "                       min_weight_fraction_leaf=0.0, presort='deprecated',\n",
              "                       random_state=None, splitter='best')"
            ]
          },
          "metadata": {
            "tags": []
          },
          "execution_count": 94
        }
      ]
    },
    {
      "cell_type": "code",
      "metadata": {
        "id": "80TwPBxbF135",
        "colab_type": "code",
        "colab": {
          "base_uri": "https://localhost:8080/",
          "height": 0
        },
        "outputId": "d3c18cf4-1460-4911-d99b-977be4646ca5"
      },
      "source": [
        "d_cla_pred = d_cla.predict(x_test)\n",
        "d_cla_pred"
      ],
      "execution_count": 95,
      "outputs": [
        {
          "output_type": "execute_result",
          "data": {
            "text/plain": [
              "array([1., 0., 0., 1., 1., 0., 1., 1., 1., 1., 0., 1., 1., 1., 1., 0., 1.,\n",
              "       1., 0., 1., 1., 1., 1., 1., 1., 0., 0., 1., 1., 1., 1., 1., 1., 1.,\n",
              "       0., 1., 1., 1., 1., 1., 0., 0., 1., 0., 0., 1., 1., 0., 1., 1., 1.,\n",
              "       1., 1., 1.])"
            ]
          },
          "metadata": {
            "tags": []
          },
          "execution_count": 95
        }
      ]
    },
    {
      "cell_type": "code",
      "metadata": {
        "id": "0jPjNx8jGcU2",
        "colab_type": "code",
        "colab": {
          "base_uri": "https://localhost:8080/",
          "height": 0
        },
        "outputId": "ec2f7af1-35bb-4621-f69a-03aca9145241"
      },
      "source": [
        "d_cla_a = accuracy_score(y_test,d_cla_pred)\n",
        "d_cla_a"
      ],
      "execution_count": 96,
      "outputs": [
        {
          "output_type": "execute_result",
          "data": {
            "text/plain": [
              "0.6666666666666666"
            ]
          },
          "metadata": {
            "tags": []
          },
          "execution_count": 96
        }
      ]
    },
    {
      "cell_type": "code",
      "metadata": {
        "id": "-ObKYX25G06g",
        "colab_type": "code",
        "colab": {
          "base_uri": "https://localhost:8080/",
          "height": 0
        },
        "outputId": "14827216-924b-4c8b-cece-b14c05a06e60"
      },
      "source": [
        "d_cla_r2 = r2_score(y_test,d_cla_pred)\n",
        "d_cla_r2"
      ],
      "execution_count": 97,
      "outputs": [
        {
          "output_type": "execute_result",
          "data": {
            "text/plain": [
              "-0.5986842105263153"
            ]
          },
          "metadata": {
            "tags": []
          },
          "execution_count": 97
        }
      ]
    },
    {
      "cell_type": "code",
      "metadata": {
        "id": "zkIAs8mhHEFW",
        "colab_type": "code",
        "colab": {
          "base_uri": "https://localhost:8080/",
          "height": 0
        },
        "outputId": "d24b9957-4d70-4912-f6a0-3a580ed126b2"
      },
      "source": [
        "d_cla_cmat = confusion_matrix(y_test,d_cla_pred)\n",
        "d_cla_cmat"
      ],
      "execution_count": 98,
      "outputs": [
        {
          "output_type": "execute_result",
          "data": {
            "text/plain": [
              "array([[ 6, 10],\n",
              "       [ 8, 30]])"
            ]
          },
          "metadata": {
            "tags": []
          },
          "execution_count": 98
        }
      ]
    },
    {
      "cell_type": "markdown",
      "metadata": {
        "id": "znG5w_RSHypw",
        "colab_type": "text"
      },
      "source": [
        "# RANDOM FOREST CLASSIFICATION"
      ]
    },
    {
      "cell_type": "code",
      "metadata": {
        "id": "MOie5f5XH_yD",
        "colab_type": "code",
        "colab": {}
      },
      "source": [
        "from sklearn.ensemble import RandomForestClassifier"
      ],
      "execution_count": 99,
      "outputs": []
    },
    {
      "cell_type": "code",
      "metadata": {
        "id": "idgYTz8AIfA-",
        "colab_type": "code",
        "colab": {}
      },
      "source": [
        "r_cla = RandomForestClassifier()"
      ],
      "execution_count": 100,
      "outputs": []
    },
    {
      "cell_type": "code",
      "metadata": {
        "id": "_RdPShi3Ij0t",
        "colab_type": "code",
        "colab": {
          "base_uri": "https://localhost:8080/",
          "height": 0
        },
        "outputId": "390ff685-195c-4667-9022-55a88c4c8630"
      },
      "source": [
        "r_cla.fit(x_train,y_train)"
      ],
      "execution_count": 101,
      "outputs": [
        {
          "output_type": "stream",
          "text": [
            "/usr/local/lib/python3.6/dist-packages/ipykernel_launcher.py:1: DataConversionWarning: A column-vector y was passed when a 1d array was expected. Please change the shape of y to (n_samples,), for example using ravel().\n",
            "  \"\"\"Entry point for launching an IPython kernel.\n"
          ],
          "name": "stderr"
        },
        {
          "output_type": "execute_result",
          "data": {
            "text/plain": [
              "RandomForestClassifier(bootstrap=True, ccp_alpha=0.0, class_weight=None,\n",
              "                       criterion='gini', max_depth=None, max_features='auto',\n",
              "                       max_leaf_nodes=None, max_samples=None,\n",
              "                       min_impurity_decrease=0.0, min_impurity_split=None,\n",
              "                       min_samples_leaf=1, min_samples_split=2,\n",
              "                       min_weight_fraction_leaf=0.0, n_estimators=100,\n",
              "                       n_jobs=None, oob_score=False, random_state=None,\n",
              "                       verbose=0, warm_start=False)"
            ]
          },
          "metadata": {
            "tags": []
          },
          "execution_count": 101
        }
      ]
    },
    {
      "cell_type": "code",
      "metadata": {
        "id": "vcBgOfBKIt35",
        "colab_type": "code",
        "colab": {
          "base_uri": "https://localhost:8080/",
          "height": 0
        },
        "outputId": "da49fb97-49af-492c-d7db-450ca0b0dfa6"
      },
      "source": [
        "r_cla_pred = r_cla.predict(x_test)\n",
        "r_cla_pred"
      ],
      "execution_count": 102,
      "outputs": [
        {
          "output_type": "execute_result",
          "data": {
            "text/plain": [
              "array([1., 0., 0., 1., 1., 1., 1., 1., 1., 1., 1., 1., 1., 1., 1., 0., 0.,\n",
              "       1., 1., 1., 1., 1., 1., 1., 1., 1., 0., 1., 1., 1., 0., 1., 1., 1.,\n",
              "       1., 1., 1., 0., 1., 1., 1., 0., 1., 1., 1., 1., 1., 0., 1., 1., 0.,\n",
              "       1., 1., 1.])"
            ]
          },
          "metadata": {
            "tags": []
          },
          "execution_count": 102
        }
      ]
    },
    {
      "cell_type": "code",
      "metadata": {
        "id": "kM0mLvF-JKjx",
        "colab_type": "code",
        "colab": {
          "base_uri": "https://localhost:8080/",
          "height": 0
        },
        "outputId": "84d236a5-45e9-4bf7-d362-fc7c23185bf6"
      },
      "source": [
        "r_cla_a = accuracy_score(y_test,r_cla_pred)\n",
        "r_cla_a"
      ],
      "execution_count": 103,
      "outputs": [
        {
          "output_type": "execute_result",
          "data": {
            "text/plain": [
              "0.7777777777777778"
            ]
          },
          "metadata": {
            "tags": []
          },
          "execution_count": 103
        }
      ]
    },
    {
      "cell_type": "code",
      "metadata": {
        "id": "81veo6XAQgAG",
        "colab_type": "code",
        "colab": {
          "base_uri": "https://localhost:8080/",
          "height": 0
        },
        "outputId": "abe5b7d8-fba8-495e-a7d9-366139db6020"
      },
      "source": [
        "r_cla_r2 = r2_score(y_test,r_cla_pred)\n",
        "r_cla_r2"
      ],
      "execution_count": 104,
      "outputs": [
        {
          "output_type": "execute_result",
          "data": {
            "text/plain": [
              "-0.06578947368421018"
            ]
          },
          "metadata": {
            "tags": []
          },
          "execution_count": 104
        }
      ]
    },
    {
      "cell_type": "code",
      "metadata": {
        "id": "TpfFugWzQq6M",
        "colab_type": "code",
        "colab": {
          "base_uri": "https://localhost:8080/",
          "height": 0
        },
        "outputId": "5e07b53f-dd40-41f0-e1c2-a6673a44a85b"
      },
      "source": [
        "r_cla_cmat = confusion_matrix(y_test,r_cla_pred)\n",
        "r_cla_cmat"
      ],
      "execution_count": 105,
      "outputs": [
        {
          "output_type": "execute_result",
          "data": {
            "text/plain": [
              "array([[ 7,  9],\n",
              "       [ 3, 35]])"
            ]
          },
          "metadata": {
            "tags": []
          },
          "execution_count": 105
        }
      ]
    },
    {
      "cell_type": "markdown",
      "metadata": {
        "id": "wPKT_OtuQ8Ze",
        "colab_type": "text"
      },
      "source": [
        "# SVM CLASSIFICATION(KERNEL='LINEAR')"
      ]
    },
    {
      "cell_type": "code",
      "metadata": {
        "id": "EfAUtPKqRX5p",
        "colab_type": "code",
        "colab": {}
      },
      "source": [
        "from sklearn.svm import SVC"
      ],
      "execution_count": 106,
      "outputs": []
    },
    {
      "cell_type": "code",
      "metadata": {
        "id": "uRPk11DDR481",
        "colab_type": "code",
        "colab": {}
      },
      "source": [
        "s_lin = SVC(kernel='linear')"
      ],
      "execution_count": 107,
      "outputs": []
    },
    {
      "cell_type": "code",
      "metadata": {
        "id": "sJcWU0qoSH-m",
        "colab_type": "code",
        "colab": {
          "base_uri": "https://localhost:8080/",
          "height": 0
        },
        "outputId": "22f4776e-d954-4ccd-f41e-5eb98862ec94"
      },
      "source": [
        "s_lin.fit(x_train,y_train)"
      ],
      "execution_count": 108,
      "outputs": [
        {
          "output_type": "stream",
          "text": [
            "/usr/local/lib/python3.6/dist-packages/sklearn/utils/validation.py:760: DataConversionWarning: A column-vector y was passed when a 1d array was expected. Please change the shape of y to (n_samples, ), for example using ravel().\n",
            "  y = column_or_1d(y, warn=True)\n"
          ],
          "name": "stderr"
        },
        {
          "output_type": "execute_result",
          "data": {
            "text/plain": [
              "SVC(C=1.0, break_ties=False, cache_size=200, class_weight=None, coef0=0.0,\n",
              "    decision_function_shape='ovr', degree=3, gamma='scale', kernel='linear',\n",
              "    max_iter=-1, probability=False, random_state=None, shrinking=True,\n",
              "    tol=0.001, verbose=False)"
            ]
          },
          "metadata": {
            "tags": []
          },
          "execution_count": 108
        }
      ]
    },
    {
      "cell_type": "code",
      "metadata": {
        "id": "uzUlra0SSPa2",
        "colab_type": "code",
        "colab": {
          "base_uri": "https://localhost:8080/",
          "height": 0
        },
        "outputId": "005a15f2-96d4-4eeb-cfdc-732f477e2518"
      },
      "source": [
        "s_lin_pred = s_lin.predict(x_test)\n",
        "s_lin_pred"
      ],
      "execution_count": 109,
      "outputs": [
        {
          "output_type": "execute_result",
          "data": {
            "text/plain": [
              "array([1., 0., 0., 0., 1., 0., 1., 1., 1., 1., 0., 1., 1., 0., 1., 0., 0.,\n",
              "       0., 1., 1., 0., 0., 1., 1., 1., 1., 0., 1., 1., 1., 1., 1., 1., 1.,\n",
              "       1., 1., 1., 0., 1., 1., 0., 1., 1., 1., 0., 1., 1., 0., 1., 1., 0.,\n",
              "       1., 1., 1.])"
            ]
          },
          "metadata": {
            "tags": []
          },
          "execution_count": 109
        }
      ]
    },
    {
      "cell_type": "code",
      "metadata": {
        "id": "z-PIrFe9ShSc",
        "colab_type": "code",
        "colab": {
          "base_uri": "https://localhost:8080/",
          "height": 0
        },
        "outputId": "edf91121-9e04-4866-9a21-501b06807538"
      },
      "source": [
        "s_lin_a = accuracy_score(y_test,s_lin_pred)\n",
        "s_lin_a"
      ],
      "execution_count": 110,
      "outputs": [
        {
          "output_type": "execute_result",
          "data": {
            "text/plain": [
              "0.8703703703703703"
            ]
          },
          "metadata": {
            "tags": []
          },
          "execution_count": 110
        }
      ]
    },
    {
      "cell_type": "code",
      "metadata": {
        "id": "GNoj9xUtS9np",
        "colab_type": "code",
        "colab": {
          "base_uri": "https://localhost:8080/",
          "height": 0
        },
        "outputId": "6e9d77c9-d98e-4362-a0f8-ff620951fb3e"
      },
      "source": [
        "s_lin_r2 = r2_score(y_test,s_lin_pred)\n",
        "s_lin_r2"
      ],
      "execution_count": 111,
      "outputs": [
        {
          "output_type": "execute_result",
          "data": {
            "text/plain": [
              "0.37828947368421073"
            ]
          },
          "metadata": {
            "tags": []
          },
          "execution_count": 111
        }
      ]
    },
    {
      "cell_type": "code",
      "metadata": {
        "id": "Yvzt5DviTO7w",
        "colab_type": "code",
        "colab": {
          "base_uri": "https://localhost:8080/",
          "height": 0
        },
        "outputId": "b30e1c00-4494-4505-dc24-48a0c1d21762"
      },
      "source": [
        "s_lin_cmat = confusion_matrix(y_test,s_lin_pred)\n",
        "s_lin_cmat"
      ],
      "execution_count": 112,
      "outputs": [
        {
          "output_type": "execute_result",
          "data": {
            "text/plain": [
              "array([[13,  3],\n",
              "       [ 4, 34]])"
            ]
          },
          "metadata": {
            "tags": []
          },
          "execution_count": 112
        }
      ]
    },
    {
      "cell_type": "markdown",
      "metadata": {
        "id": "L8Dm8FaOTkMO",
        "colab_type": "text"
      },
      "source": [
        "# SVM CLASSIFICATION(KERNEL='RBF')"
      ]
    },
    {
      "cell_type": "code",
      "metadata": {
        "id": "3V3_dRPiTuF9",
        "colab_type": "code",
        "colab": {}
      },
      "source": [
        "from sklearn.svm import SVC"
      ],
      "execution_count": 113,
      "outputs": []
    },
    {
      "cell_type": "code",
      "metadata": {
        "id": "MUUsFXhrT20Q",
        "colab_type": "code",
        "colab": {}
      },
      "source": [
        "s_rbf = SVC(kernel='rbf')"
      ],
      "execution_count": 114,
      "outputs": []
    },
    {
      "cell_type": "code",
      "metadata": {
        "id": "COZV68QlUhfb",
        "colab_type": "code",
        "colab": {
          "base_uri": "https://localhost:8080/",
          "height": 0
        },
        "outputId": "4cb3fb1e-6317-4f7c-f4dd-3adbf96e625c"
      },
      "source": [
        "s_rbf.fit(x_train,y_train)"
      ],
      "execution_count": 115,
      "outputs": [
        {
          "output_type": "stream",
          "text": [
            "/usr/local/lib/python3.6/dist-packages/sklearn/utils/validation.py:760: DataConversionWarning: A column-vector y was passed when a 1d array was expected. Please change the shape of y to (n_samples, ), for example using ravel().\n",
            "  y = column_or_1d(y, warn=True)\n"
          ],
          "name": "stderr"
        },
        {
          "output_type": "execute_result",
          "data": {
            "text/plain": [
              "SVC(C=1.0, break_ties=False, cache_size=200, class_weight=None, coef0=0.0,\n",
              "    decision_function_shape='ovr', degree=3, gamma='scale', kernel='rbf',\n",
              "    max_iter=-1, probability=False, random_state=None, shrinking=True,\n",
              "    tol=0.001, verbose=False)"
            ]
          },
          "metadata": {
            "tags": []
          },
          "execution_count": 115
        }
      ]
    },
    {
      "cell_type": "code",
      "metadata": {
        "id": "xFjFXXzpUvlz",
        "colab_type": "code",
        "colab": {
          "base_uri": "https://localhost:8080/",
          "height": 0
        },
        "outputId": "8deaaa90-b04a-4456-d387-812e2ac19508"
      },
      "source": [
        "s_rbf_pred = s_rbf.predict(x_test)\n",
        "s_rbf_pred"
      ],
      "execution_count": 116,
      "outputs": [
        {
          "output_type": "execute_result",
          "data": {
            "text/plain": [
              "array([1., 0., 0., 1., 1., 1., 1., 1., 1., 1., 1., 1., 1., 1., 1., 0., 0.,\n",
              "       0., 1., 1., 0., 1., 1., 1., 1., 1., 0., 1., 1., 1., 1., 1., 1., 1.,\n",
              "       1., 1., 1., 0., 1., 1., 0., 0., 1., 1., 1., 1., 1., 1., 1., 1., 0.,\n",
              "       1., 1., 1.])"
            ]
          },
          "metadata": {
            "tags": []
          },
          "execution_count": 116
        }
      ]
    },
    {
      "cell_type": "code",
      "metadata": {
        "id": "sWdiJQZiU9kp",
        "colab_type": "code",
        "colab": {
          "base_uri": "https://localhost:8080/",
          "height": 0
        },
        "outputId": "639ea760-2e0d-4a90-87fa-305b1cfaeccf"
      },
      "source": [
        "s_rbf_a = accuracy_score(y_test,s_rbf_pred)\n",
        "s_rbf_a"
      ],
      "execution_count": 117,
      "outputs": [
        {
          "output_type": "execute_result",
          "data": {
            "text/plain": [
              "0.7962962962962963"
            ]
          },
          "metadata": {
            "tags": []
          },
          "execution_count": 117
        }
      ]
    },
    {
      "cell_type": "code",
      "metadata": {
        "id": "NI1zdybGVS-Z",
        "colab_type": "code",
        "colab": {
          "base_uri": "https://localhost:8080/",
          "height": 0
        },
        "outputId": "b88c36a8-eba6-4cd0-900c-e113d97c72a7"
      },
      "source": [
        "s_rbf_r2 = r2_score(y_test,s_rbf_pred)\n",
        "s_rbf_r2"
      ],
      "execution_count": 118,
      "outputs": [
        {
          "output_type": "execute_result",
          "data": {
            "text/plain": [
              "0.023026315789474006"
            ]
          },
          "metadata": {
            "tags": []
          },
          "execution_count": 118
        }
      ]
    },
    {
      "cell_type": "code",
      "metadata": {
        "id": "am0zv6A3Vor6",
        "colab_type": "code",
        "colab": {
          "base_uri": "https://localhost:8080/",
          "height": 0
        },
        "outputId": "8b9d2c82-299e-4106-df00-b6f6d581b9f2"
      },
      "source": [
        "s_rbf_cmat = confusion_matrix(y_test,s_rbf_pred)\n",
        "s_rbf_cmat"
      ],
      "execution_count": 119,
      "outputs": [
        {
          "output_type": "execute_result",
          "data": {
            "text/plain": [
              "array([[ 8,  8],\n",
              "       [ 3, 35]])"
            ]
          },
          "metadata": {
            "tags": []
          },
          "execution_count": 119
        }
      ]
    },
    {
      "cell_type": "markdown",
      "metadata": {
        "id": "cmyfJS8CWUDR",
        "colab_type": "text"
      },
      "source": [
        "# COMPARISON OF CLASSIFICATION"
      ]
    },
    {
      "cell_type": "code",
      "metadata": {
        "id": "TGzn-saNWz--",
        "colab_type": "code",
        "colab": {
          "base_uri": "https://localhost:8080/",
          "height": 139
        },
        "outputId": "eeb0fe61-c456-493f-930d-fed78abbd2f5"
      },
      "source": [
        "print('BY COMPARING THE CLASSIFICATION')\n",
        "print('LOGISTIC CLASSIFICATION',l_cla_a)\n",
        "print('K-NEAREST NEIGHBORS CLASSIFICATION',k_cla_a)\n",
        "print('DECISION TREE CLASSIFICATION',d_cla_a)\n",
        "print('RANDOM FOREST CLASSIFICATION',r_cla_a)\n",
        "print('SVM (KERNEL=LINEAR)',s_lin_a)\n",
        "print('SVM (KERNEL=RBF)',s_rbf_a)"
      ],
      "execution_count": 120,
      "outputs": [
        {
          "output_type": "stream",
          "text": [
            "BY COMPARING THE CLASSIFICATION\n",
            "LOGISTIC CLASSIFICATION 0.8703703703703703\n",
            "K-NEAREST NEIGHBORS CLASSIFICATION 0.8148148148148148\n",
            "DECISION TREE CLASSIFICATION 0.6666666666666666\n",
            "RANDOM FOREST CLASSIFICATION 0.7777777777777778\n",
            "SVM (KERNEL=LINEAR) 0.8703703703703703\n",
            "SVM (KERNEL=RBF) 0.7962962962962963\n"
          ],
          "name": "stdout"
        }
      ]
    },
    {
      "cell_type": "code",
      "metadata": {
        "id": "rLe-buQ_ZBPc",
        "colab_type": "code",
        "colab": {}
      },
      "source": [
        "list1 =['logistic classification','knn classification','decision tree classification','random forest classification','svm(kernel=linear)','svm(kernel=rbf)']\n",
        "list2 =[]\n",
        "list2.append(l_cla_a)\n",
        "list2.append(k_cla_a)\n",
        "list2.append(d_cla_a)\n",
        "list2.append(r_cla_a)\n",
        "list2.append(s_lin_a)\n",
        "list2.append(s_rbf_a)"
      ],
      "execution_count": 121,
      "outputs": []
    },
    {
      "cell_type": "code",
      "metadata": {
        "id": "Uzw9gTuRaxHt",
        "colab_type": "code",
        "colab": {
          "base_uri": "https://localhost:8080/",
          "height": 121
        },
        "outputId": "3c6f2804-2815-40eb-f13a-e8fe5bafbaf2"
      },
      "source": [
        "list1"
      ],
      "execution_count": 122,
      "outputs": [
        {
          "output_type": "execute_result",
          "data": {
            "text/plain": [
              "['logistic classification',\n",
              " 'knn classification',\n",
              " 'decision tree classification',\n",
              " 'random forest classification',\n",
              " 'svm(kernel=linear)',\n",
              " 'svm(kernel=rbf)']"
            ]
          },
          "metadata": {
            "tags": []
          },
          "execution_count": 122
        }
      ]
    },
    {
      "cell_type": "code",
      "metadata": {
        "id": "KLMSNwj6a0qU",
        "colab_type": "code",
        "colab": {
          "base_uri": "https://localhost:8080/",
          "height": 121
        },
        "outputId": "4d91e04e-54d3-4170-856c-c50d041b4ea5"
      },
      "source": [
        "list2"
      ],
      "execution_count": 123,
      "outputs": [
        {
          "output_type": "execute_result",
          "data": {
            "text/plain": [
              "[0.8703703703703703,\n",
              " 0.8148148148148148,\n",
              " 0.6666666666666666,\n",
              " 0.7777777777777778,\n",
              " 0.8703703703703703,\n",
              " 0.7962962962962963]"
            ]
          },
          "metadata": {
            "tags": []
          },
          "execution_count": 123
        }
      ]
    },
    {
      "cell_type": "code",
      "metadata": {
        "id": "QgHWoZk-a3ie",
        "colab_type": "code",
        "colab": {
          "base_uri": "https://localhost:8080/",
          "height": 227
        },
        "outputId": "584a9204-f31d-4525-94fc-41a5d1a95854"
      },
      "source": [
        "plot_accuracy = sns.barplot(x=list1,y=list2)\n",
        "plt.xlabel(list1,fontsize=20)\n",
        "plt.ylabel('accuracy',fontsize=20)\n",
        "plt.xticks(fontsize=13,horizontalalignment='center',rotation=20)\n",
        "plt.yticks(fontsize=13)\n",
        "plt.title('Comparison of Classification',horizontalalignment='center')\n",
        "plt.show()"
      ],
      "execution_count": 124,
      "outputs": [
        {
          "output_type": "display_data",
          "data": {
            "image/png": "[encoded data removed]",
            "text/plain": [
              "<Figure size 432x288 with 1 Axes>"
            ]
          },
          "metadata": {
            "tags": [],
            "needs_background": "light"
          }
        }
      ]
    },
    {
      "cell_type": "markdown",
      "metadata": {
        "id": "vRcOBrulW-yC",
        "colab_type": "text"
      },
      "source": [
        "# PREDICTION FOR NEW DATA SET "
      ]
    },
    {
      "cell_type": "code",
      "metadata": {
        "id": "VTLFonlbW-V_",
        "colab_type": "code",
        "colab": {
          "base_uri": "https://localhost:8080/",
          "height": 225
        },
        "outputId": "9283d3a0-c3a0-4ac0-c305-acdcf3992b5c"
      },
      "source": [
        "gender = str(input('ENTER THE GENDER MALE(M) OR FEMALE(F)'))\n",
        "ssc_p = float(input('ENTER THE SSLC PERCENTAGE'))\n",
        "ssc_b = str(input('ENTER SSLC BOARD CENTRAL OR OTHERS'))\n",
        "hsc_p = float(input('ENTER THE HSC PASS PERCENTAGE'))\n",
        "hsc_b = str(input('ENTER THE BOARD CENTRAL OR OTHERS'))\n",
        "hsc_s = str(input('ENTER THE SUBJECT COMMERCE/SCIENCE/ARTS'))\n",
        "degree_p = float(input('ENTER THE PASS PERCENTAGE IN DEGREE'))\n",
        "degree_t = str(input('ENTER SELECTED SUBJECT SELECTED SCI&TECH/COMM&MGMT/OTHERS'))\n",
        "workex = str(input('ENTER THE WORKEX YES/NO'))\n",
        "etest_p = float(input('ENTER THE ETEST PERCENTAGE'))\n",
        "specialisation = str(input('ENTER THE SPECIALISATION MKT&HR/MKT&FIN'))\n",
        "mba_p = float(input('ENTER THE MBA PASS PERCENTAGE'))"
      ],
      "execution_count": 125,
      "outputs": [
        {
          "output_type": "stream",
          "text": [
            "ENTER THE GENDER MALE(M) OR FEMALE(F)M\n",
            "ENTER THE SSLC PERCENTAGE36\n",
            "ENTER SSLC BOARD CENTRAL OR OTHERSOTHERS\n",
            "ENTER THE HSC PASS PERCENTAGE40\n",
            "ENTER THE BOARD CENTRAL OR OTHERSOTHERS\n",
            "ENTER THE SUBJECT COMMERCE/SCIENCE/ARTSARTS\n",
            "ENTER THE PASS PERCENTAGE IN DEGREE40\n",
            "ENTER SELECTED SUBJECT SELECTED SCI&TECH/COMM&MGMT/OTHERSOTHERS\n",
            "ENTER THE WORKEX YES/NONO\n",
            "ENTER THE ETEST PERCENTAGE45\n",
            "ENTER THE SPECIALISATION MKT&HR/MKT&FINMKT&HR\n",
            "ENTER THE MBA PASS PERCENTAGE45\n"
          ],
          "name": "stdout"
        }
      ]
    },
    {
      "cell_type": "markdown",
      "metadata": {
        "id": "ulcZvnxajy_r",
        "colab_type": "text"
      },
      "source": [
        "CONVERTING ALL THE STRING INPUT VALUES INTO UPPERCASE"
      ]
    },
    {
      "cell_type": "code",
      "metadata": {
        "id": "5MWNd-xW27x-",
        "colab_type": "code",
        "colab": {}
      },
      "source": [
        "gender = gender.upper()\n",
        "ssc_b = ssc_b.upper()\n",
        "hsc_b = hsc_b.upper()\n",
        "hsc_s = hsc_s.upper()\n",
        "degree_t = degree_t.upper()\n",
        "workex=workex.upper()\n",
        "specialisation = specialisation.upper()"
      ],
      "execution_count": 126,
      "outputs": []
    },
    {
      "cell_type": "markdown",
      "metadata": {
        "id": "l3wEViSgk32u",
        "colab_type": "text"
      },
      "source": [
        "PRINTING THE STRINGS CONVERTED TO UPPERCASE TO CHECK WHETHER IT IS CONVERTED OR NOT"
      ]
    },
    {
      "cell_type": "code",
      "metadata": {
        "id": "6T3Ub6Q55dk5",
        "colab_type": "code",
        "colab": {
          "base_uri": "https://localhost:8080/",
          "height": 139
        },
        "outputId": "1aa4c6c5-97f9-4ad0-bdc2-8cd8ad32b5be"
      },
      "source": [
        "i = 1\n",
        "if (i<2):\n",
        " print(gender)\n",
        " print(ssc_b)\n",
        " print(hsc_b)\n",
        " print(hsc_s)\n",
        " print(degree_t)\n",
        " print(workex)\n",
        " print(specialisation)"
      ],
      "execution_count": 127,
      "outputs": [
        {
          "output_type": "stream",
          "text": [
            "M\n",
            "OTHERS\n",
            "OTHERS\n",
            "ARTS\n",
            "OTHERS\n",
            "NO\n",
            "MKT&HR\n"
          ],
          "name": "stdout"
        }
      ]
    },
    {
      "cell_type": "markdown",
      "metadata": {
        "id": "KTzbCrfxlP2n",
        "colab_type": "text"
      },
      "source": [
        "ADDING ALL THE INPUT INTO A STRING "
      ]
    },
    {
      "cell_type": "code",
      "metadata": {
        "id": "-X9nO9qZgTvI",
        "colab_type": "code",
        "colab": {}
      },
      "source": [
        "check =[]\n",
        "check.append(gender)\n",
        "check.append(ssc_p)\n",
        "check.append(ssc_b)\n",
        "check.append(hsc_p)\n",
        "check.append(hsc_b)\n",
        "check.append(hsc_s)\n",
        "check.append(degree_p)\n",
        "check.append(degree_t)\n",
        "check.append(workex)\n",
        "check.append(etest_p)\n",
        "check.append(specialisation)\n",
        "check.append(mba_p)"
      ],
      "execution_count": 128,
      "outputs": []
    },
    {
      "cell_type": "markdown",
      "metadata": {
        "id": "I0bIlX-SlXZE",
        "colab_type": "text"
      },
      "source": [
        "TO CONVERT THE LIST TO ARRAY"
      ]
    },
    {
      "cell_type": "code",
      "metadata": {
        "id": "pg_i1giVmPgu",
        "colab_type": "code",
        "colab": {
          "base_uri": "https://localhost:8080/",
          "height": 52
        },
        "outputId": "9d735d85-55ce-475e-bd74-a51fde296dd4"
      },
      "source": [
        "check =np.array(check)\n",
        "a=check\n",
        "a"
      ],
      "execution_count": 129,
      "outputs": [
        {
          "output_type": "execute_result",
          "data": {
            "text/plain": [
              "array(['M', '36.0', 'OTHERS', '40.0', 'OTHERS', 'ARTS', '40.0', 'OTHERS',\n",
              "       'NO', '45.0', 'MKT&HR', '45.0'], dtype='<U6')"
            ]
          },
          "metadata": {
            "tags": []
          },
          "execution_count": 129
        }
      ]
    },
    {
      "cell_type": "markdown",
      "metadata": {
        "id": "s3D0cWkMD_DO",
        "colab_type": "text"
      },
      "source": [
        "ASSIGNING THE NUMERIC VALUES FOR STRING INPUTS GIVEN"
      ]
    },
    {
      "cell_type": "code",
      "metadata": {
        "id": "gNPvqxNA7AXX",
        "colab_type": "code",
        "colab": {}
      },
      "source": [
        "if a[0]=='M':\n",
        "  a[0]=0\n",
        "else:\n",
        "  a[0]=1"
      ],
      "execution_count": 130,
      "outputs": []
    },
    {
      "cell_type": "code",
      "metadata": {
        "id": "L70QwCXa7ag_",
        "colab_type": "code",
        "colab": {}
      },
      "source": [
        "if a[2]=='OTHERS':\n",
        "  a[2]=0\n",
        "else:\n",
        "  a[2]=1 "
      ],
      "execution_count": 131,
      "outputs": []
    },
    {
      "cell_type": "code",
      "metadata": {
        "id": "ZSyVzsme8UbV",
        "colab_type": "code",
        "colab": {}
      },
      "source": [
        "if a[4]=='OTHERS':\n",
        "  a[4]=0\n",
        "else:\n",
        "  a[4]=1 "
      ],
      "execution_count": 132,
      "outputs": []
    },
    {
      "cell_type": "code",
      "metadata": {
        "id": "Fuf1gc5l8waw",
        "colab_type": "code",
        "colab": {}
      },
      "source": [
        "if a[5]=='COMMERCE':\n",
        "  a[5]=0\n",
        "elif a[5]=='SCIENCE':\n",
        "  a[5]=1\n",
        "else: \n",
        "  a[5]=2  "
      ],
      "execution_count": 133,
      "outputs": []
    },
    {
      "cell_type": "code",
      "metadata": {
        "id": "Hiv7Wm779XrS",
        "colab_type": "code",
        "colab": {}
      },
      "source": [
        "if a[7]=='SCI&TECH':\n",
        "  a[7]=0\n",
        "elif a[7]=='COMM&MGMT':\n",
        "  a[7]=1\n",
        "else:\n",
        "  a[7]=2   "
      ],
      "execution_count": 134,
      "outputs": []
    },
    {
      "cell_type": "code",
      "metadata": {
        "id": "HCqBmDXc99c0",
        "colab_type": "code",
        "colab": {}
      },
      "source": [
        "if a[8]=='YES':\n",
        "  a[8]=1\n",
        "else:\n",
        "  a[8]=0 "
      ],
      "execution_count": 135,
      "outputs": []
    },
    {
      "cell_type": "code",
      "metadata": {
        "id": "0MPUD6KA-Mom",
        "colab_type": "code",
        "colab": {}
      },
      "source": [
        "if a[10]=='MKT&HR':\n",
        "  a[10]=0\n",
        "else:\n",
        "  a[10]=1 "
      ],
      "execution_count": 136,
      "outputs": []
    },
    {
      "cell_type": "code",
      "metadata": {
        "id": "d831-Ty_-Y1z",
        "colab_type": "code",
        "colab": {
          "base_uri": "https://localhost:8080/",
          "height": 52
        },
        "outputId": "6723d42d-050d-44c2-e503-4d14577af8e7"
      },
      "source": [
        "a"
      ],
      "execution_count": 137,
      "outputs": [
        {
          "output_type": "execute_result",
          "data": {
            "text/plain": [
              "array(['0', '36.0', '0', '40.0', '0', '2', '40.0', '2', '0', '45.0', '0',\n",
              "       '45.0'], dtype='<U6')"
            ]
          },
          "metadata": {
            "tags": []
          },
          "execution_count": 137
        }
      ]
    },
    {
      "cell_type": "markdown",
      "metadata": {
        "id": "JZjE92B7lh9J",
        "colab_type": "text"
      },
      "source": [
        "PREDICTION FOR A USER GIVEN NEW DATASET "
      ]
    },
    {
      "cell_type": "code",
      "metadata": {
        "id": "XIGzmSSvy1DA",
        "colab_type": "code",
        "colab": {}
      },
      "source": [
        " y=s_rbf.predict([a])"
      ],
      "execution_count": 138,
      "outputs": []
    },
    {
      "cell_type": "code",
      "metadata": {
        "id": "iPmQJf5mAoSM",
        "colab_type": "code",
        "colab": {
          "base_uri": "https://localhost:8080/",
          "height": 35
        },
        "outputId": "855656a3-ea02-4c71-b050-2e98e2992b2d"
      },
      "source": [
        "y"
      ],
      "execution_count": 139,
      "outputs": [
        {
          "output_type": "execute_result",
          "data": {
            "text/plain": [
              "array([1.])"
            ]
          },
          "metadata": {
            "tags": []
          },
          "execution_count": 139
        }
      ]
    }
  ]
}