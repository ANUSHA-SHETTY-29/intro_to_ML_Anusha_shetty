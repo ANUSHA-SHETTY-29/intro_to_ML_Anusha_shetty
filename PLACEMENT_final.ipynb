{
  "nbformat": 4,
  "nbformat_minor": 0,
  "metadata": {
    "colab": {
      "name": "PLACEMENT_final.ipynb",
      "provenance": [],
      "toc_visible": true
    },
    "kernelspec": {
      "name": "python3",
      "display_name": "Python 3"
    }
  },
  "cells": [
    {
      "cell_type": "markdown",
      "metadata": {
        "id": "7INOXYOYyCV8",
        "colab_type": "text"
      },
      "source": [
        "# DATA PREPROCESSING"
      ]
    },
    {
      "cell_type": "markdown",
      "metadata": {
        "id": "V6NCaVx8BTD7",
        "colab_type": "text"
      },
      "source": [
        "IMPORTING PANDAS TO READ THE FILE,NUMPY FOR ARRAY,MATPLOTLIB.PYPLOT FOR PLOTING , SEABORN FOR STATISTICAL GRAPH (HERE WE ARE USING BARPLOT),SIMPLE IMPUTER TO FILL THE MISSING VALUES"
      ]
    },
    {
      "cell_type": "code",
      "metadata": {
        "id": "tnVHKMLT0B-i",
        "colab_type": "code",
        "colab": {
          "base_uri": "https://localhost:8080/",
          "height": 72
        },
        "outputId": "a7a72f5f-f74f-45dd-eb72-8501441efe6d"
      },
      "source": [
        "import pandas as pd\n",
        "import numpy as np\n",
        "import matplotlib.pyplot as plt\n",
        "import seaborn as sns\n",
        "from sklearn.impute import SimpleImputer"
      ],
      "execution_count": 1,
      "outputs": [
        {
          "output_type": "stream",
          "text": [
            "/usr/local/lib/python3.6/dist-packages/statsmodels/tools/_testing.py:19: FutureWarning: pandas.util.testing is deprecated. Use the functions in the public API at pandas.testing instead.\n",
            "  import pandas.util.testing as tm\n"
          ],
          "name": "stderr"
        }
      ]
    },
    {
      "cell_type": "markdown",
      "metadata": {
        "id": "UIRh1JtlaJ9d",
        "colab_type": "text"
      },
      "source": [
        "READING THE CONTENT FROM THE FILE"
      ]
    },
    {
      "cell_type": "code",
      "metadata": {
        "id": "65AFJSd92d82",
        "colab_type": "code",
        "colab": {}
      },
      "source": [
        "data = pd.read_csv('/content/datasets_596958_1073629_Placement_Data_Full_Class.csv')"
      ],
      "execution_count": 2,
      "outputs": []
    },
    {
      "cell_type": "markdown",
      "metadata": {
        "id": "Jvkh-Oyx0V9d",
        "colab_type": "text"
      },
      "source": [
        "WE USE HEAD AND TAIL TO CHECK WHETHER ALL THE DATA IS READ PROPERLY "
      ]
    },
    {
      "cell_type": "code",
      "metadata": {
        "id": "SCVWAuHR2lUj",
        "colab_type": "code",
        "colab": {
          "base_uri": "https://localhost:8080/",
          "height": 239
        },
        "outputId": "fbcfaa11-8a5a-4012-ef87-4dac61bd0c30"
      },
      "source": [
        "data.head()"
      ],
      "execution_count": 3,
      "outputs": [
        {
          "output_type": "execute_result",
          "data": {
            "text/html": [
              "<div>\n",
              "<style scoped>\n",
              "    .dataframe tbody tr th:only-of-type {\n",
              "        vertical-align: middle;\n",
              "    }\n",
              "\n",
              "    .dataframe tbody tr th {\n",
              "        vertical-align: top;\n",
              "    }\n",
              "\n",
              "    .dataframe thead th {\n",
              "        text-align: right;\n",
              "    }\n",
              "</style>\n",
              "<table border=\"1\" class=\"dataframe\">\n",
              "  <thead>\n",
              "    <tr style=\"text-align: right;\">\n",
              "      <th></th>\n",
              "      <th>sl_no</th>\n",
              "      <th>gender</th>\n",
              "      <th>ssc_p</th>\n",
              "      <th>ssc_b</th>\n",
              "      <th>hsc_p</th>\n",
              "      <th>hsc_b</th>\n",
              "      <th>hsc_s</th>\n",
              "      <th>degree_p</th>\n",
              "      <th>degree_t</th>\n",
              "      <th>workex</th>\n",
              "      <th>etest_p</th>\n",
              "      <th>specialisation</th>\n",
              "      <th>mba_p</th>\n",
              "      <th>status</th>\n",
              "      <th>salary</th>\n",
              "    </tr>\n",
              "  </thead>\n",
              "  <tbody>\n",
              "    <tr>\n",
              "      <th>0</th>\n",
              "      <td>1</td>\n",
              "      <td>M</td>\n",
              "      <td>67.00</td>\n",
              "      <td>Others</td>\n",
              "      <td>91.00</td>\n",
              "      <td>Others</td>\n",
              "      <td>Commerce</td>\n",
              "      <td>58.00</td>\n",
              "      <td>Sci&amp;Tech</td>\n",
              "      <td>No</td>\n",
              "      <td>55.0</td>\n",
              "      <td>Mkt&amp;HR</td>\n",
              "      <td>58.80</td>\n",
              "      <td>Placed</td>\n",
              "      <td>270000.0</td>\n",
              "    </tr>\n",
              "    <tr>\n",
              "      <th>1</th>\n",
              "      <td>2</td>\n",
              "      <td>M</td>\n",
              "      <td>79.33</td>\n",
              "      <td>Central</td>\n",
              "      <td>78.33</td>\n",
              "      <td>Others</td>\n",
              "      <td>Science</td>\n",
              "      <td>77.48</td>\n",
              "      <td>Sci&amp;Tech</td>\n",
              "      <td>Yes</td>\n",
              "      <td>86.5</td>\n",
              "      <td>Mkt&amp;Fin</td>\n",
              "      <td>66.28</td>\n",
              "      <td>Placed</td>\n",
              "      <td>200000.0</td>\n",
              "    </tr>\n",
              "    <tr>\n",
              "      <th>2</th>\n",
              "      <td>3</td>\n",
              "      <td>M</td>\n",
              "      <td>65.00</td>\n",
              "      <td>Central</td>\n",
              "      <td>68.00</td>\n",
              "      <td>Central</td>\n",
              "      <td>Arts</td>\n",
              "      <td>64.00</td>\n",
              "      <td>Comm&amp;Mgmt</td>\n",
              "      <td>No</td>\n",
              "      <td>75.0</td>\n",
              "      <td>Mkt&amp;Fin</td>\n",
              "      <td>57.80</td>\n",
              "      <td>Placed</td>\n",
              "      <td>250000.0</td>\n",
              "    </tr>\n",
              "    <tr>\n",
              "      <th>3</th>\n",
              "      <td>4</td>\n",
              "      <td>M</td>\n",
              "      <td>56.00</td>\n",
              "      <td>Central</td>\n",
              "      <td>52.00</td>\n",
              "      <td>Central</td>\n",
              "      <td>Science</td>\n",
              "      <td>52.00</td>\n",
              "      <td>Sci&amp;Tech</td>\n",
              "      <td>No</td>\n",
              "      <td>66.0</td>\n",
              "      <td>Mkt&amp;HR</td>\n",
              "      <td>59.43</td>\n",
              "      <td>Not Placed</td>\n",
              "      <td>NaN</td>\n",
              "    </tr>\n",
              "    <tr>\n",
              "      <th>4</th>\n",
              "      <td>5</td>\n",
              "      <td>M</td>\n",
              "      <td>85.80</td>\n",
              "      <td>Central</td>\n",
              "      <td>73.60</td>\n",
              "      <td>Central</td>\n",
              "      <td>Commerce</td>\n",
              "      <td>73.30</td>\n",
              "      <td>Comm&amp;Mgmt</td>\n",
              "      <td>No</td>\n",
              "      <td>96.8</td>\n",
              "      <td>Mkt&amp;Fin</td>\n",
              "      <td>55.50</td>\n",
              "      <td>Placed</td>\n",
              "      <td>425000.0</td>\n",
              "    </tr>\n",
              "  </tbody>\n",
              "</table>\n",
              "</div>"
            ],
            "text/plain": [
              "   sl_no gender  ssc_p    ssc_b  ...  specialisation  mba_p      status    salary\n",
              "0      1      M  67.00   Others  ...          Mkt&HR  58.80      Placed  270000.0\n",
              "1      2      M  79.33  Central  ...         Mkt&Fin  66.28      Placed  200000.0\n",
              "2      3      M  65.00  Central  ...         Mkt&Fin  57.80      Placed  250000.0\n",
              "3      4      M  56.00  Central  ...          Mkt&HR  59.43  Not Placed       NaN\n",
              "4      5      M  85.80  Central  ...         Mkt&Fin  55.50      Placed  425000.0\n",
              "\n",
              "[5 rows x 15 columns]"
            ]
          },
          "metadata": {
            "tags": []
          },
          "execution_count": 3
        }
      ]
    },
    {
      "cell_type": "code",
      "metadata": {
        "id": "B0IOWIaJ2pU7",
        "colab_type": "code",
        "colab": {
          "base_uri": "https://localhost:8080/",
          "height": 239
        },
        "outputId": "77f92269-4c44-4d8b-9d4c-7ab41295e104"
      },
      "source": [
        "data.tail()"
      ],
      "execution_count": 4,
      "outputs": [
        {
          "output_type": "execute_result",
          "data": {
            "text/html": [
              "<div>\n",
              "<style scoped>\n",
              "    .dataframe tbody tr th:only-of-type {\n",
              "        vertical-align: middle;\n",
              "    }\n",
              "\n",
              "    .dataframe tbody tr th {\n",
              "        vertical-align: top;\n",
              "    }\n",
              "\n",
              "    .dataframe thead th {\n",
              "        text-align: right;\n",
              "    }\n",
              "</style>\n",
              "<table border=\"1\" class=\"dataframe\">\n",
              "  <thead>\n",
              "    <tr style=\"text-align: right;\">\n",
              "      <th></th>\n",
              "      <th>sl_no</th>\n",
              "      <th>gender</th>\n",
              "      <th>ssc_p</th>\n",
              "      <th>ssc_b</th>\n",
              "      <th>hsc_p</th>\n",
              "      <th>hsc_b</th>\n",
              "      <th>hsc_s</th>\n",
              "      <th>degree_p</th>\n",
              "      <th>degree_t</th>\n",
              "      <th>workex</th>\n",
              "      <th>etest_p</th>\n",
              "      <th>specialisation</th>\n",
              "      <th>mba_p</th>\n",
              "      <th>status</th>\n",
              "      <th>salary</th>\n",
              "    </tr>\n",
              "  </thead>\n",
              "  <tbody>\n",
              "    <tr>\n",
              "      <th>210</th>\n",
              "      <td>211</td>\n",
              "      <td>M</td>\n",
              "      <td>80.6</td>\n",
              "      <td>Others</td>\n",
              "      <td>82.0</td>\n",
              "      <td>Others</td>\n",
              "      <td>Commerce</td>\n",
              "      <td>77.6</td>\n",
              "      <td>Comm&amp;Mgmt</td>\n",
              "      <td>No</td>\n",
              "      <td>91.0</td>\n",
              "      <td>Mkt&amp;Fin</td>\n",
              "      <td>74.49</td>\n",
              "      <td>Placed</td>\n",
              "      <td>400000.0</td>\n",
              "    </tr>\n",
              "    <tr>\n",
              "      <th>211</th>\n",
              "      <td>212</td>\n",
              "      <td>M</td>\n",
              "      <td>58.0</td>\n",
              "      <td>Others</td>\n",
              "      <td>60.0</td>\n",
              "      <td>Others</td>\n",
              "      <td>Science</td>\n",
              "      <td>72.0</td>\n",
              "      <td>Sci&amp;Tech</td>\n",
              "      <td>No</td>\n",
              "      <td>74.0</td>\n",
              "      <td>Mkt&amp;Fin</td>\n",
              "      <td>53.62</td>\n",
              "      <td>Placed</td>\n",
              "      <td>275000.0</td>\n",
              "    </tr>\n",
              "    <tr>\n",
              "      <th>212</th>\n",
              "      <td>213</td>\n",
              "      <td>M</td>\n",
              "      <td>67.0</td>\n",
              "      <td>Others</td>\n",
              "      <td>67.0</td>\n",
              "      <td>Others</td>\n",
              "      <td>Commerce</td>\n",
              "      <td>73.0</td>\n",
              "      <td>Comm&amp;Mgmt</td>\n",
              "      <td>Yes</td>\n",
              "      <td>59.0</td>\n",
              "      <td>Mkt&amp;Fin</td>\n",
              "      <td>69.72</td>\n",
              "      <td>Placed</td>\n",
              "      <td>295000.0</td>\n",
              "    </tr>\n",
              "    <tr>\n",
              "      <th>213</th>\n",
              "      <td>214</td>\n",
              "      <td>F</td>\n",
              "      <td>74.0</td>\n",
              "      <td>Others</td>\n",
              "      <td>66.0</td>\n",
              "      <td>Others</td>\n",
              "      <td>Commerce</td>\n",
              "      <td>58.0</td>\n",
              "      <td>Comm&amp;Mgmt</td>\n",
              "      <td>No</td>\n",
              "      <td>70.0</td>\n",
              "      <td>Mkt&amp;HR</td>\n",
              "      <td>60.23</td>\n",
              "      <td>Placed</td>\n",
              "      <td>204000.0</td>\n",
              "    </tr>\n",
              "    <tr>\n",
              "      <th>214</th>\n",
              "      <td>215</td>\n",
              "      <td>M</td>\n",
              "      <td>62.0</td>\n",
              "      <td>Central</td>\n",
              "      <td>58.0</td>\n",
              "      <td>Others</td>\n",
              "      <td>Science</td>\n",
              "      <td>53.0</td>\n",
              "      <td>Comm&amp;Mgmt</td>\n",
              "      <td>No</td>\n",
              "      <td>89.0</td>\n",
              "      <td>Mkt&amp;HR</td>\n",
              "      <td>60.22</td>\n",
              "      <td>Not Placed</td>\n",
              "      <td>NaN</td>\n",
              "    </tr>\n",
              "  </tbody>\n",
              "</table>\n",
              "</div>"
            ],
            "text/plain": [
              "     sl_no gender  ssc_p    ssc_b  ...  specialisation  mba_p      status    salary\n",
              "210    211      M   80.6   Others  ...         Mkt&Fin  74.49      Placed  400000.0\n",
              "211    212      M   58.0   Others  ...         Mkt&Fin  53.62      Placed  275000.0\n",
              "212    213      M   67.0   Others  ...         Mkt&Fin  69.72      Placed  295000.0\n",
              "213    214      F   74.0   Others  ...          Mkt&HR  60.23      Placed  204000.0\n",
              "214    215      M   62.0  Central  ...          Mkt&HR  60.22  Not Placed       NaN\n",
              "\n",
              "[5 rows x 15 columns]"
            ]
          },
          "metadata": {
            "tags": []
          },
          "execution_count": 4
        }
      ]
    },
    {
      "cell_type": "markdown",
      "metadata": {
        "id": "PcaZK6ZN0wWC",
        "colab_type": "text"
      },
      "source": [
        "THIS DESCRIBES THE DATASET WHICH IS IMPORTED"
      ]
    },
    {
      "cell_type": "code",
      "metadata": {
        "id": "lEFc2p9a8gP4",
        "colab_type": "code",
        "colab": {
          "base_uri": "https://localhost:8080/",
          "height": 294
        },
        "outputId": "1b686c05-231f-4765-f7ea-7cd998d8e5ec"
      },
      "source": [
        "data.describe()"
      ],
      "execution_count": 5,
      "outputs": [
        {
          "output_type": "execute_result",
          "data": {
            "text/html": [
              "<div>\n",
              "<style scoped>\n",
              "    .dataframe tbody tr th:only-of-type {\n",
              "        vertical-align: middle;\n",
              "    }\n",
              "\n",
              "    .dataframe tbody tr th {\n",
              "        vertical-align: top;\n",
              "    }\n",
              "\n",
              "    .dataframe thead th {\n",
              "        text-align: right;\n",
              "    }\n",
              "</style>\n",
              "<table border=\"1\" class=\"dataframe\">\n",
              "  <thead>\n",
              "    <tr style=\"text-align: right;\">\n",
              "      <th></th>\n",
              "      <th>sl_no</th>\n",
              "      <th>ssc_p</th>\n",
              "      <th>hsc_p</th>\n",
              "      <th>degree_p</th>\n",
              "      <th>etest_p</th>\n",
              "      <th>mba_p</th>\n",
              "      <th>salary</th>\n",
              "    </tr>\n",
              "  </thead>\n",
              "  <tbody>\n",
              "    <tr>\n",
              "      <th>count</th>\n",
              "      <td>215.000000</td>\n",
              "      <td>215.000000</td>\n",
              "      <td>215.000000</td>\n",
              "      <td>215.000000</td>\n",
              "      <td>215.000000</td>\n",
              "      <td>215.000000</td>\n",
              "      <td>148.000000</td>\n",
              "    </tr>\n",
              "    <tr>\n",
              "      <th>mean</th>\n",
              "      <td>108.000000</td>\n",
              "      <td>67.303395</td>\n",
              "      <td>66.333163</td>\n",
              "      <td>66.370186</td>\n",
              "      <td>72.100558</td>\n",
              "      <td>62.278186</td>\n",
              "      <td>288655.405405</td>\n",
              "    </tr>\n",
              "    <tr>\n",
              "      <th>std</th>\n",
              "      <td>62.209324</td>\n",
              "      <td>10.827205</td>\n",
              "      <td>10.897509</td>\n",
              "      <td>7.358743</td>\n",
              "      <td>13.275956</td>\n",
              "      <td>5.833385</td>\n",
              "      <td>93457.452420</td>\n",
              "    </tr>\n",
              "    <tr>\n",
              "      <th>min</th>\n",
              "      <td>1.000000</td>\n",
              "      <td>40.890000</td>\n",
              "      <td>37.000000</td>\n",
              "      <td>50.000000</td>\n",
              "      <td>50.000000</td>\n",
              "      <td>51.210000</td>\n",
              "      <td>200000.000000</td>\n",
              "    </tr>\n",
              "    <tr>\n",
              "      <th>25%</th>\n",
              "      <td>54.500000</td>\n",
              "      <td>60.600000</td>\n",
              "      <td>60.900000</td>\n",
              "      <td>61.000000</td>\n",
              "      <td>60.000000</td>\n",
              "      <td>57.945000</td>\n",
              "      <td>240000.000000</td>\n",
              "    </tr>\n",
              "    <tr>\n",
              "      <th>50%</th>\n",
              "      <td>108.000000</td>\n",
              "      <td>67.000000</td>\n",
              "      <td>65.000000</td>\n",
              "      <td>66.000000</td>\n",
              "      <td>71.000000</td>\n",
              "      <td>62.000000</td>\n",
              "      <td>265000.000000</td>\n",
              "    </tr>\n",
              "    <tr>\n",
              "      <th>75%</th>\n",
              "      <td>161.500000</td>\n",
              "      <td>75.700000</td>\n",
              "      <td>73.000000</td>\n",
              "      <td>72.000000</td>\n",
              "      <td>83.500000</td>\n",
              "      <td>66.255000</td>\n",
              "      <td>300000.000000</td>\n",
              "    </tr>\n",
              "    <tr>\n",
              "      <th>max</th>\n",
              "      <td>215.000000</td>\n",
              "      <td>89.400000</td>\n",
              "      <td>97.700000</td>\n",
              "      <td>91.000000</td>\n",
              "      <td>98.000000</td>\n",
              "      <td>77.890000</td>\n",
              "      <td>940000.000000</td>\n",
              "    </tr>\n",
              "  </tbody>\n",
              "</table>\n",
              "</div>"
            ],
            "text/plain": [
              "            sl_no       ssc_p  ...       mba_p         salary\n",
              "count  215.000000  215.000000  ...  215.000000     148.000000\n",
              "mean   108.000000   67.303395  ...   62.278186  288655.405405\n",
              "std     62.209324   10.827205  ...    5.833385   93457.452420\n",
              "min      1.000000   40.890000  ...   51.210000  200000.000000\n",
              "25%     54.500000   60.600000  ...   57.945000  240000.000000\n",
              "50%    108.000000   67.000000  ...   62.000000  265000.000000\n",
              "75%    161.500000   75.700000  ...   66.255000  300000.000000\n",
              "max    215.000000   89.400000  ...   77.890000  940000.000000\n",
              "\n",
              "[8 rows x 7 columns]"
            ]
          },
          "metadata": {
            "tags": []
          },
          "execution_count": 5
        }
      ]
    },
    {
      "cell_type": "markdown",
      "metadata": {
        "id": "TPaJ_faf0onD",
        "colab_type": "text"
      },
      "source": [
        "THIS INFO GIVES US THE INFORMATION ABOUT THE NULL COUNTS"
      ]
    },
    {
      "cell_type": "code",
      "metadata": {
        "id": "DAuX3XMc8lQa",
        "colab_type": "code",
        "colab": {
          "base_uri": "https://localhost:8080/",
          "height": 399
        },
        "outputId": "84b0f8c1-cb9c-40b5-f195-6edae7920a3e"
      },
      "source": [
        "data.info()"
      ],
      "execution_count": 6,
      "outputs": [
        {
          "output_type": "stream",
          "text": [
            "<class 'pandas.core.frame.DataFrame'>\n",
            "RangeIndex: 215 entries, 0 to 214\n",
            "Data columns (total 15 columns):\n",
            " #   Column          Non-Null Count  Dtype  \n",
            "---  ------          --------------  -----  \n",
            " 0   sl_no           215 non-null    int64  \n",
            " 1   gender          215 non-null    object \n",
            " 2   ssc_p           215 non-null    float64\n",
            " 3   ssc_b           215 non-null    object \n",
            " 4   hsc_p           215 non-null    float64\n",
            " 5   hsc_b           215 non-null    object \n",
            " 6   hsc_s           215 non-null    object \n",
            " 7   degree_p        215 non-null    float64\n",
            " 8   degree_t        215 non-null    object \n",
            " 9   workex          215 non-null    object \n",
            " 10  etest_p         215 non-null    float64\n",
            " 11  specialisation  215 non-null    object \n",
            " 12  mba_p           215 non-null    float64\n",
            " 13  status          215 non-null    object \n",
            " 14  salary          148 non-null    float64\n",
            "dtypes: float64(6), int64(1), object(8)\n",
            "memory usage: 25.3+ KB\n"
          ],
          "name": "stdout"
        }
      ]
    },
    {
      "cell_type": "markdown",
      "metadata": {
        "id": "IVWqjD2N0dFe",
        "colab_type": "text"
      },
      "source": [
        "THIS UNIQUE IS USED TO FIND/KNOW THE UNIQUE VALUES IN THE DATASET"
      ]
    },
    {
      "cell_type": "code",
      "metadata": {
        "id": "HFfADqWOz1Wd",
        "colab_type": "code",
        "colab": {
          "base_uri": "https://localhost:8080/",
          "height": 35
        },
        "outputId": "ca11e403-95fd-4ad7-8171-28ac63b164a8"
      },
      "source": [
        "data['gender'].unique()"
      ],
      "execution_count": 7,
      "outputs": [
        {
          "output_type": "execute_result",
          "data": {
            "text/plain": [
              "array(['M', 'F'], dtype=object)"
            ]
          },
          "metadata": {
            "tags": []
          },
          "execution_count": 7
        }
      ]
    },
    {
      "cell_type": "code",
      "metadata": {
        "id": "c8UiTn-wz427",
        "colab_type": "code",
        "colab": {
          "base_uri": "https://localhost:8080/",
          "height": 35
        },
        "outputId": "d94a662d-7d5f-42a8-85e0-27fe5c430777"
      },
      "source": [
        "data['ssc_b'].unique()"
      ],
      "execution_count": 8,
      "outputs": [
        {
          "output_type": "execute_result",
          "data": {
            "text/plain": [
              "array(['Others', 'Central'], dtype=object)"
            ]
          },
          "metadata": {
            "tags": []
          },
          "execution_count": 8
        }
      ]
    },
    {
      "cell_type": "code",
      "metadata": {
        "id": "ggS1U6jl0A0N",
        "colab_type": "code",
        "colab": {
          "base_uri": "https://localhost:8080/",
          "height": 35
        },
        "outputId": "620f706f-3c48-4c29-dce6-3e26de688a48"
      },
      "source": [
        "data['hsc_b'].unique()"
      ],
      "execution_count": 9,
      "outputs": [
        {
          "output_type": "execute_result",
          "data": {
            "text/plain": [
              "array(['Others', 'Central'], dtype=object)"
            ]
          },
          "metadata": {
            "tags": []
          },
          "execution_count": 9
        }
      ]
    },
    {
      "cell_type": "code",
      "metadata": {
        "id": "g7uf_-bR0Hrw",
        "colab_type": "code",
        "colab": {
          "base_uri": "https://localhost:8080/",
          "height": 35
        },
        "outputId": "556fe858-b4a0-4d7c-baf2-ffc276b5fe5e"
      },
      "source": [
        "data['hsc_s'].unique()"
      ],
      "execution_count": 10,
      "outputs": [
        {
          "output_type": "execute_result",
          "data": {
            "text/plain": [
              "array(['Commerce', 'Science', 'Arts'], dtype=object)"
            ]
          },
          "metadata": {
            "tags": []
          },
          "execution_count": 10
        }
      ]
    },
    {
      "cell_type": "code",
      "metadata": {
        "id": "_gNZ8JCS0P4O",
        "colab_type": "code",
        "colab": {
          "base_uri": "https://localhost:8080/",
          "height": 35
        },
        "outputId": "8a2026c5-82d0-4f5c-e020-01a7a30a340b"
      },
      "source": [
        "data['degree_t'].unique()"
      ],
      "execution_count": 11,
      "outputs": [
        {
          "output_type": "execute_result",
          "data": {
            "text/plain": [
              "array(['Sci&Tech', 'Comm&Mgmt', 'Others'], dtype=object)"
            ]
          },
          "metadata": {
            "tags": []
          },
          "execution_count": 11
        }
      ]
    },
    {
      "cell_type": "code",
      "metadata": {
        "id": "J0whVxYz0V_C",
        "colab_type": "code",
        "colab": {
          "base_uri": "https://localhost:8080/",
          "height": 35
        },
        "outputId": "ef71c30a-e5c7-47a3-9649-3fb5ce8d384c"
      },
      "source": [
        "data['specialisation'].unique()"
      ],
      "execution_count": 12,
      "outputs": [
        {
          "output_type": "execute_result",
          "data": {
            "text/plain": [
              "array(['Mkt&HR', 'Mkt&Fin'], dtype=object)"
            ]
          },
          "metadata": {
            "tags": []
          },
          "execution_count": 12
        }
      ]
    },
    {
      "cell_type": "markdown",
      "metadata": {
        "id": "olKyV4S608E5",
        "colab_type": "text"
      },
      "source": [
        "THIS CORR() GIVES US THE CORRELATION BETWEEN EACH COLUMN WITH ONE ANOTHER"
      ]
    },
    {
      "cell_type": "code",
      "metadata": {
        "id": "zDBPpML12uE4",
        "colab_type": "code",
        "colab": {
          "base_uri": "https://localhost:8080/",
          "height": 263
        },
        "outputId": "d595d9f8-0ff7-4616-d9b3-2cf3bf137414"
      },
      "source": [
        "data.corr()"
      ],
      "execution_count": 13,
      "outputs": [
        {
          "output_type": "execute_result",
          "data": {
            "text/html": [
              "<div>\n",
              "<style scoped>\n",
              "    .dataframe tbody tr th:only-of-type {\n",
              "        vertical-align: middle;\n",
              "    }\n",
              "\n",
              "    .dataframe tbody tr th {\n",
              "        vertical-align: top;\n",
              "    }\n",
              "\n",
              "    .dataframe thead th {\n",
              "        text-align: right;\n",
              "    }\n",
              "</style>\n",
              "<table border=\"1\" class=\"dataframe\">\n",
              "  <thead>\n",
              "    <tr style=\"text-align: right;\">\n",
              "      <th></th>\n",
              "      <th>sl_no</th>\n",
              "      <th>ssc_p</th>\n",
              "      <th>hsc_p</th>\n",
              "      <th>degree_p</th>\n",
              "      <th>etest_p</th>\n",
              "      <th>mba_p</th>\n",
              "      <th>salary</th>\n",
              "    </tr>\n",
              "  </thead>\n",
              "  <tbody>\n",
              "    <tr>\n",
              "      <th>sl_no</th>\n",
              "      <td>1.000000</td>\n",
              "      <td>-0.078155</td>\n",
              "      <td>-0.085711</td>\n",
              "      <td>-0.088281</td>\n",
              "      <td>0.063636</td>\n",
              "      <td>0.022327</td>\n",
              "      <td>0.063764</td>\n",
              "    </tr>\n",
              "    <tr>\n",
              "      <th>ssc_p</th>\n",
              "      <td>-0.078155</td>\n",
              "      <td>1.000000</td>\n",
              "      <td>0.511472</td>\n",
              "      <td>0.538404</td>\n",
              "      <td>0.261993</td>\n",
              "      <td>0.388478</td>\n",
              "      <td>0.035330</td>\n",
              "    </tr>\n",
              "    <tr>\n",
              "      <th>hsc_p</th>\n",
              "      <td>-0.085711</td>\n",
              "      <td>0.511472</td>\n",
              "      <td>1.000000</td>\n",
              "      <td>0.434206</td>\n",
              "      <td>0.245113</td>\n",
              "      <td>0.354823</td>\n",
              "      <td>0.076819</td>\n",
              "    </tr>\n",
              "    <tr>\n",
              "      <th>degree_p</th>\n",
              "      <td>-0.088281</td>\n",
              "      <td>0.538404</td>\n",
              "      <td>0.434206</td>\n",
              "      <td>1.000000</td>\n",
              "      <td>0.224470</td>\n",
              "      <td>0.402364</td>\n",
              "      <td>-0.019272</td>\n",
              "    </tr>\n",
              "    <tr>\n",
              "      <th>etest_p</th>\n",
              "      <td>0.063636</td>\n",
              "      <td>0.261993</td>\n",
              "      <td>0.245113</td>\n",
              "      <td>0.224470</td>\n",
              "      <td>1.000000</td>\n",
              "      <td>0.218055</td>\n",
              "      <td>0.178307</td>\n",
              "    </tr>\n",
              "    <tr>\n",
              "      <th>mba_p</th>\n",
              "      <td>0.022327</td>\n",
              "      <td>0.388478</td>\n",
              "      <td>0.354823</td>\n",
              "      <td>0.402364</td>\n",
              "      <td>0.218055</td>\n",
              "      <td>1.000000</td>\n",
              "      <td>0.175013</td>\n",
              "    </tr>\n",
              "    <tr>\n",
              "      <th>salary</th>\n",
              "      <td>0.063764</td>\n",
              "      <td>0.035330</td>\n",
              "      <td>0.076819</td>\n",
              "      <td>-0.019272</td>\n",
              "      <td>0.178307</td>\n",
              "      <td>0.175013</td>\n",
              "      <td>1.000000</td>\n",
              "    </tr>\n",
              "  </tbody>\n",
              "</table>\n",
              "</div>"
            ],
            "text/plain": [
              "             sl_no     ssc_p     hsc_p  degree_p   etest_p     mba_p    salary\n",
              "sl_no     1.000000 -0.078155 -0.085711 -0.088281  0.063636  0.022327  0.063764\n",
              "ssc_p    -0.078155  1.000000  0.511472  0.538404  0.261993  0.388478  0.035330\n",
              "hsc_p    -0.085711  0.511472  1.000000  0.434206  0.245113  0.354823  0.076819\n",
              "degree_p -0.088281  0.538404  0.434206  1.000000  0.224470  0.402364 -0.019272\n",
              "etest_p   0.063636  0.261993  0.245113  0.224470  1.000000  0.218055  0.178307\n",
              "mba_p     0.022327  0.388478  0.354823  0.402364  0.218055  1.000000  0.175013\n",
              "salary    0.063764  0.035330  0.076819 -0.019272  0.178307  0.175013  1.000000"
            ]
          },
          "metadata": {
            "tags": []
          },
          "execution_count": 13
        }
      ]
    },
    {
      "cell_type": "markdown",
      "metadata": {
        "id": "wPqlINWL1Aqz",
        "colab_type": "text"
      },
      "source": [
        "WE ARE PLOTTING THE CORRELATION WITH PLT IMPORTED FROM MATPLOTLIB"
      ]
    },
    {
      "cell_type": "code",
      "metadata": {
        "id": "IEsLjkgA3QwO",
        "colab_type": "code",
        "colab": {
          "base_uri": "https://localhost:8080/",
          "height": 387
        },
        "outputId": "578181fb-fa46-44a1-fd19-4b182c9074fe"
      },
      "source": [
        "plt.plot(data.corr())"
      ],
      "execution_count": 14,
      "outputs": [
        {
          "output_type": "execute_result",
          "data": {
            "text/plain": [
              "[<matplotlib.lines.Line2D at 0x7f2269bab9e8>,\n",
              " <matplotlib.lines.Line2D at 0x7f2269babb00>,\n",
              " <matplotlib.lines.Line2D at 0x7f2269babc50>,\n",
              " <matplotlib.lines.Line2D at 0x7f2269babda0>,\n",
              " <matplotlib.lines.Line2D at 0x7f2269babef0>,\n",
              " <matplotlib.lines.Line2D at 0x7f2269bb9080>,\n",
              " <matplotlib.lines.Line2D at 0x7f2269bb91d0>]"
            ]
          },
          "metadata": {
            "tags": []
          },
          "execution_count": 14
        },
        {
          "output_type": "display_data",
          "data": {
            "image/png": "[encoded data removed]",
            "text/plain": [
              "<Figure size 432x288 with 1 Axes>"
            ]
          },
          "metadata": {
            "tags": [],
            "needs_background": "light"
          }
        }
      ]
    },
    {
      "cell_type": "markdown",
      "metadata": {
        "id": "VBbGERkWBdtI",
        "colab_type": "text"
      },
      "source": [
        "BARPLOT IS PLOTED SO THAT WE CAN VISUALIZE THE COLUMN VALUES IN X AND Y AXIS"
      ]
    },
    {
      "cell_type": "code",
      "metadata": {
        "id": "bRXowB483b0m",
        "colab_type": "code",
        "colab": {
          "base_uri": "https://localhost:8080/",
          "height": 297
        },
        "outputId": "4d67f09c-abf8-4651-84d0-78334195f0cd"
      },
      "source": [
        "sns.barplot(x='ssc_p',y='hsc_b',data=data)"
      ],
      "execution_count": 15,
      "outputs": [
        {
          "output_type": "execute_result",
          "data": {
            "text/plain": [
              "<matplotlib.axes._subplots.AxesSubplot at 0x7f2269b97a90>"
            ]
          },
          "metadata": {
            "tags": []
          },
          "execution_count": 15
        },
        {
          "output_type": "display_data",
          "data": {
            "image/png": "[encoded data removed]",
            "text/plain": [
              "<Figure size 432x288 with 1 Axes>"
            ]
          },
          "metadata": {
            "tags": [],
            "needs_background": "light"
          }
        }
      ]
    },
    {
      "cell_type": "code",
      "metadata": {
        "id": "5GeTkURF7qOQ",
        "colab_type": "code",
        "colab": {
          "base_uri": "https://localhost:8080/",
          "height": 297
        },
        "outputId": "f6f06107-0967-44e8-b86f-00fed38cdf49"
      },
      "source": [
        "sns.barplot(x='degree_t',y='etest_p',data=data)"
      ],
      "execution_count": 16,
      "outputs": [
        {
          "output_type": "execute_result",
          "data": {
            "text/plain": [
              "<matplotlib.axes._subplots.AxesSubplot at 0x7f22696ce668>"
            ]
          },
          "metadata": {
            "tags": []
          },
          "execution_count": 16
        },
        {
          "output_type": "display_data",
          "data": {
            "image/png": "[encoded data removed]",
            "text/plain": [
              "<Figure size 432x288 with 1 Axes>"
            ]
          },
          "metadata": {
            "tags": [],
            "needs_background": "light"
          }
        }
      ]
    },
    {
      "cell_type": "code",
      "metadata": {
        "id": "Oo1vdLBi7_i2",
        "colab_type": "code",
        "colab": {
          "base_uri": "https://localhost:8080/",
          "height": 297
        },
        "outputId": "de3dc7c3-46d6-40bd-8b85-c5c4ad35f4aa"
      },
      "source": [
        "sns.barplot(x='ssc_p',y='mba_p',data=data)"
      ],
      "execution_count": 17,
      "outputs": [
        {
          "output_type": "execute_result",
          "data": {
            "text/plain": [
              "<matplotlib.axes._subplots.AxesSubplot at 0x7f22695e3710>"
            ]
          },
          "metadata": {
            "tags": []
          },
          "execution_count": 17
        },
        {
          "output_type": "display_data",
          "data": {
            "image/png": "[encoded data removed]",
            "text/plain": [
              "<Figure size 432x288 with 1 Axes>"
            ]
          },
          "metadata": {
            "tags": [],
            "needs_background": "light"
          }
        }
      ]
    },
    {
      "cell_type": "code",
      "metadata": {
        "id": "7Jw24uzTIbfk",
        "colab_type": "code",
        "colab": {}
      },
      "source": [
        "from sklearn.preprocessing import LabelEncoder"
      ],
      "execution_count": 18,
      "outputs": []
    },
    {
      "cell_type": "code",
      "metadata": {
        "id": "fiBWgY7AIl1e",
        "colab_type": "code",
        "colab": {}
      },
      "source": [
        "le = LabelEncoder()"
      ],
      "execution_count": 19,
      "outputs": []
    },
    {
      "cell_type": "code",
      "metadata": {
        "id": "AYue51ruIrFu",
        "colab_type": "code",
        "colab": {}
      },
      "source": [
        "data['gender']=le.fit_transform(data['gender'])"
      ],
      "execution_count": 20,
      "outputs": []
    },
    {
      "cell_type": "code",
      "metadata": {
        "id": "9lCCSF49I4ov",
        "colab_type": "code",
        "colab": {}
      },
      "source": [
        "data['ssc_b']=le.fit_transform(data['ssc_b'])"
      ],
      "execution_count": 21,
      "outputs": []
    },
    {
      "cell_type": "code",
      "metadata": {
        "id": "_LEmXfz0JDo6",
        "colab_type": "code",
        "colab": {}
      },
      "source": [
        "data['hsc_b']=le.fit_transform(data['hsc_b'])"
      ],
      "execution_count": 22,
      "outputs": []
    },
    {
      "cell_type": "code",
      "metadata": {
        "id": "SqlRmwgzJRn0",
        "colab_type": "code",
        "colab": {}
      },
      "source": [
        "data['hsc_s']=le.fit_transform(data['hsc_s'])"
      ],
      "execution_count": 23,
      "outputs": []
    },
    {
      "cell_type": "code",
      "metadata": {
        "id": "fslA-M-cJkod",
        "colab_type": "code",
        "colab": {}
      },
      "source": [
        "data['degree_t']=le.fit_transform(data['degree_t'])"
      ],
      "execution_count": 24,
      "outputs": []
    },
    {
      "cell_type": "code",
      "metadata": {
        "id": "-JPfvzb2J0zi",
        "colab_type": "code",
        "colab": {}
      },
      "source": [
        "data['workex']=le.fit_transform(data['workex'])"
      ],
      "execution_count": 25,
      "outputs": []
    },
    {
      "cell_type": "code",
      "metadata": {
        "id": "jT6QorK-KH6a",
        "colab_type": "code",
        "colab": {}
      },
      "source": [
        "data['specialisation']=le.fit_transform(data['specialisation'])"
      ],
      "execution_count": 26,
      "outputs": []
    },
    {
      "cell_type": "code",
      "metadata": {
        "id": "oH8waktMKUTC",
        "colab_type": "code",
        "colab": {}
      },
      "source": [
        "data['status']=le.fit_transform(data['status'])"
      ],
      "execution_count": 27,
      "outputs": []
    },
    {
      "cell_type": "markdown",
      "metadata": {
        "id": "kz3x5lXoC3Tf",
        "colab_type": "text"
      },
      "source": [
        "SPLITING INPUT AND TARGET VALUES"
      ]
    },
    {
      "cell_type": "code",
      "metadata": {
        "id": "FJI2xzUw9i9J",
        "colab_type": "code",
        "colab": {}
      },
      "source": [
        "x = data.drop(['status','salary','sl_no'],axis=1)\n",
        "y = data.iloc[: ,13:14]"
      ],
      "execution_count": 28,
      "outputs": []
    },
    {
      "cell_type": "code",
      "metadata": {
        "id": "SCA2YJASjADQ",
        "colab_type": "code",
        "colab": {
          "base_uri": "https://localhost:8080/",
          "height": 415
        },
        "outputId": "2e8c7d52-1c29-4498-b132-6f6dfca65cc8"
      },
      "source": [
        "y"
      ],
      "execution_count": 29,
      "outputs": [
        {
          "output_type": "execute_result",
          "data": {
            "text/html": [
              "<div>\n",
              "<style scoped>\n",
              "    .dataframe tbody tr th:only-of-type {\n",
              "        vertical-align: middle;\n",
              "    }\n",
              "\n",
              "    .dataframe tbody tr th {\n",
              "        vertical-align: top;\n",
              "    }\n",
              "\n",
              "    .dataframe thead th {\n",
              "        text-align: right;\n",
              "    }\n",
              "</style>\n",
              "<table border=\"1\" class=\"dataframe\">\n",
              "  <thead>\n",
              "    <tr style=\"text-align: right;\">\n",
              "      <th></th>\n",
              "      <th>status</th>\n",
              "    </tr>\n",
              "  </thead>\n",
              "  <tbody>\n",
              "    <tr>\n",
              "      <th>0</th>\n",
              "      <td>1</td>\n",
              "    </tr>\n",
              "    <tr>\n",
              "      <th>1</th>\n",
              "      <td>1</td>\n",
              "    </tr>\n",
              "    <tr>\n",
              "      <th>2</th>\n",
              "      <td>1</td>\n",
              "    </tr>\n",
              "    <tr>\n",
              "      <th>3</th>\n",
              "      <td>0</td>\n",
              "    </tr>\n",
              "    <tr>\n",
              "      <th>4</th>\n",
              "      <td>1</td>\n",
              "    </tr>\n",
              "    <tr>\n",
              "      <th>...</th>\n",
              "      <td>...</td>\n",
              "    </tr>\n",
              "    <tr>\n",
              "      <th>210</th>\n",
              "      <td>1</td>\n",
              "    </tr>\n",
              "    <tr>\n",
              "      <th>211</th>\n",
              "      <td>1</td>\n",
              "    </tr>\n",
              "    <tr>\n",
              "      <th>212</th>\n",
              "      <td>1</td>\n",
              "    </tr>\n",
              "    <tr>\n",
              "      <th>213</th>\n",
              "      <td>1</td>\n",
              "    </tr>\n",
              "    <tr>\n",
              "      <th>214</th>\n",
              "      <td>0</td>\n",
              "    </tr>\n",
              "  </tbody>\n",
              "</table>\n",
              "<p>215 rows × 1 columns</p>\n",
              "</div>"
            ],
            "text/plain": [
              "     status\n",
              "0         1\n",
              "1         1\n",
              "2         1\n",
              "3         0\n",
              "4         1\n",
              "..      ...\n",
              "210       1\n",
              "211       1\n",
              "212       1\n",
              "213       1\n",
              "214       0\n",
              "\n",
              "[215 rows x 1 columns]"
            ]
          },
          "metadata": {
            "tags": []
          },
          "execution_count": 29
        }
      ]
    },
    {
      "cell_type": "markdown",
      "metadata": {
        "id": "Vutr8vHHC0xl",
        "colab_type": "text"
      },
      "source": [
        "TEST AND TRAIN SPLIT"
      ]
    },
    {
      "cell_type": "code",
      "metadata": {
        "id": "RZ6vYs22_x45",
        "colab_type": "code",
        "colab": {}
      },
      "source": [
        "from sklearn.model_selection import train_test_split"
      ],
      "execution_count": 30,
      "outputs": []
    },
    {
      "cell_type": "code",
      "metadata": {
        "id": "ZFLC9-H4_-Bo",
        "colab_type": "code",
        "colab": {}
      },
      "source": [
        "x_train,x_test,y_train,y_test =train_test_split(x,y,test_size=0.25)"
      ],
      "execution_count": 31,
      "outputs": []
    },
    {
      "cell_type": "code",
      "metadata": {
        "id": "zlHxfkHEBrF-",
        "colab_type": "code",
        "colab": {
          "base_uri": "https://localhost:8080/",
          "height": 415
        },
        "outputId": "badbc4ef-48f8-4c6f-d569-e2cc65d2975a"
      },
      "source": [
        "x_train"
      ],
      "execution_count": 32,
      "outputs": [
        {
          "output_type": "execute_result",
          "data": {
            "text/html": [
              "<div>\n",
              "<style scoped>\n",
              "    .dataframe tbody tr th:only-of-type {\n",
              "        vertical-align: middle;\n",
              "    }\n",
              "\n",
              "    .dataframe tbody tr th {\n",
              "        vertical-align: top;\n",
              "    }\n",
              "\n",
              "    .dataframe thead th {\n",
              "        text-align: right;\n",
              "    }\n",
              "</style>\n",
              "<table border=\"1\" class=\"dataframe\">\n",
              "  <thead>\n",
              "    <tr style=\"text-align: right;\">\n",
              "      <th></th>\n",
              "      <th>gender</th>\n",
              "      <th>ssc_p</th>\n",
              "      <th>ssc_b</th>\n",
              "      <th>hsc_p</th>\n",
              "      <th>hsc_b</th>\n",
              "      <th>hsc_s</th>\n",
              "      <th>degree_p</th>\n",
              "      <th>degree_t</th>\n",
              "      <th>workex</th>\n",
              "      <th>etest_p</th>\n",
              "      <th>specialisation</th>\n",
              "      <th>mba_p</th>\n",
              "    </tr>\n",
              "  </thead>\n",
              "  <tbody>\n",
              "    <tr>\n",
              "      <th>63</th>\n",
              "      <td>1</td>\n",
              "      <td>61.00</td>\n",
              "      <td>1</td>\n",
              "      <td>70.00</td>\n",
              "      <td>1</td>\n",
              "      <td>1</td>\n",
              "      <td>64.00</td>\n",
              "      <td>0</td>\n",
              "      <td>0</td>\n",
              "      <td>68.50</td>\n",
              "      <td>1</td>\n",
              "      <td>59.50</td>\n",
              "    </tr>\n",
              "    <tr>\n",
              "      <th>167</th>\n",
              "      <td>1</td>\n",
              "      <td>67.90</td>\n",
              "      <td>1</td>\n",
              "      <td>62.00</td>\n",
              "      <td>1</td>\n",
              "      <td>2</td>\n",
              "      <td>67.00</td>\n",
              "      <td>2</td>\n",
              "      <td>1</td>\n",
              "      <td>58.10</td>\n",
              "      <td>0</td>\n",
              "      <td>75.71</td>\n",
              "    </tr>\n",
              "    <tr>\n",
              "      <th>112</th>\n",
              "      <td>1</td>\n",
              "      <td>58.00</td>\n",
              "      <td>1</td>\n",
              "      <td>61.00</td>\n",
              "      <td>1</td>\n",
              "      <td>1</td>\n",
              "      <td>61.00</td>\n",
              "      <td>0</td>\n",
              "      <td>0</td>\n",
              "      <td>58.00</td>\n",
              "      <td>1</td>\n",
              "      <td>53.94</td>\n",
              "    </tr>\n",
              "    <tr>\n",
              "      <th>65</th>\n",
              "      <td>1</td>\n",
              "      <td>54.00</td>\n",
              "      <td>1</td>\n",
              "      <td>47.00</td>\n",
              "      <td>1</td>\n",
              "      <td>2</td>\n",
              "      <td>57.00</td>\n",
              "      <td>0</td>\n",
              "      <td>0</td>\n",
              "      <td>89.69</td>\n",
              "      <td>1</td>\n",
              "      <td>57.10</td>\n",
              "    </tr>\n",
              "    <tr>\n",
              "      <th>22</th>\n",
              "      <td>0</td>\n",
              "      <td>69.80</td>\n",
              "      <td>1</td>\n",
              "      <td>60.80</td>\n",
              "      <td>1</td>\n",
              "      <td>2</td>\n",
              "      <td>72.23</td>\n",
              "      <td>2</td>\n",
              "      <td>0</td>\n",
              "      <td>55.53</td>\n",
              "      <td>1</td>\n",
              "      <td>68.81</td>\n",
              "    </tr>\n",
              "    <tr>\n",
              "      <th>...</th>\n",
              "      <td>...</td>\n",
              "      <td>...</td>\n",
              "      <td>...</td>\n",
              "      <td>...</td>\n",
              "      <td>...</td>\n",
              "      <td>...</td>\n",
              "      <td>...</td>\n",
              "      <td>...</td>\n",
              "      <td>...</td>\n",
              "      <td>...</td>\n",
              "      <td>...</td>\n",
              "      <td>...</td>\n",
              "    </tr>\n",
              "    <tr>\n",
              "      <th>110</th>\n",
              "      <td>0</td>\n",
              "      <td>69.50</td>\n",
              "      <td>0</td>\n",
              "      <td>70.00</td>\n",
              "      <td>0</td>\n",
              "      <td>2</td>\n",
              "      <td>72.00</td>\n",
              "      <td>2</td>\n",
              "      <td>0</td>\n",
              "      <td>57.20</td>\n",
              "      <td>1</td>\n",
              "      <td>54.80</td>\n",
              "    </tr>\n",
              "    <tr>\n",
              "      <th>118</th>\n",
              "      <td>1</td>\n",
              "      <td>76.00</td>\n",
              "      <td>0</td>\n",
              "      <td>80.00</td>\n",
              "      <td>0</td>\n",
              "      <td>2</td>\n",
              "      <td>78.00</td>\n",
              "      <td>2</td>\n",
              "      <td>1</td>\n",
              "      <td>97.00</td>\n",
              "      <td>1</td>\n",
              "      <td>70.48</td>\n",
              "    </tr>\n",
              "    <tr>\n",
              "      <th>105</th>\n",
              "      <td>1</td>\n",
              "      <td>59.00</td>\n",
              "      <td>0</td>\n",
              "      <td>64.00</td>\n",
              "      <td>1</td>\n",
              "      <td>2</td>\n",
              "      <td>58.00</td>\n",
              "      <td>2</td>\n",
              "      <td>0</td>\n",
              "      <td>85.00</td>\n",
              "      <td>1</td>\n",
              "      <td>55.30</td>\n",
              "    </tr>\n",
              "    <tr>\n",
              "      <th>83</th>\n",
              "      <td>1</td>\n",
              "      <td>84.00</td>\n",
              "      <td>1</td>\n",
              "      <td>79.00</td>\n",
              "      <td>1</td>\n",
              "      <td>2</td>\n",
              "      <td>68.00</td>\n",
              "      <td>2</td>\n",
              "      <td>1</td>\n",
              "      <td>84.00</td>\n",
              "      <td>0</td>\n",
              "      <td>66.69</td>\n",
              "    </tr>\n",
              "    <tr>\n",
              "      <th>143</th>\n",
              "      <td>1</td>\n",
              "      <td>77.67</td>\n",
              "      <td>1</td>\n",
              "      <td>64.89</td>\n",
              "      <td>1</td>\n",
              "      <td>1</td>\n",
              "      <td>70.67</td>\n",
              "      <td>0</td>\n",
              "      <td>0</td>\n",
              "      <td>89.00</td>\n",
              "      <td>0</td>\n",
              "      <td>60.39</td>\n",
              "    </tr>\n",
              "  </tbody>\n",
              "</table>\n",
              "<p>161 rows × 12 columns</p>\n",
              "</div>"
            ],
            "text/plain": [
              "     gender  ssc_p  ssc_b  hsc_p  ...  workex  etest_p  specialisation  mba_p\n",
              "63        1  61.00      1  70.00  ...       0    68.50               1  59.50\n",
              "167       1  67.90      1  62.00  ...       1    58.10               0  75.71\n",
              "112       1  58.00      1  61.00  ...       0    58.00               1  53.94\n",
              "65        1  54.00      1  47.00  ...       0    89.69               1  57.10\n",
              "22        0  69.80      1  60.80  ...       0    55.53               1  68.81\n",
              "..      ...    ...    ...    ...  ...     ...      ...             ...    ...\n",
              "110       0  69.50      0  70.00  ...       0    57.20               1  54.80\n",
              "118       1  76.00      0  80.00  ...       1    97.00               1  70.48\n",
              "105       1  59.00      0  64.00  ...       0    85.00               1  55.30\n",
              "83        1  84.00      1  79.00  ...       1    84.00               0  66.69\n",
              "143       1  77.67      1  64.89  ...       0    89.00               0  60.39\n",
              "\n",
              "[161 rows x 12 columns]"
            ]
          },
          "metadata": {
            "tags": []
          },
          "execution_count": 32
        }
      ]
    },
    {
      "cell_type": "code",
      "metadata": {
        "id": "GOAN6r8dBuz7",
        "colab_type": "code",
        "colab": {
          "base_uri": "https://localhost:8080/",
          "height": 1000
        },
        "outputId": "6e31eb50-1393-4cc8-ad0c-60a5d3b59b24"
      },
      "source": [
        "x_test"
      ],
      "execution_count": 33,
      "outputs": [
        {
          "output_type": "execute_result",
          "data": {
            "text/html": [
              "<div>\n",
              "<style scoped>\n",
              "    .dataframe tbody tr th:only-of-type {\n",
              "        vertical-align: middle;\n",
              "    }\n",
              "\n",
              "    .dataframe tbody tr th {\n",
              "        vertical-align: top;\n",
              "    }\n",
              "\n",
              "    .dataframe thead th {\n",
              "        text-align: right;\n",
              "    }\n",
              "</style>\n",
              "<table border=\"1\" class=\"dataframe\">\n",
              "  <thead>\n",
              "    <tr style=\"text-align: right;\">\n",
              "      <th></th>\n",
              "      <th>gender</th>\n",
              "      <th>ssc_p</th>\n",
              "      <th>ssc_b</th>\n",
              "      <th>hsc_p</th>\n",
              "      <th>hsc_b</th>\n",
              "      <th>hsc_s</th>\n",
              "      <th>degree_p</th>\n",
              "      <th>degree_t</th>\n",
              "      <th>workex</th>\n",
              "      <th>etest_p</th>\n",
              "      <th>specialisation</th>\n",
              "      <th>mba_p</th>\n",
              "    </tr>\n",
              "  </thead>\n",
              "  <tbody>\n",
              "    <tr>\n",
              "      <th>21</th>\n",
              "      <td>0</td>\n",
              "      <td>79.00</td>\n",
              "      <td>1</td>\n",
              "      <td>76.00</td>\n",
              "      <td>1</td>\n",
              "      <td>1</td>\n",
              "      <td>85.00</td>\n",
              "      <td>0</td>\n",
              "      <td>0</td>\n",
              "      <td>95.00</td>\n",
              "      <td>0</td>\n",
              "      <td>69.06</td>\n",
              "    </tr>\n",
              "    <tr>\n",
              "      <th>9</th>\n",
              "      <td>1</td>\n",
              "      <td>58.00</td>\n",
              "      <td>0</td>\n",
              "      <td>70.00</td>\n",
              "      <td>0</td>\n",
              "      <td>1</td>\n",
              "      <td>61.00</td>\n",
              "      <td>0</td>\n",
              "      <td>0</td>\n",
              "      <td>54.00</td>\n",
              "      <td>0</td>\n",
              "      <td>52.21</td>\n",
              "    </tr>\n",
              "    <tr>\n",
              "      <th>130</th>\n",
              "      <td>1</td>\n",
              "      <td>62.00</td>\n",
              "      <td>0</td>\n",
              "      <td>65.00</td>\n",
              "      <td>1</td>\n",
              "      <td>1</td>\n",
              "      <td>60.00</td>\n",
              "      <td>0</td>\n",
              "      <td>0</td>\n",
              "      <td>84.00</td>\n",
              "      <td>0</td>\n",
              "      <td>64.15</td>\n",
              "    </tr>\n",
              "    <tr>\n",
              "      <th>16</th>\n",
              "      <td>1</td>\n",
              "      <td>63.00</td>\n",
              "      <td>0</td>\n",
              "      <td>66.20</td>\n",
              "      <td>0</td>\n",
              "      <td>1</td>\n",
              "      <td>65.60</td>\n",
              "      <td>0</td>\n",
              "      <td>1</td>\n",
              "      <td>60.00</td>\n",
              "      <td>0</td>\n",
              "      <td>62.54</td>\n",
              "    </tr>\n",
              "    <tr>\n",
              "      <th>178</th>\n",
              "      <td>1</td>\n",
              "      <td>68.00</td>\n",
              "      <td>1</td>\n",
              "      <td>56.00</td>\n",
              "      <td>1</td>\n",
              "      <td>2</td>\n",
              "      <td>68.00</td>\n",
              "      <td>2</td>\n",
              "      <td>0</td>\n",
              "      <td>73.00</td>\n",
              "      <td>1</td>\n",
              "      <td>68.07</td>\n",
              "    </tr>\n",
              "    <tr>\n",
              "      <th>212</th>\n",
              "      <td>1</td>\n",
              "      <td>67.00</td>\n",
              "      <td>1</td>\n",
              "      <td>67.00</td>\n",
              "      <td>1</td>\n",
              "      <td>1</td>\n",
              "      <td>73.00</td>\n",
              "      <td>0</td>\n",
              "      <td>1</td>\n",
              "      <td>59.00</td>\n",
              "      <td>0</td>\n",
              "      <td>69.72</td>\n",
              "    </tr>\n",
              "    <tr>\n",
              "      <th>126</th>\n",
              "      <td>0</td>\n",
              "      <td>79.00</td>\n",
              "      <td>1</td>\n",
              "      <td>61.00</td>\n",
              "      <td>1</td>\n",
              "      <td>2</td>\n",
              "      <td>75.50</td>\n",
              "      <td>2</td>\n",
              "      <td>1</td>\n",
              "      <td>70.00</td>\n",
              "      <td>0</td>\n",
              "      <td>68.20</td>\n",
              "    </tr>\n",
              "    <tr>\n",
              "      <th>77</th>\n",
              "      <td>1</td>\n",
              "      <td>64.00</td>\n",
              "      <td>1</td>\n",
              "      <td>80.00</td>\n",
              "      <td>1</td>\n",
              "      <td>2</td>\n",
              "      <td>65.00</td>\n",
              "      <td>2</td>\n",
              "      <td>1</td>\n",
              "      <td>69.00</td>\n",
              "      <td>0</td>\n",
              "      <td>57.65</td>\n",
              "    </tr>\n",
              "    <tr>\n",
              "      <th>119</th>\n",
              "      <td>1</td>\n",
              "      <td>60.80</td>\n",
              "      <td>0</td>\n",
              "      <td>68.40</td>\n",
              "      <td>0</td>\n",
              "      <td>1</td>\n",
              "      <td>64.60</td>\n",
              "      <td>0</td>\n",
              "      <td>1</td>\n",
              "      <td>82.66</td>\n",
              "      <td>0</td>\n",
              "      <td>64.34</td>\n",
              "    </tr>\n",
              "    <tr>\n",
              "      <th>176</th>\n",
              "      <td>0</td>\n",
              "      <td>59.00</td>\n",
              "      <td>0</td>\n",
              "      <td>60.00</td>\n",
              "      <td>1</td>\n",
              "      <td>1</td>\n",
              "      <td>56.00</td>\n",
              "      <td>0</td>\n",
              "      <td>0</td>\n",
              "      <td>55.00</td>\n",
              "      <td>1</td>\n",
              "      <td>57.90</td>\n",
              "    </tr>\n",
              "    <tr>\n",
              "      <th>184</th>\n",
              "      <td>0</td>\n",
              "      <td>56.28</td>\n",
              "      <td>1</td>\n",
              "      <td>62.83</td>\n",
              "      <td>1</td>\n",
              "      <td>1</td>\n",
              "      <td>59.79</td>\n",
              "      <td>0</td>\n",
              "      <td>0</td>\n",
              "      <td>60.00</td>\n",
              "      <td>1</td>\n",
              "      <td>57.29</td>\n",
              "    </tr>\n",
              "    <tr>\n",
              "      <th>197</th>\n",
              "      <td>0</td>\n",
              "      <td>83.96</td>\n",
              "      <td>1</td>\n",
              "      <td>53.00</td>\n",
              "      <td>1</td>\n",
              "      <td>2</td>\n",
              "      <td>91.00</td>\n",
              "      <td>2</td>\n",
              "      <td>0</td>\n",
              "      <td>59.32</td>\n",
              "      <td>1</td>\n",
              "      <td>69.71</td>\n",
              "    </tr>\n",
              "    <tr>\n",
              "      <th>71</th>\n",
              "      <td>1</td>\n",
              "      <td>75.00</td>\n",
              "      <td>1</td>\n",
              "      <td>70.29</td>\n",
              "      <td>1</td>\n",
              "      <td>1</td>\n",
              "      <td>71.00</td>\n",
              "      <td>0</td>\n",
              "      <td>0</td>\n",
              "      <td>95.00</td>\n",
              "      <td>0</td>\n",
              "      <td>66.94</td>\n",
              "    </tr>\n",
              "    <tr>\n",
              "      <th>191</th>\n",
              "      <td>1</td>\n",
              "      <td>67.00</td>\n",
              "      <td>1</td>\n",
              "      <td>61.00</td>\n",
              "      <td>0</td>\n",
              "      <td>2</td>\n",
              "      <td>72.00</td>\n",
              "      <td>0</td>\n",
              "      <td>0</td>\n",
              "      <td>72.00</td>\n",
              "      <td>0</td>\n",
              "      <td>61.01</td>\n",
              "    </tr>\n",
              "    <tr>\n",
              "      <th>193</th>\n",
              "      <td>0</td>\n",
              "      <td>60.00</td>\n",
              "      <td>0</td>\n",
              "      <td>63.00</td>\n",
              "      <td>0</td>\n",
              "      <td>0</td>\n",
              "      <td>56.00</td>\n",
              "      <td>1</td>\n",
              "      <td>1</td>\n",
              "      <td>80.00</td>\n",
              "      <td>1</td>\n",
              "      <td>56.63</td>\n",
              "    </tr>\n",
              "    <tr>\n",
              "      <th>74</th>\n",
              "      <td>1</td>\n",
              "      <td>56.60</td>\n",
              "      <td>0</td>\n",
              "      <td>64.80</td>\n",
              "      <td>0</td>\n",
              "      <td>1</td>\n",
              "      <td>70.20</td>\n",
              "      <td>0</td>\n",
              "      <td>0</td>\n",
              "      <td>84.27</td>\n",
              "      <td>0</td>\n",
              "      <td>67.20</td>\n",
              "    </tr>\n",
              "    <tr>\n",
              "      <th>164</th>\n",
              "      <td>0</td>\n",
              "      <td>67.16</td>\n",
              "      <td>0</td>\n",
              "      <td>72.50</td>\n",
              "      <td>0</td>\n",
              "      <td>1</td>\n",
              "      <td>63.35</td>\n",
              "      <td>0</td>\n",
              "      <td>0</td>\n",
              "      <td>53.04</td>\n",
              "      <td>0</td>\n",
              "      <td>65.52</td>\n",
              "    </tr>\n",
              "    <tr>\n",
              "      <th>137</th>\n",
              "      <td>1</td>\n",
              "      <td>67.00</td>\n",
              "      <td>1</td>\n",
              "      <td>63.00</td>\n",
              "      <td>0</td>\n",
              "      <td>1</td>\n",
              "      <td>72.00</td>\n",
              "      <td>0</td>\n",
              "      <td>0</td>\n",
              "      <td>56.00</td>\n",
              "      <td>1</td>\n",
              "      <td>60.41</td>\n",
              "    </tr>\n",
              "    <tr>\n",
              "      <th>67</th>\n",
              "      <td>1</td>\n",
              "      <td>80.92</td>\n",
              "      <td>1</td>\n",
              "      <td>78.50</td>\n",
              "      <td>1</td>\n",
              "      <td>1</td>\n",
              "      <td>67.00</td>\n",
              "      <td>0</td>\n",
              "      <td>0</td>\n",
              "      <td>68.71</td>\n",
              "      <td>0</td>\n",
              "      <td>60.99</td>\n",
              "    </tr>\n",
              "    <tr>\n",
              "      <th>66</th>\n",
              "      <td>1</td>\n",
              "      <td>83.00</td>\n",
              "      <td>1</td>\n",
              "      <td>74.00</td>\n",
              "      <td>1</td>\n",
              "      <td>2</td>\n",
              "      <td>66.00</td>\n",
              "      <td>0</td>\n",
              "      <td>0</td>\n",
              "      <td>68.92</td>\n",
              "      <td>1</td>\n",
              "      <td>58.46</td>\n",
              "    </tr>\n",
              "    <tr>\n",
              "      <th>79</th>\n",
              "      <td>0</td>\n",
              "      <td>69.00</td>\n",
              "      <td>0</td>\n",
              "      <td>62.00</td>\n",
              "      <td>0</td>\n",
              "      <td>2</td>\n",
              "      <td>66.00</td>\n",
              "      <td>2</td>\n",
              "      <td>0</td>\n",
              "      <td>75.00</td>\n",
              "      <td>1</td>\n",
              "      <td>67.99</td>\n",
              "    </tr>\n",
              "    <tr>\n",
              "      <th>99</th>\n",
              "      <td>1</td>\n",
              "      <td>54.00</td>\n",
              "      <td>0</td>\n",
              "      <td>82.00</td>\n",
              "      <td>1</td>\n",
              "      <td>1</td>\n",
              "      <td>63.00</td>\n",
              "      <td>2</td>\n",
              "      <td>0</td>\n",
              "      <td>50.00</td>\n",
              "      <td>0</td>\n",
              "      <td>59.47</td>\n",
              "    </tr>\n",
              "    <tr>\n",
              "      <th>148</th>\n",
              "      <td>0</td>\n",
              "      <td>77.00</td>\n",
              "      <td>0</td>\n",
              "      <td>86.00</td>\n",
              "      <td>0</td>\n",
              "      <td>0</td>\n",
              "      <td>56.00</td>\n",
              "      <td>1</td>\n",
              "      <td>0</td>\n",
              "      <td>57.00</td>\n",
              "      <td>0</td>\n",
              "      <td>64.08</td>\n",
              "    </tr>\n",
              "    <tr>\n",
              "      <th>0</th>\n",
              "      <td>1</td>\n",
              "      <td>67.00</td>\n",
              "      <td>1</td>\n",
              "      <td>91.00</td>\n",
              "      <td>1</td>\n",
              "      <td>1</td>\n",
              "      <td>58.00</td>\n",
              "      <td>2</td>\n",
              "      <td>0</td>\n",
              "      <td>55.00</td>\n",
              "      <td>1</td>\n",
              "      <td>58.80</td>\n",
              "    </tr>\n",
              "    <tr>\n",
              "      <th>44</th>\n",
              "      <td>0</td>\n",
              "      <td>77.00</td>\n",
              "      <td>1</td>\n",
              "      <td>73.00</td>\n",
              "      <td>1</td>\n",
              "      <td>1</td>\n",
              "      <td>81.00</td>\n",
              "      <td>0</td>\n",
              "      <td>1</td>\n",
              "      <td>89.00</td>\n",
              "      <td>0</td>\n",
              "      <td>69.70</td>\n",
              "    </tr>\n",
              "    <tr>\n",
              "      <th>121</th>\n",
              "      <td>0</td>\n",
              "      <td>64.00</td>\n",
              "      <td>0</td>\n",
              "      <td>67.00</td>\n",
              "      <td>1</td>\n",
              "      <td>2</td>\n",
              "      <td>69.60</td>\n",
              "      <td>2</td>\n",
              "      <td>1</td>\n",
              "      <td>55.67</td>\n",
              "      <td>1</td>\n",
              "      <td>71.49</td>\n",
              "    </tr>\n",
              "    <tr>\n",
              "      <th>28</th>\n",
              "      <td>1</td>\n",
              "      <td>76.76</td>\n",
              "      <td>1</td>\n",
              "      <td>76.50</td>\n",
              "      <td>1</td>\n",
              "      <td>1</td>\n",
              "      <td>67.50</td>\n",
              "      <td>0</td>\n",
              "      <td>1</td>\n",
              "      <td>73.35</td>\n",
              "      <td>0</td>\n",
              "      <td>64.15</td>\n",
              "    </tr>\n",
              "    <tr>\n",
              "      <th>154</th>\n",
              "      <td>1</td>\n",
              "      <td>53.00</td>\n",
              "      <td>0</td>\n",
              "      <td>63.00</td>\n",
              "      <td>1</td>\n",
              "      <td>2</td>\n",
              "      <td>60.00</td>\n",
              "      <td>0</td>\n",
              "      <td>1</td>\n",
              "      <td>70.00</td>\n",
              "      <td>0</td>\n",
              "      <td>53.20</td>\n",
              "    </tr>\n",
              "    <tr>\n",
              "      <th>15</th>\n",
              "      <td>0</td>\n",
              "      <td>65.00</td>\n",
              "      <td>0</td>\n",
              "      <td>75.00</td>\n",
              "      <td>0</td>\n",
              "      <td>1</td>\n",
              "      <td>69.00</td>\n",
              "      <td>0</td>\n",
              "      <td>1</td>\n",
              "      <td>72.00</td>\n",
              "      <td>0</td>\n",
              "      <td>64.66</td>\n",
              "    </tr>\n",
              "    <tr>\n",
              "      <th>55</th>\n",
              "      <td>1</td>\n",
              "      <td>60.40</td>\n",
              "      <td>0</td>\n",
              "      <td>66.60</td>\n",
              "      <td>1</td>\n",
              "      <td>2</td>\n",
              "      <td>65.00</td>\n",
              "      <td>0</td>\n",
              "      <td>0</td>\n",
              "      <td>71.00</td>\n",
              "      <td>1</td>\n",
              "      <td>52.71</td>\n",
              "    </tr>\n",
              "    <tr>\n",
              "      <th>136</th>\n",
              "      <td>0</td>\n",
              "      <td>47.00</td>\n",
              "      <td>0</td>\n",
              "      <td>59.00</td>\n",
              "      <td>0</td>\n",
              "      <td>0</td>\n",
              "      <td>64.00</td>\n",
              "      <td>0</td>\n",
              "      <td>0</td>\n",
              "      <td>78.00</td>\n",
              "      <td>0</td>\n",
              "      <td>61.58</td>\n",
              "    </tr>\n",
              "    <tr>\n",
              "      <th>4</th>\n",
              "      <td>1</td>\n",
              "      <td>85.80</td>\n",
              "      <td>0</td>\n",
              "      <td>73.60</td>\n",
              "      <td>0</td>\n",
              "      <td>1</td>\n",
              "      <td>73.30</td>\n",
              "      <td>0</td>\n",
              "      <td>0</td>\n",
              "      <td>96.80</td>\n",
              "      <td>0</td>\n",
              "      <td>55.50</td>\n",
              "    </tr>\n",
              "    <tr>\n",
              "      <th>60</th>\n",
              "      <td>1</td>\n",
              "      <td>74.00</td>\n",
              "      <td>0</td>\n",
              "      <td>70.00</td>\n",
              "      <td>0</td>\n",
              "      <td>2</td>\n",
              "      <td>72.00</td>\n",
              "      <td>0</td>\n",
              "      <td>1</td>\n",
              "      <td>60.00</td>\n",
              "      <td>0</td>\n",
              "      <td>57.24</td>\n",
              "    </tr>\n",
              "    <tr>\n",
              "      <th>87</th>\n",
              "      <td>1</td>\n",
              "      <td>59.60</td>\n",
              "      <td>0</td>\n",
              "      <td>51.00</td>\n",
              "      <td>0</td>\n",
              "      <td>2</td>\n",
              "      <td>60.00</td>\n",
              "      <td>1</td>\n",
              "      <td>0</td>\n",
              "      <td>75.00</td>\n",
              "      <td>1</td>\n",
              "      <td>59.08</td>\n",
              "    </tr>\n",
              "    <tr>\n",
              "      <th>135</th>\n",
              "      <td>0</td>\n",
              "      <td>72.00</td>\n",
              "      <td>0</td>\n",
              "      <td>56.00</td>\n",
              "      <td>1</td>\n",
              "      <td>2</td>\n",
              "      <td>69.00</td>\n",
              "      <td>0</td>\n",
              "      <td>0</td>\n",
              "      <td>55.60</td>\n",
              "      <td>1</td>\n",
              "      <td>65.63</td>\n",
              "    </tr>\n",
              "    <tr>\n",
              "      <th>35</th>\n",
              "      <td>0</td>\n",
              "      <td>69.00</td>\n",
              "      <td>0</td>\n",
              "      <td>78.00</td>\n",
              "      <td>0</td>\n",
              "      <td>1</td>\n",
              "      <td>72.00</td>\n",
              "      <td>0</td>\n",
              "      <td>0</td>\n",
              "      <td>71.00</td>\n",
              "      <td>1</td>\n",
              "      <td>62.74</td>\n",
              "    </tr>\n",
              "    <tr>\n",
              "      <th>141</th>\n",
              "      <td>1</td>\n",
              "      <td>66.00</td>\n",
              "      <td>0</td>\n",
              "      <td>64.00</td>\n",
              "      <td>0</td>\n",
              "      <td>2</td>\n",
              "      <td>60.00</td>\n",
              "      <td>0</td>\n",
              "      <td>0</td>\n",
              "      <td>60.00</td>\n",
              "      <td>1</td>\n",
              "      <td>61.90</td>\n",
              "    </tr>\n",
              "    <tr>\n",
              "      <th>124</th>\n",
              "      <td>1</td>\n",
              "      <td>67.00</td>\n",
              "      <td>0</td>\n",
              "      <td>71.00</td>\n",
              "      <td>0</td>\n",
              "      <td>2</td>\n",
              "      <td>64.33</td>\n",
              "      <td>1</td>\n",
              "      <td>1</td>\n",
              "      <td>64.00</td>\n",
              "      <td>1</td>\n",
              "      <td>61.26</td>\n",
              "    </tr>\n",
              "    <tr>\n",
              "      <th>72</th>\n",
              "      <td>1</td>\n",
              "      <td>84.86</td>\n",
              "      <td>1</td>\n",
              "      <td>67.00</td>\n",
              "      <td>1</td>\n",
              "      <td>2</td>\n",
              "      <td>78.00</td>\n",
              "      <td>0</td>\n",
              "      <td>0</td>\n",
              "      <td>95.50</td>\n",
              "      <td>0</td>\n",
              "      <td>68.53</td>\n",
              "    </tr>\n",
              "    <tr>\n",
              "      <th>200</th>\n",
              "      <td>1</td>\n",
              "      <td>69.00</td>\n",
              "      <td>1</td>\n",
              "      <td>60.00</td>\n",
              "      <td>1</td>\n",
              "      <td>1</td>\n",
              "      <td>65.00</td>\n",
              "      <td>0</td>\n",
              "      <td>0</td>\n",
              "      <td>87.55</td>\n",
              "      <td>0</td>\n",
              "      <td>52.81</td>\n",
              "    </tr>\n",
              "    <tr>\n",
              "      <th>106</th>\n",
              "      <td>1</td>\n",
              "      <td>61.08</td>\n",
              "      <td>1</td>\n",
              "      <td>50.00</td>\n",
              "      <td>1</td>\n",
              "      <td>2</td>\n",
              "      <td>54.00</td>\n",
              "      <td>2</td>\n",
              "      <td>0</td>\n",
              "      <td>71.00</td>\n",
              "      <td>0</td>\n",
              "      <td>65.69</td>\n",
              "    </tr>\n",
              "    <tr>\n",
              "      <th>210</th>\n",
              "      <td>1</td>\n",
              "      <td>80.60</td>\n",
              "      <td>1</td>\n",
              "      <td>82.00</td>\n",
              "      <td>1</td>\n",
              "      <td>1</td>\n",
              "      <td>77.60</td>\n",
              "      <td>0</td>\n",
              "      <td>0</td>\n",
              "      <td>91.00</td>\n",
              "      <td>0</td>\n",
              "      <td>74.49</td>\n",
              "    </tr>\n",
              "    <tr>\n",
              "      <th>46</th>\n",
              "      <td>0</td>\n",
              "      <td>70.89</td>\n",
              "      <td>1</td>\n",
              "      <td>71.98</td>\n",
              "      <td>1</td>\n",
              "      <td>2</td>\n",
              "      <td>65.60</td>\n",
              "      <td>0</td>\n",
              "      <td>0</td>\n",
              "      <td>68.00</td>\n",
              "      <td>1</td>\n",
              "      <td>71.63</td>\n",
              "    </tr>\n",
              "    <tr>\n",
              "      <th>123</th>\n",
              "      <td>1</td>\n",
              "      <td>74.00</td>\n",
              "      <td>1</td>\n",
              "      <td>59.00</td>\n",
              "      <td>1</td>\n",
              "      <td>1</td>\n",
              "      <td>73.00</td>\n",
              "      <td>0</td>\n",
              "      <td>1</td>\n",
              "      <td>60.00</td>\n",
              "      <td>1</td>\n",
              "      <td>56.70</td>\n",
              "    </tr>\n",
              "    <tr>\n",
              "      <th>81</th>\n",
              "      <td>1</td>\n",
              "      <td>81.70</td>\n",
              "      <td>1</td>\n",
              "      <td>63.00</td>\n",
              "      <td>1</td>\n",
              "      <td>2</td>\n",
              "      <td>67.00</td>\n",
              "      <td>0</td>\n",
              "      <td>1</td>\n",
              "      <td>86.00</td>\n",
              "      <td>0</td>\n",
              "      <td>70.20</td>\n",
              "    </tr>\n",
              "    <tr>\n",
              "      <th>114</th>\n",
              "      <td>1</td>\n",
              "      <td>65.00</td>\n",
              "      <td>0</td>\n",
              "      <td>68.00</td>\n",
              "      <td>1</td>\n",
              "      <td>2</td>\n",
              "      <td>69.00</td>\n",
              "      <td>0</td>\n",
              "      <td>0</td>\n",
              "      <td>53.70</td>\n",
              "      <td>1</td>\n",
              "      <td>55.01</td>\n",
              "    </tr>\n",
              "    <tr>\n",
              "      <th>165</th>\n",
              "      <td>0</td>\n",
              "      <td>63.30</td>\n",
              "      <td>0</td>\n",
              "      <td>78.33</td>\n",
              "      <td>1</td>\n",
              "      <td>1</td>\n",
              "      <td>74.00</td>\n",
              "      <td>0</td>\n",
              "      <td>0</td>\n",
              "      <td>80.00</td>\n",
              "      <td>0</td>\n",
              "      <td>74.56</td>\n",
              "    </tr>\n",
              "    <tr>\n",
              "      <th>199</th>\n",
              "      <td>1</td>\n",
              "      <td>69.00</td>\n",
              "      <td>1</td>\n",
              "      <td>65.00</td>\n",
              "      <td>1</td>\n",
              "      <td>1</td>\n",
              "      <td>57.00</td>\n",
              "      <td>0</td>\n",
              "      <td>0</td>\n",
              "      <td>73.00</td>\n",
              "      <td>1</td>\n",
              "      <td>55.80</td>\n",
              "    </tr>\n",
              "    <tr>\n",
              "      <th>203</th>\n",
              "      <td>1</td>\n",
              "      <td>55.68</td>\n",
              "      <td>1</td>\n",
              "      <td>61.33</td>\n",
              "      <td>1</td>\n",
              "      <td>1</td>\n",
              "      <td>56.87</td>\n",
              "      <td>0</td>\n",
              "      <td>0</td>\n",
              "      <td>66.00</td>\n",
              "      <td>1</td>\n",
              "      <td>58.30</td>\n",
              "    </tr>\n",
              "    <tr>\n",
              "      <th>80</th>\n",
              "      <td>0</td>\n",
              "      <td>69.00</td>\n",
              "      <td>1</td>\n",
              "      <td>62.00</td>\n",
              "      <td>1</td>\n",
              "      <td>1</td>\n",
              "      <td>69.00</td>\n",
              "      <td>0</td>\n",
              "      <td>1</td>\n",
              "      <td>67.00</td>\n",
              "      <td>1</td>\n",
              "      <td>62.35</td>\n",
              "    </tr>\n",
              "    <tr>\n",
              "      <th>17</th>\n",
              "      <td>0</td>\n",
              "      <td>55.00</td>\n",
              "      <td>0</td>\n",
              "      <td>67.00</td>\n",
              "      <td>0</td>\n",
              "      <td>1</td>\n",
              "      <td>64.00</td>\n",
              "      <td>0</td>\n",
              "      <td>0</td>\n",
              "      <td>60.00</td>\n",
              "      <td>0</td>\n",
              "      <td>67.28</td>\n",
              "    </tr>\n",
              "    <tr>\n",
              "      <th>170</th>\n",
              "      <td>0</td>\n",
              "      <td>63.40</td>\n",
              "      <td>1</td>\n",
              "      <td>67.20</td>\n",
              "      <td>1</td>\n",
              "      <td>1</td>\n",
              "      <td>60.00</td>\n",
              "      <td>0</td>\n",
              "      <td>0</td>\n",
              "      <td>58.06</td>\n",
              "      <td>1</td>\n",
              "      <td>69.28</td>\n",
              "    </tr>\n",
              "    <tr>\n",
              "      <th>173</th>\n",
              "      <td>0</td>\n",
              "      <td>52.00</td>\n",
              "      <td>1</td>\n",
              "      <td>52.00</td>\n",
              "      <td>1</td>\n",
              "      <td>2</td>\n",
              "      <td>55.00</td>\n",
              "      <td>2</td>\n",
              "      <td>0</td>\n",
              "      <td>67.00</td>\n",
              "      <td>1</td>\n",
              "      <td>59.32</td>\n",
              "    </tr>\n",
              "    <tr>\n",
              "      <th>211</th>\n",
              "      <td>1</td>\n",
              "      <td>58.00</td>\n",
              "      <td>1</td>\n",
              "      <td>60.00</td>\n",
              "      <td>1</td>\n",
              "      <td>2</td>\n",
              "      <td>72.00</td>\n",
              "      <td>2</td>\n",
              "      <td>0</td>\n",
              "      <td>74.00</td>\n",
              "      <td>0</td>\n",
              "      <td>53.62</td>\n",
              "    </tr>\n",
              "  </tbody>\n",
              "</table>\n",
              "</div>"
            ],
            "text/plain": [
              "     gender  ssc_p  ssc_b  hsc_p  ...  workex  etest_p  specialisation  mba_p\n",
              "21        0  79.00      1  76.00  ...       0    95.00               0  69.06\n",
              "9         1  58.00      0  70.00  ...       0    54.00               0  52.21\n",
              "130       1  62.00      0  65.00  ...       0    84.00               0  64.15\n",
              "16        1  63.00      0  66.20  ...       1    60.00               0  62.54\n",
              "178       1  68.00      1  56.00  ...       0    73.00               1  68.07\n",
              "212       1  67.00      1  67.00  ...       1    59.00               0  69.72\n",
              "126       0  79.00      1  61.00  ...       1    70.00               0  68.20\n",
              "77        1  64.00      1  80.00  ...       1    69.00               0  57.65\n",
              "119       1  60.80      0  68.40  ...       1    82.66               0  64.34\n",
              "176       0  59.00      0  60.00  ...       0    55.00               1  57.90\n",
              "184       0  56.28      1  62.83  ...       0    60.00               1  57.29\n",
              "197       0  83.96      1  53.00  ...       0    59.32               1  69.71\n",
              "71        1  75.00      1  70.29  ...       0    95.00               0  66.94\n",
              "191       1  67.00      1  61.00  ...       0    72.00               0  61.01\n",
              "193       0  60.00      0  63.00  ...       1    80.00               1  56.63\n",
              "74        1  56.60      0  64.80  ...       0    84.27               0  67.20\n",
              "164       0  67.16      0  72.50  ...       0    53.04               0  65.52\n",
              "137       1  67.00      1  63.00  ...       0    56.00               1  60.41\n",
              "67        1  80.92      1  78.50  ...       0    68.71               0  60.99\n",
              "66        1  83.00      1  74.00  ...       0    68.92               1  58.46\n",
              "79        0  69.00      0  62.00  ...       0    75.00               1  67.99\n",
              "99        1  54.00      0  82.00  ...       0    50.00               0  59.47\n",
              "148       0  77.00      0  86.00  ...       0    57.00               0  64.08\n",
              "0         1  67.00      1  91.00  ...       0    55.00               1  58.80\n",
              "44        0  77.00      1  73.00  ...       1    89.00               0  69.70\n",
              "121       0  64.00      0  67.00  ...       1    55.67               1  71.49\n",
              "28        1  76.76      1  76.50  ...       1    73.35               0  64.15\n",
              "154       1  53.00      0  63.00  ...       1    70.00               0  53.20\n",
              "15        0  65.00      0  75.00  ...       1    72.00               0  64.66\n",
              "55        1  60.40      0  66.60  ...       0    71.00               1  52.71\n",
              "136       0  47.00      0  59.00  ...       0    78.00               0  61.58\n",
              "4         1  85.80      0  73.60  ...       0    96.80               0  55.50\n",
              "60        1  74.00      0  70.00  ...       1    60.00               0  57.24\n",
              "87        1  59.60      0  51.00  ...       0    75.00               1  59.08\n",
              "135       0  72.00      0  56.00  ...       0    55.60               1  65.63\n",
              "35        0  69.00      0  78.00  ...       0    71.00               1  62.74\n",
              "141       1  66.00      0  64.00  ...       0    60.00               1  61.90\n",
              "124       1  67.00      0  71.00  ...       1    64.00               1  61.26\n",
              "72        1  84.86      1  67.00  ...       0    95.50               0  68.53\n",
              "200       1  69.00      1  60.00  ...       0    87.55               0  52.81\n",
              "106       1  61.08      1  50.00  ...       0    71.00               0  65.69\n",
              "210       1  80.60      1  82.00  ...       0    91.00               0  74.49\n",
              "46        0  70.89      1  71.98  ...       0    68.00               1  71.63\n",
              "123       1  74.00      1  59.00  ...       1    60.00               1  56.70\n",
              "81        1  81.70      1  63.00  ...       1    86.00               0  70.20\n",
              "114       1  65.00      0  68.00  ...       0    53.70               1  55.01\n",
              "165       0  63.30      0  78.33  ...       0    80.00               0  74.56\n",
              "199       1  69.00      1  65.00  ...       0    73.00               1  55.80\n",
              "203       1  55.68      1  61.33  ...       0    66.00               1  58.30\n",
              "80        0  69.00      1  62.00  ...       1    67.00               1  62.35\n",
              "17        0  55.00      0  67.00  ...       0    60.00               0  67.28\n",
              "170       0  63.40      1  67.20  ...       0    58.06               1  69.28\n",
              "173       0  52.00      1  52.00  ...       0    67.00               1  59.32\n",
              "211       1  58.00      1  60.00  ...       0    74.00               0  53.62\n",
              "\n",
              "[54 rows x 12 columns]"
            ]
          },
          "metadata": {
            "tags": []
          },
          "execution_count": 33
        }
      ]
    },
    {
      "cell_type": "markdown",
      "metadata": {
        "id": "wahZJMUsasrW",
        "colab_type": "text"
      },
      "source": [
        "STANDARDISING THE VALUES "
      ]
    },
    {
      "cell_type": "code",
      "metadata": {
        "id": "3MTY-n1w2ICx",
        "colab_type": "code",
        "colab": {}
      },
      "source": [
        "from sklearn.preprocessing import StandardScaler"
      ],
      "execution_count": 34,
      "outputs": []
    },
    {
      "cell_type": "code",
      "metadata": {
        "id": "GrwQOIrb2gdO",
        "colab_type": "code",
        "colab": {
          "base_uri": "https://localhost:8080/",
          "height": 35
        },
        "outputId": "acbf6e9c-8749-4b5d-d510-a08da90c52c7"
      },
      "source": [
        "sc = StandardScaler()\n",
        "sc.fit(x_train)"
      ],
      "execution_count": 35,
      "outputs": [
        {
          "output_type": "execute_result",
          "data": {
            "text/plain": [
              "StandardScaler(copy=True, with_mean=True, with_std=True)"
            ]
          },
          "metadata": {
            "tags": []
          },
          "execution_count": 35
        }
      ]
    },
    {
      "cell_type": "code",
      "metadata": {
        "id": "PCwhkf1R2kL_",
        "colab_type": "code",
        "colab": {}
      },
      "source": [
        "x_train =sc.transform(x_train)\n",
        "x_test = sc.transform(x_test)"
      ],
      "execution_count": 36,
      "outputs": []
    },
    {
      "cell_type": "code",
      "metadata": {
        "id": "SW9QAx53LUp6",
        "colab_type": "code",
        "colab": {
          "base_uri": "https://localhost:8080/",
          "height": 473
        },
        "outputId": "634bc293-548b-4932-fba0-038f20c429fc"
      },
      "source": [
        "plt.plot(x_test,y_test,'g*')"
      ],
      "execution_count": 37,
      "outputs": [
        {
          "output_type": "execute_result",
          "data": {
            "text/plain": [
              "[<matplotlib.lines.Line2D at 0x7f22691ddc18>,\n",
              " <matplotlib.lines.Line2D at 0x7f22691eae48>,\n",
              " <matplotlib.lines.Line2D at 0x7f22691eaf60>,\n",
              " <matplotlib.lines.Line2D at 0x7f22691f30f0>,\n",
              " <matplotlib.lines.Line2D at 0x7f22691f3240>,\n",
              " <matplotlib.lines.Line2D at 0x7f22691f3390>,\n",
              " <matplotlib.lines.Line2D at 0x7f22691f34e0>,\n",
              " <matplotlib.lines.Line2D at 0x7f22691f3630>,\n",
              " <matplotlib.lines.Line2D at 0x7f22691f3780>,\n",
              " <matplotlib.lines.Line2D at 0x7f22691f38d0>,\n",
              " <matplotlib.lines.Line2D at 0x7f22691f3a20>,\n",
              " <matplotlib.lines.Line2D at 0x7f22691f3b70>]"
            ]
          },
          "metadata": {
            "tags": []
          },
          "execution_count": 37
        },
        {
          "output_type": "display_data",
          "data": {
            "image/png": "[encoded data removed]",
            "text/plain": [
              "<Figure size 432x288 with 1 Axes>"
            ]
          },
          "metadata": {
            "tags": [],
            "needs_background": "light"
          }
        }
      ]
    },
    {
      "cell_type": "markdown",
      "metadata": {
        "id": "QnNG30qaa5_E",
        "colab_type": "text"
      },
      "source": [
        "FILLING MISSING VALUES"
      ]
    },
    {
      "cell_type": "code",
      "metadata": {
        "id": "a6gL-J18-W_S",
        "colab_type": "code",
        "colab": {}
      },
      "source": [
        "from sklearn.impute import SimpleImputer\n",
        "imp = SimpleImputer()"
      ],
      "execution_count": 38,
      "outputs": []
    },
    {
      "cell_type": "code",
      "metadata": {
        "id": "mD_zZfdd-gi5",
        "colab_type": "code",
        "colab": {
          "base_uri": "https://localhost:8080/",
          "height": 243
        },
        "outputId": "4c1418e3-c2bc-4b70-916e-34fd44f371d9"
      },
      "source": [
        "x_train=imp.fit_transform(x_train)\n",
        "x_train"
      ],
      "execution_count": 39,
      "outputs": [
        {
          "output_type": "execute_result",
          "data": {
            "text/plain": [
              "array([[ 0.72032487, -0.56021557,  1.12587994, ..., -0.31827264,\n",
              "         1.12587994, -0.45615676],\n",
              "       [ 0.72032487,  0.05206206,  1.12587994, ..., -1.0928932 ,\n",
              "        -0.88819417,  2.34129244],\n",
              "       [ 0.72032487, -0.82642323,  1.12587994, ..., -1.10034147,\n",
              "         1.12587994, -1.41567666],\n",
              "       ...,\n",
              "       [ 0.72032487, -0.73768734, -0.88819417, ...,  0.91069267,\n",
              "         1.12587994, -1.18097395],\n",
              "       [ 0.72032487,  1.48070987,  1.12587994, ...,  0.83620993,\n",
              "        -0.88819417,  0.78466124],\n",
              "       [ 0.72032487,  0.91901169,  1.12587994, ...,  1.20862366,\n",
              "        -0.88819417, -0.30256455]])"
            ]
          },
          "metadata": {
            "tags": []
          },
          "execution_count": 39
        }
      ]
    },
    {
      "cell_type": "code",
      "metadata": {
        "id": "UivIvwyt_IeY",
        "colab_type": "code",
        "colab": {
          "base_uri": "https://localhost:8080/",
          "height": 1000
        },
        "outputId": "2cc4e071-248f-4f63-c2cb-573a920e2d6c"
      },
      "source": [
        "x_test=imp.fit_transform(x_test)\n",
        "x_test"
      ],
      "execution_count": 40,
      "outputs": [
        {
          "output_type": "execute_result",
          "data": {
            "text/plain": [
              "array([[-1.38826249,  1.03703042,  1.12587994,  0.86873859,  0.82285074,\n",
              "        -0.65489257,  2.59034132, -0.7036005 , -0.75040442,  1.65552014,\n",
              "        -0.88819417,  1.19366522],\n",
              "       [ 0.72032487, -0.82642323, -0.88819417,  0.34601167, -1.21528724,\n",
              "        -0.65489257, -0.71926564, -0.7036005 , -0.75040442, -1.39827246,\n",
              "        -0.88819417, -1.71423232],\n",
              "       [ 0.72032487, -0.47147968, -0.88819417, -0.0895941 ,  0.82285074,\n",
              "        -0.65489257, -0.85716593, -0.7036005 , -0.75040442,  0.83620993,\n",
              "        -0.88819417,  0.34631941],\n",
              "       [ 0.72032487, -0.38274379, -0.88819417,  0.01495129, -1.21528724,\n",
              "        -0.65489257, -0.08492431, -0.7036005 ,  1.33261475, -0.95137598,\n",
              "        -0.88819417,  0.06847282],\n",
              "       [ 0.72032487,  0.06093565,  1.12587994, -0.87368448,  0.82285074,\n",
              "         1.07359438,  0.24603639,  1.49600495, -0.75040442,  0.01689972,\n",
              "         1.12587994,  1.02281546],\n",
              "       [ 0.72032487, -0.02780024,  1.12587994,  0.08464821,  0.82285074,\n",
              "        -0.65489257,  0.93553784, -0.7036005 ,  1.33261475, -1.02585873,\n",
              "        -0.88819417,  1.30756507],\n",
              "       [-1.38826249,  1.03703042,  1.12587994, -0.43807871,  0.82285074,\n",
              "         1.07359438,  1.28028856,  1.49600495,  1.33261475, -0.20654852,\n",
              "        -0.88819417,  1.04525027],\n",
              "       [ 0.72032487, -0.2940079 ,  1.12587994,  1.21722321,  0.82285074,\n",
              "         1.07359438, -0.16766448,  1.49600495,  1.33261475, -0.28103127,\n",
              "        -0.88819417, -0.77542148],\n",
              "       [ 0.72032487, -0.57796275, -0.88819417,  0.20661783, -1.21528724,\n",
              "        -0.65489257, -0.2228246 , -0.7036005 ,  1.33261475,  0.73640305,\n",
              "        -0.88819417,  0.37910876],\n",
              "       [-1.38826249, -0.73768734, -0.88819417, -0.52519986,  0.82285074,\n",
              "        -0.65489257, -1.40876709, -0.7036005 , -0.75040442, -1.32378971,\n",
              "         1.12587994, -0.7322776 ],\n",
              "       [-1.38826249, -0.97904896,  1.12587994, -0.278647  ,  0.82285074,\n",
              "        -0.65489257, -0.88612499, -0.7036005 , -0.75040442, -0.95137598,\n",
              "         1.12587994, -0.83754867],\n",
              "       [-1.38826249,  1.47716043,  1.12587994, -1.13504794,  0.82285074,\n",
              "         1.07359438,  3.41774306,  1.49600495, -0.75040442, -1.00202425,\n",
              "         1.12587994,  1.30583931],\n",
              "       [ 0.72032487,  0.68208687,  1.12587994,  0.37127681,  0.82285074,\n",
              "        -0.65489257,  0.65973726, -0.7036005 , -0.75040442,  1.65552014,\n",
              "        -0.88819417,  0.82780512],\n",
              "       [ 0.72032487, -0.02780024,  1.12587994, -0.43807871, -1.21528724,\n",
              "         1.07359438,  0.79763755, -0.7036005 , -0.75040442, -0.05758303,\n",
              "        -0.88819417, -0.19556773],\n",
              "       [-1.38826249, -0.64895146, -0.88819417, -0.2638364 , -1.21528724,\n",
              "        -2.38337952, -1.40876709,  0.39620222,  1.33261475,  0.53827894,\n",
              "         1.12587994, -0.95144851],\n",
              "       [ 0.72032487, -0.95065348, -0.88819417, -0.10701833, -1.21528724,\n",
              "        -0.65489257,  0.54941703, -0.7036005 , -0.75040442,  0.85632027,\n",
              "        -0.88819417,  0.87267475],\n",
              "       [-1.38826249, -0.0136025 , -0.88819417,  0.56381456, -1.21528724,\n",
              "        -0.65489257, -0.39519996, -0.7036005 , -0.75040442, -1.4697759 ,\n",
              "        -0.88819417,  0.58274788],\n",
              "       [ 0.72032487, -0.02780024,  1.12587994, -0.2638364 , -1.21528724,\n",
              "        -0.65489257,  0.79763755, -0.7036005 , -0.75040442, -1.24930697,\n",
              "         1.12587994, -0.29911304],\n",
              "       [ 0.72032487,  1.20740333,  1.12587994,  1.08654148,  0.82285074,\n",
              "        -0.65489257,  0.1081361 , -0.7036005 , -0.75040442, -0.30263126,\n",
              "        -0.88819417, -0.19901924],\n",
              "       [ 0.72032487,  1.39197398,  1.12587994,  0.69449629,  0.82285074,\n",
              "         1.07359438, -0.02976419, -0.7036005 , -0.75040442, -0.28698989,\n",
              "         1.12587994, -0.63563531],\n",
              "       [-1.38826249,  0.14967154, -0.88819417, -0.35095756, -1.21528724,\n",
              "         1.07359438, -0.02976419,  1.49600495, -0.75040442,  0.16586521,\n",
              "         1.12587994,  1.00900941],\n",
              "       [ 0.72032487, -1.18136679, -0.88819417,  1.39146552,  0.82285074,\n",
              "        -0.65489257, -0.44346506,  1.49600495, -0.75040442, -1.69620344,\n",
              "        -0.88819417, -0.46133403],\n",
              "       [-1.38826249,  0.85955865, -0.88819417,  1.73995013, -1.21528724,\n",
              "        -2.38337952, -1.40876709,  0.39620222, -0.75040442, -1.17482422,\n",
              "        -0.88819417,  0.33423912],\n",
              "       [ 0.72032487, -0.02780024,  1.12587994,  2.1755559 ,  0.82285074,\n",
              "        -0.65489257, -1.13296651,  1.49600495, -0.75040442, -1.32378971,\n",
              "         1.12587994, -0.57695963],\n",
              "       [-1.38826249,  0.85955865,  1.12587994,  0.60737513,  0.82285074,\n",
              "        -0.65489257,  2.03874016, -0.7036005 ,  1.33261475,  1.20862366,\n",
              "        -0.88819417,  1.30411356],\n",
              "       [-1.38826249, -0.2940079 , -0.88819417,  0.08464821,  0.82285074,\n",
              "         1.07359438,  0.46667685,  1.49600495,  1.33261475, -1.27388627,\n",
              "         1.12587994,  1.61302374],\n",
              "       [ 0.72032487,  0.83826203,  1.12587994,  0.91229917,  0.82285074,\n",
              "        -0.65489257,  0.17708624, -0.7036005 ,  1.33261475,  0.04296868,\n",
              "        -0.88819417,  0.34631941],\n",
              "       [ 0.72032487, -1.27010268, -0.88819417, -0.2638364 ,  0.82285074,\n",
              "         1.07359438, -0.85716593, -0.7036005 ,  1.33261475, -0.20654852,\n",
              "        -0.88819417, -1.54338255],\n",
              "       [-1.38826249, -0.20527201, -0.88819417,  0.78161744, -1.21528724,\n",
              "        -0.65489257,  0.38393668, -0.7036005 ,  1.33261475, -0.05758303,\n",
              "        -0.88819417,  0.43433293],\n",
              "       [ 0.72032487, -0.6134571 , -0.88819417,  0.04979975,  0.82285074,\n",
              "         1.07359438, -0.16766448, -0.7036005 , -0.75040442, -0.13206577,\n",
              "         1.12587994, -1.62794455],\n",
              "       [-1.38826249, -1.80251801, -0.88819417, -0.61232102, -1.21528724,\n",
              "        -2.38337952, -0.30556477, -0.7036005 , -0.75040442,  0.38931345,\n",
              "        -0.88819417, -0.09719968],\n",
              "       [ 0.72032487,  1.64043447, -0.88819417,  0.65964783, -1.21528724,\n",
              "        -0.65489257,  0.97690793, -0.7036005 , -0.75040442,  1.78958908,\n",
              "        -0.88819417, -1.14645885],\n",
              "       [ 0.72032487,  0.59335098, -0.88819417,  0.34601167, -1.21528724,\n",
              "         1.07359438,  0.79763755, -0.7036005 ,  1.33261475, -0.95137598,\n",
              "        -0.88819417, -0.84617744],\n",
              "       [ 0.72032487, -0.68444581, -0.88819417, -1.30929025, -1.21528724,\n",
              "         1.07359438, -0.85716593,  0.39620222, -0.75040442,  0.16586521,\n",
              "         1.12587994, -0.52863848],\n",
              "       [-1.38826249,  0.4158792 , -0.88819417, -0.87368448,  0.82285074,\n",
              "         1.07359438,  0.38393668, -0.7036005 , -0.75040442, -1.27910007,\n",
              "         1.12587994,  0.60173118],\n",
              "       [-1.38826249,  0.14967154, -0.88819417,  1.0429809 , -1.21528724,\n",
              "        -0.65489257,  0.79763755, -0.7036005 , -0.75040442, -0.13206577,\n",
              "         1.12587994,  0.10298793],\n",
              "       [ 0.72032487, -0.11653613, -0.88819417, -0.17671525, -1.21528724,\n",
              "         1.07359438, -0.85716593, -0.7036005 , -0.75040442, -0.95137598,\n",
              "         1.12587994, -0.04197551],\n",
              "       [ 0.72032487, -0.02780024, -0.88819417,  0.43313283, -1.21528724,\n",
              "         1.07359438, -0.26005768,  0.39620222,  1.33261475, -0.653445  ,\n",
              "         1.12587994, -0.15242385],\n",
              "       [ 0.72032487,  1.55702273,  1.12587994,  0.08464821,  0.82285074,\n",
              "         1.07359438,  1.62503929, -0.7036005 , -0.75040442,  1.69276151,\n",
              "        -0.88819417,  1.1022002 ],\n",
              "       [ 0.72032487,  0.14967154,  1.12587994, -0.52519986,  0.82285074,\n",
              "        -0.65489257, -0.16766448, -0.7036005 , -0.75040442,  1.10062368,\n",
              "        -0.88819417, -1.610687  ],\n",
              "       [ 0.72032487, -0.5531167 ,  1.12587994, -1.3964114 ,  0.82285074,\n",
              "         1.07359438, -1.68456767,  1.49600495, -0.75040442, -0.13206577,\n",
              "        -0.88819417,  0.61208571],\n",
              "       [ 0.72032487,  1.17900785,  1.12587994,  1.39146552,  0.82285074,\n",
              "        -0.65489257,  1.56987917, -0.7036005 , -0.75040442,  1.35758915,\n",
              "        -0.88819417,  2.1307503 ],\n",
              "       [-1.38826249,  0.31738237,  1.12587994,  0.51851156,  0.82285074,\n",
              "         1.07359438, -0.08492431, -0.7036005 , -0.75040442, -0.35551401,\n",
              "         1.12587994,  1.63718431],\n",
              "       [ 0.72032487,  0.59335098,  1.12587994, -0.61232102,  0.82285074,\n",
              "        -0.65489257,  0.93553784, -0.7036005 ,  1.33261475, -0.95137598,\n",
              "         1.12587994, -0.93936822],\n",
              "       [ 0.72032487,  1.27661732,  1.12587994, -0.2638364 ,  0.82285074,\n",
              "         1.07359438,  0.1081361 , -0.7036005 ,  1.33261475,  0.98517542,\n",
              "        -0.88819417,  1.39040132],\n",
              "       [ 0.72032487, -0.20527201, -0.88819417,  0.17176937,  0.82285074,\n",
              "         1.07359438,  0.38393668, -0.7036005 , -0.75040442, -1.42061728,\n",
              "         1.12587994, -1.23102086],\n",
              "       [-1.38826249, -0.35612302, -0.88819417,  1.07173088,  0.82285074,\n",
              "        -0.65489257,  1.07343813, -0.7036005 , -0.75040442,  0.53827894,\n",
              "        -0.88819417,  2.14283059],\n",
              "       [ 0.72032487,  0.14967154,  1.12587994, -0.0895941 ,  0.82285074,\n",
              "        -0.65489257, -1.2708668 , -0.7036005 , -0.75040442,  0.01689972,\n",
              "         1.12587994, -1.09468619],\n",
              "       [ 0.72032487, -1.03229049,  1.12587994, -0.40932873,  0.82285074,\n",
              "        -0.65489257, -1.28879384, -0.7036005 , -0.75040442, -0.5044795 ,\n",
              "         1.12587994, -0.66324739],\n",
              "       [-1.38826249,  0.14967154,  1.12587994, -0.35095756,  0.82285074,\n",
              "        -0.65489257,  0.38393668, -0.7036005 ,  1.33261475, -0.42999676,\n",
              "         1.12587994,  0.03568347],\n",
              "       [-1.38826249, -1.0926309 , -0.88819417,  0.08464821, -1.21528724,\n",
              "        -0.65489257, -0.30556477, -0.7036005 , -0.75040442, -0.95137598,\n",
              "        -0.88819417,  0.88648079],\n",
              "       [-1.38826249, -0.34724944,  1.12587994,  0.10207244,  0.82285074,\n",
              "        -0.65489257, -0.85716593, -0.7036005 , -0.75040442, -1.09587251,\n",
              "         1.12587994,  1.23163184],\n",
              "       [-1.38826249, -1.35883856,  1.12587994, -1.22216909,  0.82285074,\n",
              "         1.07359438, -1.54666738,  1.49600495, -0.75040442, -0.42999676,\n",
              "         1.12587994, -0.48722036],\n",
              "       [ 0.72032487, -0.82642323,  1.12587994, -0.52519986,  0.82285074,\n",
              "         1.07359438,  0.79763755,  1.49600495, -0.75040442,  0.09138247,\n",
              "        -0.88819417, -1.47090083]])"
            ]
          },
          "metadata": {
            "tags": []
          },
          "execution_count": 40
        }
      ]
    },
    {
      "cell_type": "code",
      "metadata": {
        "id": "9ehN74PdjpK_",
        "colab_type": "code",
        "colab": {}
      },
      "source": [
        "y_test=imp.fit_transform(y_test)"
      ],
      "execution_count": 41,
      "outputs": []
    },
    {
      "cell_type": "code",
      "metadata": {
        "id": "bGx2BnBojyFU",
        "colab_type": "code",
        "colab": {}
      },
      "source": [
        "y_train=imp.fit_transform(y_train)"
      ],
      "execution_count": 42,
      "outputs": []
    },
    {
      "cell_type": "markdown",
      "metadata": {
        "id": "n4sD6yNIDNOX",
        "colab_type": "text"
      },
      "source": [
        "TO COUNT THE UNIQUE VALUES"
      ]
    },
    {
      "cell_type": "code",
      "metadata": {
        "id": "P3V365msboRn",
        "colab_type": "code",
        "colab": {
          "base_uri": "https://localhost:8080/",
          "height": 69
        },
        "outputId": "e6e8f6e2-1bd0-4356-8c42-e7c7f0dfb625"
      },
      "source": [
        "data.gender.value_counts()"
      ],
      "execution_count": 43,
      "outputs": [
        {
          "output_type": "execute_result",
          "data": {
            "text/plain": [
              "1    139\n",
              "0     76\n",
              "Name: gender, dtype: int64"
            ]
          },
          "metadata": {
            "tags": []
          },
          "execution_count": 43
        }
      ]
    },
    {
      "cell_type": "code",
      "metadata": {
        "id": "KPxu8KV5cdPe",
        "colab_type": "code",
        "colab": {
          "base_uri": "https://localhost:8080/",
          "height": 69
        },
        "outputId": "e754accc-1451-470c-b84f-10b50a9d243d"
      },
      "source": [
        "data.ssc_b.value_counts()"
      ],
      "execution_count": 44,
      "outputs": [
        {
          "output_type": "execute_result",
          "data": {
            "text/plain": [
              "0    116\n",
              "1     99\n",
              "Name: ssc_b, dtype: int64"
            ]
          },
          "metadata": {
            "tags": []
          },
          "execution_count": 44
        }
      ]
    },
    {
      "cell_type": "code",
      "metadata": {
        "id": "_pkpjCwAck8U",
        "colab_type": "code",
        "colab": {
          "base_uri": "https://localhost:8080/",
          "height": 69
        },
        "outputId": "2756a952-87a4-4265-d8d8-b5e07166a75c"
      },
      "source": [
        "data.hsc_b.value_counts()"
      ],
      "execution_count": 45,
      "outputs": [
        {
          "output_type": "execute_result",
          "data": {
            "text/plain": [
              "1    131\n",
              "0     84\n",
              "Name: hsc_b, dtype: int64"
            ]
          },
          "metadata": {
            "tags": []
          },
          "execution_count": 45
        }
      ]
    },
    {
      "cell_type": "code",
      "metadata": {
        "id": "xvloOmVtcwDH",
        "colab_type": "code",
        "colab": {
          "base_uri": "https://localhost:8080/",
          "height": 87
        },
        "outputId": "2a54b4fe-ba0c-463b-c400-3b6e7ddf3a04"
      },
      "source": [
        "data.hsc_s.value_counts()"
      ],
      "execution_count": 46,
      "outputs": [
        {
          "output_type": "execute_result",
          "data": {
            "text/plain": [
              "1    113\n",
              "2     91\n",
              "0     11\n",
              "Name: hsc_s, dtype: int64"
            ]
          },
          "metadata": {
            "tags": []
          },
          "execution_count": 46
        }
      ]
    },
    {
      "cell_type": "code",
      "metadata": {
        "id": "497ZdKLJc-Fp",
        "colab_type": "code",
        "colab": {
          "base_uri": "https://localhost:8080/",
          "height": 87
        },
        "outputId": "7e4a780d-5494-4dc4-db1c-9b8fe8305888"
      },
      "source": [
        "data.degree_t.value_counts()"
      ],
      "execution_count": 47,
      "outputs": [
        {
          "output_type": "execute_result",
          "data": {
            "text/plain": [
              "0    145\n",
              "2     59\n",
              "1     11\n",
              "Name: degree_t, dtype: int64"
            ]
          },
          "metadata": {
            "tags": []
          },
          "execution_count": 47
        }
      ]
    },
    {
      "cell_type": "code",
      "metadata": {
        "id": "Fj9H1I7gdG5a",
        "colab_type": "code",
        "colab": {
          "base_uri": "https://localhost:8080/",
          "height": 69
        },
        "outputId": "80293b41-c40f-4ae0-e40c-c7276ac33516"
      },
      "source": [
        "data.specialisation.value_counts()"
      ],
      "execution_count": 48,
      "outputs": [
        {
          "output_type": "execute_result",
          "data": {
            "text/plain": [
              "0    120\n",
              "1     95\n",
              "Name: specialisation, dtype: int64"
            ]
          },
          "metadata": {
            "tags": []
          },
          "execution_count": 48
        }
      ]
    },
    {
      "cell_type": "markdown",
      "metadata": {
        "id": "xHv5lPvcyUod",
        "colab_type": "text"
      },
      "source": [
        "# REGRESSION"
      ]
    },
    {
      "cell_type": "markdown",
      "metadata": {
        "id": "RpZkzMwwTHWr",
        "colab_type": "text"
      },
      "source": [
        "# LINEAR REGRESSION"
      ]
    },
    {
      "cell_type": "code",
      "metadata": {
        "id": "q0wwLjNEypVC",
        "colab_type": "code",
        "colab": {}
      },
      "source": [
        "from sklearn.linear_model import LinearRegression"
      ],
      "execution_count": 49,
      "outputs": []
    },
    {
      "cell_type": "code",
      "metadata": {
        "id": "m56dW3d6ycTv",
        "colab_type": "code",
        "colab": {}
      },
      "source": [
        "l_r = LinearRegression()"
      ],
      "execution_count": 50,
      "outputs": []
    },
    {
      "cell_type": "code",
      "metadata": {
        "id": "rJJGBlpozGNB",
        "colab_type": "code",
        "colab": {
          "base_uri": "https://localhost:8080/",
          "height": 0
        },
        "outputId": "cf676405-a412-4086-8490-e99f83df6c6c"
      },
      "source": [
        "l_r.fit(x_train,y_train)"
      ],
      "execution_count": 51,
      "outputs": [
        {
          "output_type": "execute_result",
          "data": {
            "text/plain": [
              "LinearRegression(copy_X=True, fit_intercept=True, n_jobs=None, normalize=False)"
            ]
          },
          "metadata": {
            "tags": []
          },
          "execution_count": 51
        }
      ]
    },
    {
      "cell_type": "code",
      "metadata": {
        "id": "4iOz2c03Fb3k",
        "colab_type": "code",
        "colab": {
          "base_uri": "https://localhost:8080/",
          "height": 0
        },
        "outputId": "a6270811-a14a-4121-a8d3-e4932dbfd54b"
      },
      "source": [
        "l_pred = l_r.predict(x_test)\n",
        "l_pred"
      ],
      "execution_count": 52,
      "outputs": [
        {
          "output_type": "execute_result",
          "data": {
            "text/plain": [
              "array([[ 1.06630498],\n",
              "       [ 0.76845886],\n",
              "       [ 0.38477751],\n",
              "       [ 0.82087747],\n",
              "       [ 0.35350788],\n",
              "       [ 0.88660116],\n",
              "       [ 0.87140312],\n",
              "       [ 0.91835298],\n",
              "       [ 0.68366517],\n",
              "       [ 0.20843376],\n",
              "       [ 0.31933925],\n",
              "       [ 0.88657001],\n",
              "       [ 0.86619329],\n",
              "       [ 0.95761817],\n",
              "       [ 0.26028643],\n",
              "       [ 0.45163256],\n",
              "       [ 0.66497718],\n",
              "       [ 0.86613503],\n",
              "       [ 1.20352236],\n",
              "       [ 1.20278196],\n",
              "       [ 0.29875105],\n",
              "       [ 0.44023433],\n",
              "       [ 0.74634552],\n",
              "       [ 0.70943295],\n",
              "       [ 1.07419381],\n",
              "       [ 0.34096055],\n",
              "       [ 1.16535784],\n",
              "       [ 0.62990452],\n",
              "       [ 0.82200471],\n",
              "       [ 0.66570217],\n",
              "       [ 0.04798498],\n",
              "       [ 1.36347467],\n",
              "       [ 1.34877766],\n",
              "       [ 0.27223472],\n",
              "       [ 0.5481742 ],\n",
              "       [ 0.78546846],\n",
              "       [ 0.62878796],\n",
              "       [ 0.82234673],\n",
              "       [ 1.17576761],\n",
              "       [ 0.83169759],\n",
              "       [ 0.09398786],\n",
              "       [ 1.07236363],\n",
              "       [ 0.58089629],\n",
              "       [ 1.08350606],\n",
              "       [ 1.03849138],\n",
              "       [ 0.84168086],\n",
              "       [ 0.46872304],\n",
              "       [ 0.65617019],\n",
              "       [ 0.31901365],\n",
              "       [ 0.72227984],\n",
              "       [ 0.31554995],\n",
              "       [ 0.29717738],\n",
              "       [-0.13158837],\n",
              "       [ 0.61462992]])"
            ]
          },
          "metadata": {
            "tags": []
          },
          "execution_count": 52
        }
      ]
    },
    {
      "cell_type": "code",
      "metadata": {
        "id": "3a4twEg6Fr2f",
        "colab_type": "code",
        "colab": {}
      },
      "source": [
        "from sklearn.metrics import accuracy_score\n",
        "from sklearn.metrics import confusion_matrix\n",
        "from sklearn.metrics import r2_score"
      ],
      "execution_count": 53,
      "outputs": []
    },
    {
      "cell_type": "code",
      "metadata": {
        "id": "aSKet-tzGBP7",
        "colab_type": "code",
        "colab": {
          "base_uri": "https://localhost:8080/",
          "height": 0
        },
        "outputId": "078ff54e-3c7f-4677-bd32-f74ee1e7e388"
      },
      "source": [
        "l_cmat=confusion_matrix(y_test,l_pred.round(),normalize=None)\n",
        "l_cmat"
      ],
      "execution_count": 54,
      "outputs": [
        {
          "output_type": "execute_result",
          "data": {
            "text/plain": [
              "array([[11,  3],\n",
              "       [ 6, 34]])"
            ]
          },
          "metadata": {
            "tags": []
          },
          "execution_count": 54
        }
      ]
    },
    {
      "cell_type": "code",
      "metadata": {
        "id": "TW_4-MiWH6Dr",
        "colab_type": "code",
        "colab": {
          "base_uri": "https://localhost:8080/",
          "height": 0
        },
        "outputId": "0816327f-c2d9-4030-a7a3-b72294303d9f"
      },
      "source": [
        "l_a=accuracy_score(y_test,l_pred.round(),normalize=None)\n",
        "l_a"
      ],
      "execution_count": 55,
      "outputs": [
        {
          "output_type": "execute_result",
          "data": {
            "text/plain": [
              "45"
            ]
          },
          "metadata": {
            "tags": []
          },
          "execution_count": 55
        }
      ]
    },
    {
      "cell_type": "code",
      "metadata": {
        "id": "1-G2uzZRIY2o",
        "colab_type": "code",
        "colab": {
          "base_uri": "https://localhost:8080/",
          "height": 0
        },
        "outputId": "b3c64a28-ee6b-438c-eb44-cc879c6eefb1"
      },
      "source": [
        "l_r2=r2_score(y_test,l_pred.round())\n",
        "l_r2"
      ],
      "execution_count": 56,
      "outputs": [
        {
          "output_type": "execute_result",
          "data": {
            "text/plain": [
              "0.132142857142857"
            ]
          },
          "metadata": {
            "tags": []
          },
          "execution_count": 56
        }
      ]
    },
    {
      "cell_type": "markdown",
      "metadata": {
        "id": "F1QR87uvTmCc",
        "colab_type": "text"
      },
      "source": [
        "# MULTIPLE REGRESSION"
      ]
    },
    {
      "cell_type": "code",
      "metadata": {
        "id": "hUbjnEqBIwNy",
        "colab_type": "code",
        "colab": {}
      },
      "source": [
        "from sklearn.linear_model import  LinearRegression"
      ],
      "execution_count": 57,
      "outputs": []
    },
    {
      "cell_type": "code",
      "metadata": {
        "id": "wY_ubDa2W3rp",
        "colab_type": "code",
        "colab": {}
      },
      "source": [
        "m_r = LinearRegression()"
      ],
      "execution_count": 58,
      "outputs": []
    },
    {
      "cell_type": "code",
      "metadata": {
        "id": "4aAISlsRW9L-",
        "colab_type": "code",
        "colab": {
          "base_uri": "https://localhost:8080/",
          "height": 0
        },
        "outputId": "83d7b41b-07b2-4777-dfb0-565b3ce04bc5"
      },
      "source": [
        "m_r.fit(x_train,y_train)"
      ],
      "execution_count": 59,
      "outputs": [
        {
          "output_type": "execute_result",
          "data": {
            "text/plain": [
              "LinearRegression(copy_X=True, fit_intercept=True, n_jobs=None, normalize=False)"
            ]
          },
          "metadata": {
            "tags": []
          },
          "execution_count": 59
        }
      ]
    },
    {
      "cell_type": "code",
      "metadata": {
        "id": "2OhWVNazXDtn",
        "colab_type": "code",
        "colab": {
          "base_uri": "https://localhost:8080/",
          "height": 0
        },
        "outputId": "87dd0022-4682-4f5e-a82e-1a9fef8c2bd5"
      },
      "source": [
        "m_pred = m_r.predict(x_test)\n",
        "m_pred"
      ],
      "execution_count": 60,
      "outputs": [
        {
          "output_type": "execute_result",
          "data": {
            "text/plain": [
              "array([[ 1.06630498],\n",
              "       [ 0.76845886],\n",
              "       [ 0.38477751],\n",
              "       [ 0.82087747],\n",
              "       [ 0.35350788],\n",
              "       [ 0.88660116],\n",
              "       [ 0.87140312],\n",
              "       [ 0.91835298],\n",
              "       [ 0.68366517],\n",
              "       [ 0.20843376],\n",
              "       [ 0.31933925],\n",
              "       [ 0.88657001],\n",
              "       [ 0.86619329],\n",
              "       [ 0.95761817],\n",
              "       [ 0.26028643],\n",
              "       [ 0.45163256],\n",
              "       [ 0.66497718],\n",
              "       [ 0.86613503],\n",
              "       [ 1.20352236],\n",
              "       [ 1.20278196],\n",
              "       [ 0.29875105],\n",
              "       [ 0.44023433],\n",
              "       [ 0.74634552],\n",
              "       [ 0.70943295],\n",
              "       [ 1.07419381],\n",
              "       [ 0.34096055],\n",
              "       [ 1.16535784],\n",
              "       [ 0.62990452],\n",
              "       [ 0.82200471],\n",
              "       [ 0.66570217],\n",
              "       [ 0.04798498],\n",
              "       [ 1.36347467],\n",
              "       [ 1.34877766],\n",
              "       [ 0.27223472],\n",
              "       [ 0.5481742 ],\n",
              "       [ 0.78546846],\n",
              "       [ 0.62878796],\n",
              "       [ 0.82234673],\n",
              "       [ 1.17576761],\n",
              "       [ 0.83169759],\n",
              "       [ 0.09398786],\n",
              "       [ 1.07236363],\n",
              "       [ 0.58089629],\n",
              "       [ 1.08350606],\n",
              "       [ 1.03849138],\n",
              "       [ 0.84168086],\n",
              "       [ 0.46872304],\n",
              "       [ 0.65617019],\n",
              "       [ 0.31901365],\n",
              "       [ 0.72227984],\n",
              "       [ 0.31554995],\n",
              "       [ 0.29717738],\n",
              "       [-0.13158837],\n",
              "       [ 0.61462992]])"
            ]
          },
          "metadata": {
            "tags": []
          },
          "execution_count": 60
        }
      ]
    },
    {
      "cell_type": "code",
      "metadata": {
        "id": "qizHbR6NZnb0",
        "colab_type": "code",
        "colab": {
          "base_uri": "https://localhost:8080/",
          "height": 0
        },
        "outputId": "eb5fd7aa-7889-48dd-f3f8-138abec416ba"
      },
      "source": [
        "m_r2 = r2_score(y_test,m_pred)\n",
        "m_r2"
      ],
      "execution_count": 61,
      "outputs": [
        {
          "output_type": "execute_result",
          "data": {
            "text/plain": [
              "0.32362079765053753"
            ]
          },
          "metadata": {
            "tags": []
          },
          "execution_count": 61
        }
      ]
    },
    {
      "cell_type": "code",
      "metadata": {
        "id": "KH78AY7QXMEH",
        "colab_type": "code",
        "colab": {
          "base_uri": "https://localhost:8080/",
          "height": 0
        },
        "outputId": "3471be60-5025-44d6-cd9e-b2214c4cbadd"
      },
      "source": [
        "m_r.coef_"
      ],
      "execution_count": 62,
      "outputs": [
        {
          "output_type": "execute_result",
          "data": {
            "text/plain": [
              "array([[ 0.05076562,  0.22940096,  0.04201609,  0.12108769, -0.04268658,\n",
              "         0.04173149,  0.10605924, -0.08780107,  0.06369862, -0.04009679,\n",
              "        -0.04932595, -0.10731927]])"
            ]
          },
          "metadata": {
            "tags": []
          },
          "execution_count": 62
        }
      ]
    },
    {
      "cell_type": "code",
      "metadata": {
        "id": "LGXLIaAEYc8p",
        "colab_type": "code",
        "colab": {
          "base_uri": "https://localhost:8080/",
          "height": 0
        },
        "outputId": "db3a858c-8b02-4140-aaa2-b9d18047f455"
      },
      "source": [
        "m_r.intercept_"
      ],
      "execution_count": 63,
      "outputs": [
        {
          "output_type": "execute_result",
          "data": {
            "text/plain": [
              "array([0.67080745])"
            ]
          },
          "metadata": {
            "tags": []
          },
          "execution_count": 63
        }
      ]
    },
    {
      "cell_type": "code",
      "metadata": {
        "id": "wPbNsZoTYhN-",
        "colab_type": "code",
        "colab": {}
      },
      "source": [
        "from sklearn.metrics import mean_squared_error\n",
        "mmse = np.sqrt(mean_squared_error(m_pred,y_test))"
      ],
      "execution_count": 64,
      "outputs": []
    },
    {
      "cell_type": "code",
      "metadata": {
        "id": "S0WyN912ZCkt",
        "colab_type": "code",
        "colab": {
          "base_uri": "https://localhost:8080/",
          "height": 0
        },
        "outputId": "c88c0c45-343f-492c-f487-7581e8cf99dd"
      },
      "source": [
        "mmse"
      ],
      "execution_count": 65,
      "outputs": [
        {
          "output_type": "execute_result",
          "data": {
            "text/plain": [
              "0.36040879154349803"
            ]
          },
          "metadata": {
            "tags": []
          },
          "execution_count": 65
        }
      ]
    },
    {
      "cell_type": "markdown",
      "metadata": {
        "id": "qtxzdc-MT_4P",
        "colab_type": "text"
      },
      "source": [
        "# POLYNOMIAL REGRESSION"
      ]
    },
    {
      "cell_type": "code",
      "metadata": {
        "id": "3gfTWnVzJlFd",
        "colab_type": "code",
        "colab": {}
      },
      "source": [
        "from sklearn.preprocessing import PolynomialFeatures"
      ],
      "execution_count": 66,
      "outputs": []
    },
    {
      "cell_type": "code",
      "metadata": {
        "id": "8sHarchrJvNR",
        "colab_type": "code",
        "colab": {}
      },
      "source": [
        "p_r = PolynomialFeatures(degree=5)\n",
        "p_r = p_r.fit_transform(x_test)"
      ],
      "execution_count": 67,
      "outputs": []
    },
    {
      "cell_type": "code",
      "metadata": {
        "id": "7-19T596KAWt",
        "colab_type": "code",
        "colab": {}
      },
      "source": [
        "p_l_r = LinearRegression()"
      ],
      "execution_count": 68,
      "outputs": []
    },
    {
      "cell_type": "code",
      "metadata": {
        "id": "SKwJ5sSzKlwi",
        "colab_type": "code",
        "colab": {
          "base_uri": "https://localhost:8080/",
          "height": 0
        },
        "outputId": "7fd16984-a234-4cbe-88f6-d507211f0e9a"
      },
      "source": [
        "p_l_r.fit(p_r,y_test)"
      ],
      "execution_count": 69,
      "outputs": [
        {
          "output_type": "execute_result",
          "data": {
            "text/plain": [
              "LinearRegression(copy_X=True, fit_intercept=True, n_jobs=None, normalize=False)"
            ]
          },
          "metadata": {
            "tags": []
          },
          "execution_count": 69
        }
      ]
    },
    {
      "cell_type": "code",
      "metadata": {
        "id": "EdsXGugSKnAH",
        "colab_type": "code",
        "colab": {
          "base_uri": "https://localhost:8080/",
          "height": 0
        },
        "outputId": "4dd780a1-2e50-4694-9d15-6f3f8d0ab52e"
      },
      "source": [
        "p_pred = p_l_r.predict(p_r)\n",
        "p_pred"
      ],
      "execution_count": 70,
      "outputs": [
        {
          "output_type": "execute_result",
          "data": {
            "text/plain": [
              "array([[ 1.00000000e+00],\n",
              "       [-9.99200722e-16],\n",
              "       [ 1.11022302e-15],\n",
              "       [ 1.00000000e+00],\n",
              "       [ 1.00000000e+00],\n",
              "       [ 1.00000000e+00],\n",
              "       [ 1.00000000e+00],\n",
              "       [ 1.00000000e+00],\n",
              "       [ 1.00000000e+00],\n",
              "       [ 1.00000000e+00],\n",
              "       [-6.66133815e-16],\n",
              "       [ 1.00000000e+00],\n",
              "       [ 1.00000000e+00],\n",
              "       [ 1.00000000e+00],\n",
              "       [ 1.00000000e+00],\n",
              "       [ 1.00000000e+00],\n",
              "       [ 1.00000000e+00],\n",
              "       [ 1.00000000e+00],\n",
              "       [ 1.00000000e+00],\n",
              "       [ 1.00000000e+00],\n",
              "       [ 1.44328993e-15],\n",
              "       [ 2.22044605e-16],\n",
              "       [ 1.00000000e+00],\n",
              "       [ 1.00000000e+00],\n",
              "       [ 1.00000000e+00],\n",
              "       [ 1.00000000e+00],\n",
              "       [ 1.00000000e+00],\n",
              "       [ 1.00000000e+00],\n",
              "       [ 1.00000000e+00],\n",
              "       [ 1.00000000e+00],\n",
              "       [-8.88178420e-16],\n",
              "       [ 1.00000000e+00],\n",
              "       [ 1.00000000e+00],\n",
              "       [ 7.77156117e-16],\n",
              "       [ 1.00000000e+00],\n",
              "       [ 1.00000000e+00],\n",
              "       [ 1.11022302e-16],\n",
              "       [ 1.00000000e+00],\n",
              "       [ 1.00000000e+00],\n",
              "       [ 1.00000000e+00],\n",
              "       [-1.33226763e-15],\n",
              "       [ 1.00000000e+00],\n",
              "       [ 4.44089210e-16],\n",
              "       [ 1.00000000e+00],\n",
              "       [ 1.00000000e+00],\n",
              "       [ 1.00000000e+00],\n",
              "       [ 2.22044605e-16],\n",
              "       [ 1.00000000e+00],\n",
              "       [ 1.00000000e+00],\n",
              "       [ 1.00000000e+00],\n",
              "       [ 4.44089210e-16],\n",
              "       [-2.22044605e-16],\n",
              "       [ 0.00000000e+00],\n",
              "       [ 1.00000000e+00]])"
            ]
          },
          "metadata": {
            "tags": []
          },
          "execution_count": 70
        }
      ]
    },
    {
      "cell_type": "markdown",
      "metadata": {
        "id": "RlaSxh_Rea00",
        "colab_type": "text"
      },
      "source": [
        "# DECISION TREE REGRESSION"
      ]
    },
    {
      "cell_type": "code",
      "metadata": {
        "id": "4nz3pXbWehfx",
        "colab_type": "code",
        "colab": {}
      },
      "source": [
        "from sklearn.tree import DecisionTreeRegressor"
      ],
      "execution_count": 71,
      "outputs": []
    },
    {
      "cell_type": "code",
      "metadata": {
        "id": "2q-0bONNgBmE",
        "colab_type": "code",
        "colab": {}
      },
      "source": [
        "d_r = DecisionTreeRegressor()"
      ],
      "execution_count": 72,
      "outputs": []
    },
    {
      "cell_type": "code",
      "metadata": {
        "id": "HxnHu_6FgHg3",
        "colab_type": "code",
        "colab": {
          "base_uri": "https://localhost:8080/",
          "height": 0
        },
        "outputId": "20fa97dc-5d1d-4048-91d0-9f4d0e58b8db"
      },
      "source": [
        "d_r.fit(x_train,y_train)"
      ],
      "execution_count": 73,
      "outputs": [
        {
          "output_type": "execute_result",
          "data": {
            "text/plain": [
              "DecisionTreeRegressor(ccp_alpha=0.0, criterion='mse', max_depth=None,\n",
              "                      max_features=None, max_leaf_nodes=None,\n",
              "                      min_impurity_decrease=0.0, min_impurity_split=None,\n",
              "                      min_samples_leaf=1, min_samples_split=2,\n",
              "                      min_weight_fraction_leaf=0.0, presort='deprecated',\n",
              "                      random_state=None, splitter='best')"
            ]
          },
          "metadata": {
            "tags": []
          },
          "execution_count": 73
        }
      ]
    },
    {
      "cell_type": "code",
      "metadata": {
        "id": "knIIUJiRgSmo",
        "colab_type": "code",
        "colab": {
          "base_uri": "https://localhost:8080/",
          "height": 0
        },
        "outputId": "3c1af989-4c1d-4628-8581-071787d181ec"
      },
      "source": [
        "d_pred = d_r.predict(x_test)\n",
        "d_pred"
      ],
      "execution_count": 74,
      "outputs": [
        {
          "output_type": "execute_result",
          "data": {
            "text/plain": [
              "array([1., 1., 0., 0., 1., 1., 1., 1., 0., 1., 1., 1., 1., 1., 1., 0., 1.,\n",
              "       1., 1., 1., 0., 1., 1., 1., 1., 1., 1., 0., 1., 1., 1., 1., 1., 0.,\n",
              "       1., 1., 0., 1., 1., 1., 0., 1., 1., 1., 1., 1., 1., 1., 0., 1., 0.,\n",
              "       1., 0., 0.])"
            ]
          },
          "metadata": {
            "tags": []
          },
          "execution_count": 74
        }
      ]
    },
    {
      "cell_type": "code",
      "metadata": {
        "id": "5duLnDO8gdXy",
        "colab_type": "code",
        "colab": {
          "base_uri": "https://localhost:8080/",
          "height": 0
        },
        "outputId": "099022dd-963c-4c54-9b8e-7284abccd121"
      },
      "source": [
        "d_r2 = r2_score(y_test,d_pred)\n",
        "d_r2"
      ],
      "execution_count": 75,
      "outputs": [
        {
          "output_type": "execute_result",
          "data": {
            "text/plain": [
              "-0.2535714285714288"
            ]
          },
          "metadata": {
            "tags": []
          },
          "execution_count": 75
        }
      ]
    },
    {
      "cell_type": "code",
      "metadata": {
        "id": "QgM98niygocK",
        "colab_type": "code",
        "colab": {
          "base_uri": "https://localhost:8080/",
          "height": 0
        },
        "outputId": "802d85e3-95ae-4880-ee72-b9c6a11b434e"
      },
      "source": [
        "d_r_a = accuracy_score(y_test,d_pred)\n",
        "d_r_a"
      ],
      "execution_count": 76,
      "outputs": [
        {
          "output_type": "execute_result",
          "data": {
            "text/plain": [
              "0.7592592592592593"
            ]
          },
          "metadata": {
            "tags": []
          },
          "execution_count": 76
        }
      ]
    },
    {
      "cell_type": "code",
      "metadata": {
        "id": "Fw_VSxhsg34c",
        "colab_type": "code",
        "colab": {
          "base_uri": "https://localhost:8080/",
          "height": 0
        },
        "outputId": "cad8b1d9-5703-4dd0-c799-34b105e3bb9a"
      },
      "source": [
        "d_r_cmat = confusion_matrix(y_test,d_pred)\n",
        "d_r_cmat"
      ],
      "execution_count": 77,
      "outputs": [
        {
          "output_type": "execute_result",
          "data": {
            "text/plain": [
              "array([[ 7,  7],\n",
              "       [ 6, 34]])"
            ]
          },
          "metadata": {
            "tags": []
          },
          "execution_count": 77
        }
      ]
    },
    {
      "cell_type": "markdown",
      "metadata": {
        "id": "QN1DeHJ89ILs",
        "colab_type": "text"
      },
      "source": [
        "# CLASSIFICATION"
      ]
    },
    {
      "cell_type": "markdown",
      "metadata": {
        "id": "cBV-9IROB3jX",
        "colab_type": "text"
      },
      "source": [
        "# LOGISTIC CLASSIFICATION"
      ]
    },
    {
      "cell_type": "markdown",
      "metadata": {
        "id": "2rLCXhMT9hs6",
        "colab_type": "text"
      },
      "source": [
        "LOGISTIC CLASSIFICATION"
      ]
    },
    {
      "cell_type": "code",
      "metadata": {
        "id": "mHQI8VAR9d-g",
        "colab_type": "code",
        "colab": {}
      },
      "source": [
        "from sklearn.linear_model import LogisticRegression"
      ],
      "execution_count": 78,
      "outputs": []
    },
    {
      "cell_type": "code",
      "metadata": {
        "id": "Psm2rej2-Y8Z",
        "colab_type": "code",
        "colab": {}
      },
      "source": [
        "l_cla = LogisticRegression()"
      ],
      "execution_count": 79,
      "outputs": []
    },
    {
      "cell_type": "code",
      "metadata": {
        "id": "yE_j7wqg-pGK",
        "colab_type": "code",
        "colab": {
          "base_uri": "https://localhost:8080/",
          "height": 0
        },
        "outputId": "c8a4eca1-c387-4d09-fd5d-b1d434e30a9c"
      },
      "source": [
        "l_cla.fit(x_train,y_train)"
      ],
      "execution_count": 80,
      "outputs": [
        {
          "output_type": "stream",
          "text": [
            "/usr/local/lib/python3.6/dist-packages/sklearn/utils/validation.py:760: DataConversionWarning: A column-vector y was passed when a 1d array was expected. Please change the shape of y to (n_samples, ), for example using ravel().\n",
            "  y = column_or_1d(y, warn=True)\n"
          ],
          "name": "stderr"
        },
        {
          "output_type": "execute_result",
          "data": {
            "text/plain": [
              "LogisticRegression(C=1.0, class_weight=None, dual=False, fit_intercept=True,\n",
              "                   intercept_scaling=1, l1_ratio=None, max_iter=100,\n",
              "                   multi_class='auto', n_jobs=None, penalty='l2',\n",
              "                   random_state=None, solver='lbfgs', tol=0.0001, verbose=0,\n",
              "                   warm_start=False)"
            ]
          },
          "metadata": {
            "tags": []
          },
          "execution_count": 80
        }
      ]
    },
    {
      "cell_type": "code",
      "metadata": {
        "id": "eGsrKcTb-yOn",
        "colab_type": "code",
        "colab": {
          "base_uri": "https://localhost:8080/",
          "height": 0
        },
        "outputId": "acf566b7-dc7b-428b-d745-89e87377313f"
      },
      "source": [
        "l_cla_pred = l_cla.predict(x_test)\n",
        "l_cla_pred"
      ],
      "execution_count": 81,
      "outputs": [
        {
          "output_type": "execute_result",
          "data": {
            "text/plain": [
              "array([1., 1., 0., 1., 0., 1., 1., 1., 1., 0., 0., 1., 1., 1., 0., 0., 1.,\n",
              "       1., 1., 1., 0., 1., 1., 1., 1., 0., 1., 1., 1., 1., 0., 1., 1., 0.,\n",
              "       1., 1., 1., 1., 1., 1., 0., 1., 1., 1., 1., 1., 1., 1., 0., 1., 0.,\n",
              "       0., 0., 1.])"
            ]
          },
          "metadata": {
            "tags": []
          },
          "execution_count": 81
        }
      ]
    },
    {
      "cell_type": "code",
      "metadata": {
        "id": "TzinCSgp_HP0",
        "colab_type": "code",
        "colab": {
          "base_uri": "https://localhost:8080/",
          "height": 0
        },
        "outputId": "93e17522-37df-4d60-fb72-4ef8f560900f"
      },
      "source": [
        "l_cla_a = accuracy_score(y_test,l_cla_pred)\n",
        "l_cla_a"
      ],
      "execution_count": 82,
      "outputs": [
        {
          "output_type": "execute_result",
          "data": {
            "text/plain": [
              "0.7962962962962963"
            ]
          },
          "metadata": {
            "tags": []
          },
          "execution_count": 82
        }
      ]
    },
    {
      "cell_type": "code",
      "metadata": {
        "id": "J65PMxug_on_",
        "colab_type": "code",
        "colab": {
          "base_uri": "https://localhost:8080/",
          "height": 0
        },
        "outputId": "bc34529f-9717-487e-a855-8a97fa9a8fe1"
      },
      "source": [
        "l_cla_r2 = r2_score(y_test,l_cla_pred)\n",
        "l_cla_r2"
      ],
      "execution_count": 83,
      "outputs": [
        {
          "output_type": "execute_result",
          "data": {
            "text/plain": [
              "-0.06071428571428594"
            ]
          },
          "metadata": {
            "tags": []
          },
          "execution_count": 83
        }
      ]
    },
    {
      "cell_type": "code",
      "metadata": {
        "id": "4R1V6fKkAFvE",
        "colab_type": "code",
        "colab": {
          "base_uri": "https://localhost:8080/",
          "height": 0
        },
        "outputId": "b878d6f7-3667-47a1-94fc-fe86e65cf75b"
      },
      "source": [
        "l_cla_cmat = confusion_matrix(y_test,l_cla_pred)\n",
        "l_cla_cmat"
      ],
      "execution_count": 84,
      "outputs": [
        {
          "output_type": "execute_result",
          "data": {
            "text/plain": [
              "array([[ 9,  5],\n",
              "       [ 6, 34]])"
            ]
          },
          "metadata": {
            "tags": []
          },
          "execution_count": 84
        }
      ]
    },
    {
      "cell_type": "markdown",
      "metadata": {
        "id": "huuXjphMCltI",
        "colab_type": "text"
      },
      "source": [
        "# K-NEAREST NEIGHBORS CLASSIFICATION"
      ]
    },
    {
      "cell_type": "code",
      "metadata": {
        "id": "EWPMXU3zC8ZW",
        "colab_type": "code",
        "colab": {}
      },
      "source": [
        "from sklearn.neighbors import KNeighborsClassifier"
      ],
      "execution_count": 85,
      "outputs": []
    },
    {
      "cell_type": "code",
      "metadata": {
        "id": "DRKtQ84HDYHC",
        "colab_type": "code",
        "colab": {}
      },
      "source": [
        "k_cla = KNeighborsClassifier()"
      ],
      "execution_count": 86,
      "outputs": []
    },
    {
      "cell_type": "code",
      "metadata": {
        "id": "9Zk5iN5CDhFi",
        "colab_type": "code",
        "colab": {
          "base_uri": "https://localhost:8080/",
          "height": 0
        },
        "outputId": "a4ab8fad-e51d-413c-c4cf-8fcea7b28f4b"
      },
      "source": [
        "k_cla.fit(x_train,y_train)"
      ],
      "execution_count": 87,
      "outputs": [
        {
          "output_type": "stream",
          "text": [
            "/usr/local/lib/python3.6/dist-packages/ipykernel_launcher.py:1: DataConversionWarning: A column-vector y was passed when a 1d array was expected. Please change the shape of y to (n_samples, ), for example using ravel().\n",
            "  \"\"\"Entry point for launching an IPython kernel.\n"
          ],
          "name": "stderr"
        },
        {
          "output_type": "execute_result",
          "data": {
            "text/plain": [
              "KNeighborsClassifier(algorithm='auto', leaf_size=30, metric='minkowski',\n",
              "                     metric_params=None, n_jobs=None, n_neighbors=5, p=2,\n",
              "                     weights='uniform')"
            ]
          },
          "metadata": {
            "tags": []
          },
          "execution_count": 87
        }
      ]
    },
    {
      "cell_type": "code",
      "metadata": {
        "id": "r0STnJj7DxKL",
        "colab_type": "code",
        "colab": {
          "base_uri": "https://localhost:8080/",
          "height": 0
        },
        "outputId": "968f63c6-d672-4b02-c8d7-246474cc14cf"
      },
      "source": [
        "k_cla_pred = k_cla.predict(x_test)\n",
        "k_cla_pred"
      ],
      "execution_count": 88,
      "outputs": [
        {
          "output_type": "execute_result",
          "data": {
            "text/plain": [
              "array([1., 1., 1., 1., 1., 1., 1., 1., 1., 0., 1., 1., 1., 1., 0., 1., 1.,\n",
              "       1., 1., 1., 0., 1., 1., 1., 1., 1., 1., 1., 1., 0., 1., 1., 1., 0.,\n",
              "       1., 1., 1., 1., 1., 1., 0., 1., 1., 1., 1., 1., 0., 1., 1., 1., 0.,\n",
              "       0., 0., 1.])"
            ]
          },
          "metadata": {
            "tags": []
          },
          "execution_count": 88
        }
      ]
    },
    {
      "cell_type": "code",
      "metadata": {
        "id": "Hdl5AserEOEr",
        "colab_type": "code",
        "colab": {
          "base_uri": "https://localhost:8080/",
          "height": 0
        },
        "outputId": "fd3c6657-798e-4928-9a32-11101dc767a9"
      },
      "source": [
        "k_cla_a = accuracy_score(y_test,k_cla_pred)\n",
        "k_cla_a"
      ],
      "execution_count": 89,
      "outputs": [
        {
          "output_type": "execute_result",
          "data": {
            "text/plain": [
              "0.8148148148148148"
            ]
          },
          "metadata": {
            "tags": []
          },
          "execution_count": 89
        }
      ]
    },
    {
      "cell_type": "code",
      "metadata": {
        "id": "Nr2xoNGCEeoT",
        "colab_type": "code",
        "colab": {
          "base_uri": "https://localhost:8080/",
          "height": 0
        },
        "outputId": "0254dc81-62b9-41f6-d73e-e5ad8ba63da0"
      },
      "source": [
        "k_cla_r2 = r2_score(y_test,k_cla_pred)\n",
        "k_cla_r2"
      ],
      "execution_count": 90,
      "outputs": [
        {
          "output_type": "execute_result",
          "data": {
            "text/plain": [
              "0.03571428571428559"
            ]
          },
          "metadata": {
            "tags": []
          },
          "execution_count": 90
        }
      ]
    },
    {
      "cell_type": "code",
      "metadata": {
        "id": "D7bTmELwE4Pd",
        "colab_type": "code",
        "colab": {
          "base_uri": "https://localhost:8080/",
          "height": 0
        },
        "outputId": "c2b72668-4e5c-4f62-fb74-753508de4ad3"
      },
      "source": [
        "k_cla_cmat = confusion_matrix(y_test,k_cla_pred)\n",
        "k_cla_cmat"
      ],
      "execution_count": 91,
      "outputs": [
        {
          "output_type": "execute_result",
          "data": {
            "text/plain": [
              "array([[ 7,  7],\n",
              "       [ 3, 37]])"
            ]
          },
          "metadata": {
            "tags": []
          },
          "execution_count": 91
        }
      ]
    },
    {
      "cell_type": "markdown",
      "metadata": {
        "id": "EIxWjC3uFOSF",
        "colab_type": "text"
      },
      "source": [
        "# DECISION TREE CLASSIFICATION"
      ]
    },
    {
      "cell_type": "code",
      "metadata": {
        "id": "kwxKWtQUFjG2",
        "colab_type": "code",
        "colab": {}
      },
      "source": [
        "from sklearn.tree import DecisionTreeClassifier"
      ],
      "execution_count": 92,
      "outputs": []
    },
    {
      "cell_type": "code",
      "metadata": {
        "id": "22sU_6pWFwj5",
        "colab_type": "code",
        "colab": {}
      },
      "source": [
        "d_cla = DecisionTreeClassifier()"
      ],
      "execution_count": 93,
      "outputs": []
    },
    {
      "cell_type": "code",
      "metadata": {
        "id": "dDpbjG-9GSxJ",
        "colab_type": "code",
        "colab": {
          "base_uri": "https://localhost:8080/",
          "height": 0
        },
        "outputId": "d08c388e-c631-4910-a749-f87ff8c8d971"
      },
      "source": [
        "d_cla.fit(x_train,y_train)"
      ],
      "execution_count": 94,
      "outputs": [
        {
          "output_type": "execute_result",
          "data": {
            "text/plain": [
              "DecisionTreeClassifier(ccp_alpha=0.0, class_weight=None, criterion='gini',\n",
              "                       max_depth=None, max_features=None, max_leaf_nodes=None,\n",
              "                       min_impurity_decrease=0.0, min_impurity_split=None,\n",
              "                       min_samples_leaf=1, min_samples_split=2,\n",
              "                       min_weight_fraction_leaf=0.0, presort='deprecated',\n",
              "                       random_state=None, splitter='best')"
            ]
          },
          "metadata": {
            "tags": []
          },
          "execution_count": 94
        }
      ]
    },
    {
      "cell_type": "code",
      "metadata": {
        "id": "80TwPBxbF135",
        "colab_type": "code",
        "colab": {
          "base_uri": "https://localhost:8080/",
          "height": 0
        },
        "outputId": "9c5c389a-0d49-4923-92ab-7847bb244298"
      },
      "source": [
        "d_cla_pred = d_cla.predict(x_test)\n",
        "d_cla_pred"
      ],
      "execution_count": 95,
      "outputs": [
        {
          "output_type": "execute_result",
          "data": {
            "text/plain": [
              "array([1., 1., 0., 0., 1., 1., 1., 1., 0., 1., 1., 1., 1., 1., 1., 0., 1.,\n",
              "       1., 1., 1., 0., 1., 1., 1., 1., 1., 1., 0., 1., 1., 1., 1., 1., 0.,\n",
              "       1., 1., 0., 1., 1., 1., 0., 1., 1., 1., 1., 1., 1., 1., 0., 1., 0.,\n",
              "       0., 0., 0.])"
            ]
          },
          "metadata": {
            "tags": []
          },
          "execution_count": 95
        }
      ]
    },
    {
      "cell_type": "code",
      "metadata": {
        "id": "0jPjNx8jGcU2",
        "colab_type": "code",
        "colab": {
          "base_uri": "https://localhost:8080/",
          "height": 0
        },
        "outputId": "66dd5f76-7a92-4f79-a80a-2c7c6e05f56c"
      },
      "source": [
        "d_cla_a = accuracy_score(y_test,d_cla_pred)\n",
        "d_cla_a"
      ],
      "execution_count": 96,
      "outputs": [
        {
          "output_type": "execute_result",
          "data": {
            "text/plain": [
              "0.7777777777777778"
            ]
          },
          "metadata": {
            "tags": []
          },
          "execution_count": 96
        }
      ]
    },
    {
      "cell_type": "code",
      "metadata": {
        "id": "-ObKYX25G06g",
        "colab_type": "code",
        "colab": {
          "base_uri": "https://localhost:8080/",
          "height": 0
        },
        "outputId": "61dc6abb-ee4c-4a7d-ebb8-483e6a2fd11a"
      },
      "source": [
        "d_cla_r2 = r2_score(y_test,d_cla_pred)\n",
        "d_cla_r2"
      ],
      "execution_count": 97,
      "outputs": [
        {
          "output_type": "execute_result",
          "data": {
            "text/plain": [
              "-0.15714285714285725"
            ]
          },
          "metadata": {
            "tags": []
          },
          "execution_count": 97
        }
      ]
    },
    {
      "cell_type": "code",
      "metadata": {
        "id": "zkIAs8mhHEFW",
        "colab_type": "code",
        "colab": {
          "base_uri": "https://localhost:8080/",
          "height": 0
        },
        "outputId": "ea60a565-4678-4d06-e6ea-7763b8441b3f"
      },
      "source": [
        "d_cla_cmat = confusion_matrix(y_test,d_cla_pred)\n",
        "d_cla_cmat"
      ],
      "execution_count": 98,
      "outputs": [
        {
          "output_type": "execute_result",
          "data": {
            "text/plain": [
              "array([[ 8,  6],\n",
              "       [ 6, 34]])"
            ]
          },
          "metadata": {
            "tags": []
          },
          "execution_count": 98
        }
      ]
    },
    {
      "cell_type": "markdown",
      "metadata": {
        "id": "znG5w_RSHypw",
        "colab_type": "text"
      },
      "source": [
        "# RANDOM FOREST CLASSIFICATION"
      ]
    },
    {
      "cell_type": "code",
      "metadata": {
        "id": "MOie5f5XH_yD",
        "colab_type": "code",
        "colab": {}
      },
      "source": [
        "from sklearn.ensemble import RandomForestClassifier"
      ],
      "execution_count": 99,
      "outputs": []
    },
    {
      "cell_type": "code",
      "metadata": {
        "id": "idgYTz8AIfA-",
        "colab_type": "code",
        "colab": {}
      },
      "source": [
        "r_cla = RandomForestClassifier()"
      ],
      "execution_count": 100,
      "outputs": []
    },
    {
      "cell_type": "code",
      "metadata": {
        "id": "_RdPShi3Ij0t",
        "colab_type": "code",
        "colab": {
          "base_uri": "https://localhost:8080/",
          "height": 0
        },
        "outputId": "34e4e4a7-b05d-4b6f-e782-ce2950287ca6"
      },
      "source": [
        "r_cla.fit(x_train,y_train)"
      ],
      "execution_count": 101,
      "outputs": [
        {
          "output_type": "stream",
          "text": [
            "/usr/local/lib/python3.6/dist-packages/ipykernel_launcher.py:1: DataConversionWarning: A column-vector y was passed when a 1d array was expected. Please change the shape of y to (n_samples,), for example using ravel().\n",
            "  \"\"\"Entry point for launching an IPython kernel.\n"
          ],
          "name": "stderr"
        },
        {
          "output_type": "execute_result",
          "data": {
            "text/plain": [
              "RandomForestClassifier(bootstrap=True, ccp_alpha=0.0, class_weight=None,\n",
              "                       criterion='gini', max_depth=None, max_features='auto',\n",
              "                       max_leaf_nodes=None, max_samples=None,\n",
              "                       min_impurity_decrease=0.0, min_impurity_split=None,\n",
              "                       min_samples_leaf=1, min_samples_split=2,\n",
              "                       min_weight_fraction_leaf=0.0, n_estimators=100,\n",
              "                       n_jobs=None, oob_score=False, random_state=None,\n",
              "                       verbose=0, warm_start=False)"
            ]
          },
          "metadata": {
            "tags": []
          },
          "execution_count": 101
        }
      ]
    },
    {
      "cell_type": "code",
      "metadata": {
        "id": "vcBgOfBKIt35",
        "colab_type": "code",
        "colab": {
          "base_uri": "https://localhost:8080/",
          "height": 0
        },
        "outputId": "39684bc5-bcbf-439f-9429-de3423aa64c1"
      },
      "source": [
        "r_cla_pred = r_cla.predict(x_test)\n",
        "r_cla_pred"
      ],
      "execution_count": 102,
      "outputs": [
        {
          "output_type": "execute_result",
          "data": {
            "text/plain": [
              "array([1., 1., 1., 1., 1., 1., 1., 1., 1., 0., 0., 0., 1., 1., 0., 1., 1.,\n",
              "       1., 1., 1., 0., 1., 1., 1., 1., 1., 1., 0., 1., 1., 0., 1., 1., 0.,\n",
              "       1., 1., 1., 1., 1., 1., 0., 1., 1., 1., 1., 1., 1., 1., 0., 1., 0.,\n",
              "       0., 0., 1.])"
            ]
          },
          "metadata": {
            "tags": []
          },
          "execution_count": 102
        }
      ]
    },
    {
      "cell_type": "code",
      "metadata": {
        "id": "kM0mLvF-JKjx",
        "colab_type": "code",
        "colab": {
          "base_uri": "https://localhost:8080/",
          "height": 0
        },
        "outputId": "73009033-3156-4706-8948-72b76de23771"
      },
      "source": [
        "r_cla_a = accuracy_score(y_test,r_cla_pred)\n",
        "r_cla_a"
      ],
      "execution_count": 103,
      "outputs": [
        {
          "output_type": "execute_result",
          "data": {
            "text/plain": [
              "0.7962962962962963"
            ]
          },
          "metadata": {
            "tags": []
          },
          "execution_count": 103
        }
      ]
    },
    {
      "cell_type": "code",
      "metadata": {
        "id": "81veo6XAQgAG",
        "colab_type": "code",
        "colab": {
          "base_uri": "https://localhost:8080/",
          "height": 0
        },
        "outputId": "e05fe1b7-c217-4afc-eb13-15f89123d503"
      },
      "source": [
        "r_cla_r2 = r2_score(y_test,r_cla_pred)\n",
        "r_cla_r2"
      ],
      "execution_count": 104,
      "outputs": [
        {
          "output_type": "execute_result",
          "data": {
            "text/plain": [
              "-0.06071428571428594"
            ]
          },
          "metadata": {
            "tags": []
          },
          "execution_count": 104
        }
      ]
    },
    {
      "cell_type": "code",
      "metadata": {
        "id": "TpfFugWzQq6M",
        "colab_type": "code",
        "colab": {
          "base_uri": "https://localhost:8080/",
          "height": 0
        },
        "outputId": "a6b3a101-277c-483a-a3f8-1ce35b68c907"
      },
      "source": [
        "r_cla_cmat = confusion_matrix(y_test,r_cla_pred)\n",
        "r_cla_cmat"
      ],
      "execution_count": 105,
      "outputs": [
        {
          "output_type": "execute_result",
          "data": {
            "text/plain": [
              "array([[ 8,  6],\n",
              "       [ 5, 35]])"
            ]
          },
          "metadata": {
            "tags": []
          },
          "execution_count": 105
        }
      ]
    },
    {
      "cell_type": "markdown",
      "metadata": {
        "id": "wPKT_OtuQ8Ze",
        "colab_type": "text"
      },
      "source": [
        "# SVM CLASSIFICATION(KERNEL='LINEAR')"
      ]
    },
    {
      "cell_type": "code",
      "metadata": {
        "id": "EfAUtPKqRX5p",
        "colab_type": "code",
        "colab": {}
      },
      "source": [
        "from sklearn.svm import SVC"
      ],
      "execution_count": 106,
      "outputs": []
    },
    {
      "cell_type": "code",
      "metadata": {
        "id": "uRPk11DDR481",
        "colab_type": "code",
        "colab": {}
      },
      "source": [
        "s_lin = SVC(kernel='linear')"
      ],
      "execution_count": 107,
      "outputs": []
    },
    {
      "cell_type": "code",
      "metadata": {
        "id": "sJcWU0qoSH-m",
        "colab_type": "code",
        "colab": {
          "base_uri": "https://localhost:8080/",
          "height": 0
        },
        "outputId": "d661dc4c-589d-4239-c6d6-69eeac010892"
      },
      "source": [
        "s_lin.fit(x_train,y_train)"
      ],
      "execution_count": 108,
      "outputs": [
        {
          "output_type": "stream",
          "text": [
            "/usr/local/lib/python3.6/dist-packages/sklearn/utils/validation.py:760: DataConversionWarning: A column-vector y was passed when a 1d array was expected. Please change the shape of y to (n_samples, ), for example using ravel().\n",
            "  y = column_or_1d(y, warn=True)\n"
          ],
          "name": "stderr"
        },
        {
          "output_type": "execute_result",
          "data": {
            "text/plain": [
              "SVC(C=1.0, break_ties=False, cache_size=200, class_weight=None, coef0=0.0,\n",
              "    decision_function_shape='ovr', degree=3, gamma='scale', kernel='linear',\n",
              "    max_iter=-1, probability=False, random_state=None, shrinking=True,\n",
              "    tol=0.001, verbose=False)"
            ]
          },
          "metadata": {
            "tags": []
          },
          "execution_count": 108
        }
      ]
    },
    {
      "cell_type": "code",
      "metadata": {
        "id": "uzUlra0SSPa2",
        "colab_type": "code",
        "colab": {
          "base_uri": "https://localhost:8080/",
          "height": 0
        },
        "outputId": "75396e2c-7209-4cec-ba6e-d48a94af43eb"
      },
      "source": [
        "s_lin_pred = s_lin.predict(x_test)\n",
        "s_lin_pred"
      ],
      "execution_count": 109,
      "outputs": [
        {
          "output_type": "execute_result",
          "data": {
            "text/plain": [
              "array([1., 1., 0., 1., 0., 1., 1., 1., 1., 0., 0., 1., 1., 1., 0., 1., 1.,\n",
              "       1., 1., 1., 0., 0., 1., 1., 1., 0., 1., 1., 1., 1., 0., 1., 1., 0.,\n",
              "       1., 1., 1., 1., 1., 1., 0., 1., 1., 1., 1., 1., 1., 1., 0., 1., 0.,\n",
              "       0., 0., 1.])"
            ]
          },
          "metadata": {
            "tags": []
          },
          "execution_count": 109
        }
      ]
    },
    {
      "cell_type": "code",
      "metadata": {
        "id": "z-PIrFe9ShSc",
        "colab_type": "code",
        "colab": {
          "base_uri": "https://localhost:8080/",
          "height": 0
        },
        "outputId": "32f5f848-199a-47a6-9e92-bbf65f386236"
      },
      "source": [
        "s_lin_a = accuracy_score(y_test,s_lin_pred)\n",
        "s_lin_a"
      ],
      "execution_count": 110,
      "outputs": [
        {
          "output_type": "execute_result",
          "data": {
            "text/plain": [
              "0.8333333333333334"
            ]
          },
          "metadata": {
            "tags": []
          },
          "execution_count": 110
        }
      ]
    },
    {
      "cell_type": "code",
      "metadata": {
        "id": "GNoj9xUtS9np",
        "colab_type": "code",
        "colab": {
          "base_uri": "https://localhost:8080/",
          "height": 0
        },
        "outputId": "26758456-a381-4236-c1df-e79496697e55"
      },
      "source": [
        "s_lin_r2 = r2_score(y_test,s_lin_pred)\n",
        "s_lin_r2"
      ],
      "execution_count": 111,
      "outputs": [
        {
          "output_type": "execute_result",
          "data": {
            "text/plain": [
              "0.132142857142857"
            ]
          },
          "metadata": {
            "tags": []
          },
          "execution_count": 111
        }
      ]
    },
    {
      "cell_type": "code",
      "metadata": {
        "id": "Yvzt5DviTO7w",
        "colab_type": "code",
        "colab": {
          "base_uri": "https://localhost:8080/",
          "height": 0
        },
        "outputId": "821cb5cf-7053-4e77-d577-82f9a45b6628"
      },
      "source": [
        "s_lin_cmat = confusion_matrix(y_test,s_lin_pred)\n",
        "s_lin_cmat"
      ],
      "execution_count": 112,
      "outputs": [
        {
          "output_type": "execute_result",
          "data": {
            "text/plain": [
              "array([[10,  4],\n",
              "       [ 5, 35]])"
            ]
          },
          "metadata": {
            "tags": []
          },
          "execution_count": 112
        }
      ]
    },
    {
      "cell_type": "markdown",
      "metadata": {
        "id": "L8Dm8FaOTkMO",
        "colab_type": "text"
      },
      "source": [
        "# SVM CLASSIFICATION(KERNEL='RBF')"
      ]
    },
    {
      "cell_type": "code",
      "metadata": {
        "id": "3V3_dRPiTuF9",
        "colab_type": "code",
        "colab": {}
      },
      "source": [
        "from sklearn.svm import SVC"
      ],
      "execution_count": 113,
      "outputs": []
    },
    {
      "cell_type": "code",
      "metadata": {
        "id": "MUUsFXhrT20Q",
        "colab_type": "code",
        "colab": {}
      },
      "source": [
        "s_rbf = SVC(kernel='rbf')"
      ],
      "execution_count": 114,
      "outputs": []
    },
    {
      "cell_type": "code",
      "metadata": {
        "id": "COZV68QlUhfb",
        "colab_type": "code",
        "colab": {
          "base_uri": "https://localhost:8080/",
          "height": 0
        },
        "outputId": "7e0f97e0-747b-4606-f4e9-179c8562d7b1"
      },
      "source": [
        "s_rbf.fit(x_train,y_train)"
      ],
      "execution_count": 115,
      "outputs": [
        {
          "output_type": "stream",
          "text": [
            "/usr/local/lib/python3.6/dist-packages/sklearn/utils/validation.py:760: DataConversionWarning: A column-vector y was passed when a 1d array was expected. Please change the shape of y to (n_samples, ), for example using ravel().\n",
            "  y = column_or_1d(y, warn=True)\n"
          ],
          "name": "stderr"
        },
        {
          "output_type": "execute_result",
          "data": {
            "text/plain": [
              "SVC(C=1.0, break_ties=False, cache_size=200, class_weight=None, coef0=0.0,\n",
              "    decision_function_shape='ovr', degree=3, gamma='scale', kernel='rbf',\n",
              "    max_iter=-1, probability=False, random_state=None, shrinking=True,\n",
              "    tol=0.001, verbose=False)"
            ]
          },
          "metadata": {
            "tags": []
          },
          "execution_count": 115
        }
      ]
    },
    {
      "cell_type": "code",
      "metadata": {
        "id": "xFjFXXzpUvlz",
        "colab_type": "code",
        "colab": {
          "base_uri": "https://localhost:8080/",
          "height": 0
        },
        "outputId": "5a150438-8c9c-4498-d9ba-fc1bb9b2dd67"
      },
      "source": [
        "s_rbf_pred = s_rbf.predict(x_test)\n",
        "s_rbf_pred"
      ],
      "execution_count": 116,
      "outputs": [
        {
          "output_type": "execute_result",
          "data": {
            "text/plain": [
              "array([1., 1., 0., 1., 1., 1., 1., 1., 1., 0., 0., 1., 1., 1., 0., 1., 1.,\n",
              "       1., 1., 1., 0., 1., 1., 1., 1., 0., 1., 1., 1., 1., 0., 1., 1., 0.,\n",
              "       1., 1., 1., 1., 1., 1., 0., 1., 1., 1., 1., 1., 1., 1., 0., 1., 0.,\n",
              "       0., 0., 1.])"
            ]
          },
          "metadata": {
            "tags": []
          },
          "execution_count": 116
        }
      ]
    },
    {
      "cell_type": "code",
      "metadata": {
        "id": "sWdiJQZiU9kp",
        "colab_type": "code",
        "colab": {
          "base_uri": "https://localhost:8080/",
          "height": 0
        },
        "outputId": "832a257c-40af-4281-db57-03a4280fdb08"
      },
      "source": [
        "s_rbf_a = accuracy_score(y_test,s_rbf_pred)\n",
        "s_rbf_a"
      ],
      "execution_count": 117,
      "outputs": [
        {
          "output_type": "execute_result",
          "data": {
            "text/plain": [
              "0.8333333333333334"
            ]
          },
          "metadata": {
            "tags": []
          },
          "execution_count": 117
        }
      ]
    },
    {
      "cell_type": "code",
      "metadata": {
        "id": "NI1zdybGVS-Z",
        "colab_type": "code",
        "colab": {
          "base_uri": "https://localhost:8080/",
          "height": 0
        },
        "outputId": "59fda3d4-705a-4dba-9c1a-c1b404768e8d"
      },
      "source": [
        "s_rbf_r2 = r2_score(y_test,s_rbf_pred)\n",
        "s_rbf_r2"
      ],
      "execution_count": 118,
      "outputs": [
        {
          "output_type": "execute_result",
          "data": {
            "text/plain": [
              "0.132142857142857"
            ]
          },
          "metadata": {
            "tags": []
          },
          "execution_count": 118
        }
      ]
    },
    {
      "cell_type": "code",
      "metadata": {
        "id": "am0zv6A3Vor6",
        "colab_type": "code",
        "colab": {
          "base_uri": "https://localhost:8080/",
          "height": 0
        },
        "outputId": "4ea8fe87-4a89-4886-e14d-1f0e93382a8c"
      },
      "source": [
        "s_rbf_cmat = confusion_matrix(y_test,s_rbf_pred)\n",
        "s_rbf_cmat"
      ],
      "execution_count": 119,
      "outputs": [
        {
          "output_type": "execute_result",
          "data": {
            "text/plain": [
              "array([[ 9,  5],\n",
              "       [ 4, 36]])"
            ]
          },
          "metadata": {
            "tags": []
          },
          "execution_count": 119
        }
      ]
    },
    {
      "cell_type": "markdown",
      "metadata": {
        "id": "cmyfJS8CWUDR",
        "colab_type": "text"
      },
      "source": [
        "# COMPARISON OF CLASSIFICATION"
      ]
    },
    {
      "cell_type": "code",
      "metadata": {
        "id": "TGzn-saNWz--",
        "colab_type": "code",
        "colab": {
          "base_uri": "https://localhost:8080/",
          "height": 139
        },
        "outputId": "0df06991-71b6-46f7-a773-856a04966d5a"
      },
      "source": [
        "print('BY COMPARING THE CLASSIFICATION')\n",
        "print('LOGISTIC CLASSIFICATION',l_cla_a)\n",
        "print('K-NEAREST NEIGHBORS CLASSIFICATION',k_cla_a)\n",
        "print('DECISION TREE CLASSIFICATION',d_cla_a)\n",
        "print('RANDOM FOREST CLASSIFICATION',r_cla_a)\n",
        "print('SVM (KERNEL=LINEAR)',s_lin_a)\n",
        "print('SVM (KERNEL=RBF)',s_rbf_a)"
      ],
      "execution_count": 120,
      "outputs": [
        {
          "output_type": "stream",
          "text": [
            "BY COMPARING THE CLASSIFICATION\n",
            "LOGISTIC CLASSIFICATION 0.7962962962962963\n",
            "K-NEAREST NEIGHBORS CLASSIFICATION 0.8148148148148148\n",
            "DECISION TREE CLASSIFICATION 0.7777777777777778\n",
            "RANDOM FOREST CLASSIFICATION 0.7962962962962963\n",
            "SVM (KERNEL=LINEAR) 0.8333333333333334\n",
            "SVM (KERNEL=RBF) 0.8333333333333334\n"
          ],
          "name": "stdout"
        }
      ]
    },
    {
      "cell_type": "code",
      "metadata": {
        "id": "rLe-buQ_ZBPc",
        "colab_type": "code",
        "colab": {}
      },
      "source": [
        "list1 =['logistic classification','knn classification','decision tree classification','random forest classification','svm(kernel=linear)','svm(kernel=rbf)']\n",
        "list2 =[]\n",
        "list2.append(l_cla_a)\n",
        "list2.append(k_cla_a)\n",
        "list2.append(d_cla_a)\n",
        "list2.append(r_cla_a)\n",
        "list2.append(s_lin_a)\n",
        "list2.append(s_rbf_a)"
      ],
      "execution_count": 121,
      "outputs": []
    },
    {
      "cell_type": "code",
      "metadata": {
        "id": "Uzw9gTuRaxHt",
        "colab_type": "code",
        "colab": {
          "base_uri": "https://localhost:8080/",
          "height": 121
        },
        "outputId": "c75e8afb-bbf8-48e8-eb09-2b500df025b0"
      },
      "source": [
        "list1"
      ],
      "execution_count": 122,
      "outputs": [
        {
          "output_type": "execute_result",
          "data": {
            "text/plain": [
              "['logistic classification',\n",
              " 'knn classification',\n",
              " 'decision tree classification',\n",
              " 'random forest classification',\n",
              " 'svm(kernel=linear)',\n",
              " 'svm(kernel=rbf)']"
            ]
          },
          "metadata": {
            "tags": []
          },
          "execution_count": 122
        }
      ]
    },
    {
      "cell_type": "code",
      "metadata": {
        "id": "KLMSNwj6a0qU",
        "colab_type": "code",
        "colab": {
          "base_uri": "https://localhost:8080/",
          "height": 121
        },
        "outputId": "1c30340d-07e7-4ed0-bc78-fcfb6aedf2c0"
      },
      "source": [
        "list2"
      ],
      "execution_count": 123,
      "outputs": [
        {
          "output_type": "execute_result",
          "data": {
            "text/plain": [
              "[0.7962962962962963,\n",
              " 0.8148148148148148,\n",
              " 0.7777777777777778,\n",
              " 0.7962962962962963,\n",
              " 0.8333333333333334,\n",
              " 0.8333333333333334]"
            ]
          },
          "metadata": {
            "tags": []
          },
          "execution_count": 123
        }
      ]
    },
    {
      "cell_type": "code",
      "metadata": {
        "id": "QgHWoZk-a3ie",
        "colab_type": "code",
        "colab": {
          "base_uri": "https://localhost:8080/",
          "height": 227
        },
        "outputId": "e4e64983-6c3c-46f7-ffed-1b78ddcd601c"
      },
      "source": [
        "plot_accuracy = sns.barplot(x=list1,y=list2)\n",
        "plt.xlabel(list1,fontsize=20)\n",
        "plt.ylabel('accuracy',fontsize=20)\n",
        "plt.xticks(fontsize=13,horizontalalignment='center',rotation=20)\n",
        "plt.yticks(fontsize=13)\n",
        "plt.title('Comparison of Classification',horizontalalignment='center')\n",
        "plt.show()"
      ],
      "execution_count": 124,
      "outputs": [
        {
          "output_type": "display_data",
          "data": {
            "image/png": "[encoded data removed]",
            "text/plain": [
              "<Figure size 432x288 with 1 Axes>"
            ]
          },
          "metadata": {
            "tags": [],
            "needs_background": "light"
          }
        }
      ]
    },
    {
      "cell_type": "markdown",
      "metadata": {
        "id": "vRcOBrulW-yC",
        "colab_type": "text"
      },
      "source": [
        "# PREDICTION FOR NEW DATA SET "
      ]
    },
    {
      "cell_type": "code",
      "metadata": {
        "id": "VTLFonlbW-V_",
        "colab_type": "code",
        "colab": {
          "base_uri": "https://localhost:8080/",
          "height": 225
        },
        "outputId": "3300148f-8745-43f1-e8e3-0fba33a76e84"
      },
      "source": [
        "gender = str(input('ENTER THE GENDER MALE(M) OR FEMALE(F)'))\n",
        "ssc_p = float(input('ENTER THE SSLC PERCENTAGE'))\n",
        "ssc_b = str(input('ENTER SSLC BOARD CENTRAL OR OTHERS'))\n",
        "hsc_p = float(input('ENTER THE HSC PASS PERCENTAGE'))\n",
        "hsc_b = str(input('ENTER THE BOARD CENTRAL OR OTHERS'))\n",
        "hsc_s = str(input('ENTER THE SUBJECT COMMERCE/SCIENCE/ARTS'))\n",
        "degree_p = float(input('ENTER THE PASS PERCENTAGE IN DEGREE'))\n",
        "degree_t = str(input('ENTER SELECTED SUBJECT SELECTED SCI&TECH/COMM&MGMT/OTHERS'))\n",
        "workex = str(input('ENTER THE WORKEX YES/NO'))\n",
        "etest_p = float(input('ENTER THE ETEST PERCENTAGE'))\n",
        "specialisation = str(input('ENTER THE SPECIALISATION MKT&HR/MKT&FIN'))\n",
        "mba_p = float(input('ENTER THE MBA PASS PERCENTAGE'))"
      ],
      "execution_count": 125,
      "outputs": [
        {
          "output_type": "stream",
          "text": [
            "ENTER THE GENDER MALE(M) OR FEMALE(F)M\n",
            "ENTER THE SSLC PERCENTAGE90\n",
            "ENTER SSLC BOARD CENTRAL OR OTHERScentral\n",
            "ENTER THE HSC PASS PERCENTAGE86\n",
            "ENTER THE BOARD CENTRAL OR OTHERScentral\n",
            "ENTER THE SUBJECT COMMERCE/SCIENCE/ARTSscience\n",
            "ENTER THE PASS PERCENTAGE IN DEGREE85\n",
            "ENTER SELECTED SUBJECT SELECTED SCI&TECH/COMM&MGMT/OTHERSsci&tech\n",
            "ENTER THE WORKEX YES/NOyes\n",
            "ENTER THE ETEST PERCENTAGE88\n",
            "ENTER THE SPECIALISATION MKT&HR/MKT&FINmkt&hr\n",
            "ENTER THE MBA PASS PERCENTAGE90\n"
          ],
          "name": "stdout"
        }
      ]
    },
    {
      "cell_type": "markdown",
      "metadata": {
        "id": "ulcZvnxajy_r",
        "colab_type": "text"
      },
      "source": [
        "CONVERTING ALL THE STRING INPUT VALUES INTO UPPERCASE"
      ]
    },
    {
      "cell_type": "code",
      "metadata": {
        "id": "5MWNd-xW27x-",
        "colab_type": "code",
        "colab": {}
      },
      "source": [
        "gender = gender.upper()\n",
        "ssc_b = ssc_b.upper()\n",
        "hsc_b = hsc_b.upper()\n",
        "hsc_s = hsc_s.upper()\n",
        "degree_t = degree_t.upper()\n",
        "workex=workex.upper()\n",
        "specialisation = specialisation.upper()"
      ],
      "execution_count": 126,
      "outputs": []
    },
    {
      "cell_type": "markdown",
      "metadata": {
        "id": "l3wEViSgk32u",
        "colab_type": "text"
      },
      "source": [
        "PRINTING THE STRINGS CONVERTED TO UPPERCASE TO CHECK WHETHER IT IS CONVERTED OR NOT"
      ]
    },
    {
      "cell_type": "code",
      "metadata": {
        "id": "6T3Ub6Q55dk5",
        "colab_type": "code",
        "colab": {
          "base_uri": "https://localhost:8080/",
          "height": 139
        },
        "outputId": "8bdcff93-30d3-4ffe-bdd1-7388adcbeef3"
      },
      "source": [
        "i = 1\n",
        "if (i<2):\n",
        " print(gender)\n",
        " print(ssc_b)\n",
        " print(hsc_b)\n",
        " print(hsc_s)\n",
        " print(degree_t)\n",
        " print(workex)\n",
        " print(specialisation)"
      ],
      "execution_count": 127,
      "outputs": [
        {
          "output_type": "stream",
          "text": [
            "M\n",
            "CENTRAL\n",
            "CENTRAL\n",
            "SCIENCE\n",
            "SCI&TECH\n",
            "YES\n",
            "MKT&HR\n"
          ],
          "name": "stdout"
        }
      ]
    },
    {
      "cell_type": "markdown",
      "metadata": {
        "id": "KTzbCrfxlP2n",
        "colab_type": "text"
      },
      "source": [
        "ADDING ALL THE INPUT INTO A STRING "
      ]
    },
    {
      "cell_type": "code",
      "metadata": {
        "id": "-X9nO9qZgTvI",
        "colab_type": "code",
        "colab": {}
      },
      "source": [
        "check =[]\n",
        "check.append(gender)\n",
        "check.append(ssc_p)\n",
        "check.append(ssc_b)\n",
        "check.append(hsc_p)\n",
        "check.append(hsc_b)\n",
        "check.append(hsc_s)\n",
        "check.append(degree_p)\n",
        "check.append(degree_t)\n",
        "check.append(workex)\n",
        "check.append(etest_p)\n",
        "check.append(specialisation)\n",
        "check.append(mba_p)"
      ],
      "execution_count": 128,
      "outputs": []
    },
    {
      "cell_type": "markdown",
      "metadata": {
        "id": "I0bIlX-SlXZE",
        "colab_type": "text"
      },
      "source": [
        "TO CONVERT THE LIST TO ARRAY"
      ]
    },
    {
      "cell_type": "code",
      "metadata": {
        "id": "pg_i1giVmPgu",
        "colab_type": "code",
        "colab": {
          "base_uri": "https://localhost:8080/",
          "height": 52
        },
        "outputId": "f265be6a-1039-47ee-bcb9-66c198d0219b"
      },
      "source": [
        "check =np.array(check)\n",
        "a=check\n",
        "a"
      ],
      "execution_count": 129,
      "outputs": [
        {
          "output_type": "execute_result",
          "data": {
            "text/plain": [
              "array(['M', '90.0', 'CENTRAL', '86.0', 'CENTRAL', 'SCIENCE', '85.0',\n",
              "       'SCI&TECH', 'YES', '88.0', 'MKT&HR', '90.0'], dtype='<U8')"
            ]
          },
          "metadata": {
            "tags": []
          },
          "execution_count": 129
        }
      ]
    },
    {
      "cell_type": "markdown",
      "metadata": {
        "id": "s3D0cWkMD_DO",
        "colab_type": "text"
      },
      "source": [
        "ASSIGNING THE NUMERIC VALUES FOR STRING INPUTS GIVEN"
      ]
    },
    {
      "cell_type": "code",
      "metadata": {
        "id": "gNPvqxNA7AXX",
        "colab_type": "code",
        "colab": {}
      },
      "source": [
        "if a[0]=='M':\n",
        "  a[0]=0\n",
        "else:\n",
        "  a[0]=1"
      ],
      "execution_count": 130,
      "outputs": []
    },
    {
      "cell_type": "code",
      "metadata": {
        "id": "L70QwCXa7ag_",
        "colab_type": "code",
        "colab": {}
      },
      "source": [
        "if a[2]=='OTHERS':\n",
        "  a[2]=0\n",
        "else:\n",
        "  a[2]=1 "
      ],
      "execution_count": 131,
      "outputs": []
    },
    {
      "cell_type": "code",
      "metadata": {
        "id": "ZSyVzsme8UbV",
        "colab_type": "code",
        "colab": {}
      },
      "source": [
        "if a[4]=='OTHERS':\n",
        "  a[4]=0\n",
        "else:\n",
        "  a[4]=1 "
      ],
      "execution_count": 132,
      "outputs": []
    },
    {
      "cell_type": "code",
      "metadata": {
        "id": "Fuf1gc5l8waw",
        "colab_type": "code",
        "colab": {}
      },
      "source": [
        "if a[5]=='COMMERCE':\n",
        "  a[5]=0\n",
        "elif a[5]=='SCIENCE':\n",
        "  a[5]=1\n",
        "else: \n",
        "  a[5]=2  "
      ],
      "execution_count": 133,
      "outputs": []
    },
    {
      "cell_type": "code",
      "metadata": {
        "id": "Hiv7Wm779XrS",
        "colab_type": "code",
        "colab": {}
      },
      "source": [
        "if a[7]=='SCI&TECH':\n",
        "  a[7]=0\n",
        "elif a[7]=='COMM&MGMT':\n",
        "  a[7]=1\n",
        "else:\n",
        "  a[7]=2   "
      ],
      "execution_count": 134,
      "outputs": []
    },
    {
      "cell_type": "code",
      "metadata": {
        "id": "HCqBmDXc99c0",
        "colab_type": "code",
        "colab": {}
      },
      "source": [
        "if a[8]=='YES':\n",
        "  a[8]=1\n",
        "else:\n",
        "  a[8]=0 "
      ],
      "execution_count": 135,
      "outputs": []
    },
    {
      "cell_type": "code",
      "metadata": {
        "id": "0MPUD6KA-Mom",
        "colab_type": "code",
        "colab": {}
      },
      "source": [
        "if a[10]=='MKT&HR':\n",
        "  a[10]=0\n",
        "else:\n",
        "  a[10]=1 "
      ],
      "execution_count": 136,
      "outputs": []
    },
    {
      "cell_type": "code",
      "metadata": {
        "id": "d831-Ty_-Y1z",
        "colab_type": "code",
        "colab": {
          "base_uri": "https://localhost:8080/",
          "height": 52
        },
        "outputId": "22d026d2-ec47-4b12-f237-fc89ff3918a7"
      },
      "source": [
        "a"
      ],
      "execution_count": 137,
      "outputs": [
        {
          "output_type": "execute_result",
          "data": {
            "text/plain": [
              "array(['0', '90.0', '1', '86.0', '1', '1', '85.0', '0', '1', '88.0', '0',\n",
              "       '90.0'], dtype='<U8')"
            ]
          },
          "metadata": {
            "tags": []
          },
          "execution_count": 137
        }
      ]
    },
    {
      "cell_type": "markdown",
      "metadata": {
        "id": "JZjE92B7lh9J",
        "colab_type": "text"
      },
      "source": [
        "PREDICTION FOR A USER GIVEN NEW DATASET - we are predicting the new dataset using svc(kernel='linear'), svc(kernel='rbf) as we got the highest accuracy for them. "
      ]
    },
    {
      "cell_type": "code",
      "metadata": {
        "id": "XIGzmSSvy1DA",
        "colab_type": "code",
        "colab": {
          "base_uri": "https://localhost:8080/",
          "height": 35
        },
        "outputId": "a7ec150a-aa8d-4602-e0bf-08e97ef684fe"
      },
      "source": [
        " y=s_rbf.predict([a])\n",
        " y"
      ],
      "execution_count": 140,
      "outputs": [
        {
          "output_type": "execute_result",
          "data": {
            "text/plain": [
              "array([1.])"
            ]
          },
          "metadata": {
            "tags": []
          },
          "execution_count": 140
        }
      ]
    },
    {
      "cell_type": "code",
      "metadata": {
        "id": "iPmQJf5mAoSM",
        "colab_type": "code",
        "colab": {
          "base_uri": "https://localhost:8080/",
          "height": 35
        },
        "outputId": "837db4c6-e1a3-4023-cae9-2d041646a5d1"
      },
      "source": [
        "y =s_lin.predict([a])\n",
        "y"
      ],
      "execution_count": 142,
      "outputs": [
        {
          "output_type": "execute_result",
          "data": {
            "text/plain": [
              "array([1.])"
            ]
          },
          "metadata": {
            "tags": []
          },
          "execution_count": 142
        }
      ]
    }
  ]
}